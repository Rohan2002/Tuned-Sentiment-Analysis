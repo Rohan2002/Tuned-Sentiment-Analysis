{
 "cells": [
  {
   "cell_type": "code",
   "execution_count": 2,
   "metadata": {},
   "outputs": [
    {
     "name": "stdout",
     "output_type": "stream",
     "text": [
      "Tensorflow Version: 2.2.0\n",
      "[name: \"/device:CPU:0\"\n",
      "device_type: \"CPU\"\n",
      "memory_limit: 268435456\n",
      "locality {\n",
      "}\n",
      "incarnation: 8120631912214316652\n",
      ", name: \"/device:XLA_CPU:0\"\n",
      "device_type: \"XLA_CPU\"\n",
      "memory_limit: 17179869184\n",
      "locality {\n",
      "}\n",
      "incarnation: 14163087655216954026\n",
      "physical_device_desc: \"device: XLA_CPU device\"\n",
      ", name: \"/device:GPU:0\"\n",
      "device_type: \"GPU\"\n",
      "memory_limit: 3140655513\n",
      "locality {\n",
      "  bus_id: 1\n",
      "  links {\n",
      "  }\n",
      "}\n",
      "incarnation: 5689932091867122878\n",
      "physical_device_desc: \"device: 0, name: GeForce GTX 1050, pci bus id: 0000:3b:00.0, compute capability: 6.1\"\n",
      ", name: \"/device:XLA_GPU:0\"\n",
      "device_type: \"XLA_GPU\"\n",
      "memory_limit: 17179869184\n",
      "locality {\n",
      "}\n",
      "incarnation: 2560278782429340021\n",
      "physical_device_desc: \"device: XLA_GPU device\"\n",
      "]\n",
      "Num GPUs Available: 1\n"
     ]
    },
    {
     "data": {
      "application/javascript": [
       "\n",
       "            setTimeout(function() {\n",
       "                var nbb_cell_id = 2;\n",
       "                var nbb_unformatted_code = \"import numpy as np\\nimport tensorflow as tf\\nfrom tensorflow.keras.preprocessing.text import Tokenizer\\nfrom tensorflow.keras.preprocessing.sequence import pad_sequences\\nfrom tensorflow import keras\\nfrom tensorflow.python.client import device_lib\\nfrom kerastuner import HyperModel\\nfrom kerastuner.tuners import RandomSearch\\n\\n%reload_ext nb_black\\n\\nprint(\\\"Tensorflow Version:\\\", tf.__version__)\\nprint(device_lib.list_local_devices())\\nprint(\\\"Num GPUs Available:\\\", len(tf.config.experimental.list_physical_devices(\\\"GPU\\\")))\";\n",
       "                var nbb_formatted_code = \"import numpy as np\\nimport tensorflow as tf\\nfrom tensorflow.keras.preprocessing.text import Tokenizer\\nfrom tensorflow.keras.preprocessing.sequence import pad_sequences\\nfrom tensorflow import keras\\nfrom tensorflow.python.client import device_lib\\nfrom kerastuner import HyperModel\\nfrom kerastuner.tuners import RandomSearch\\n\\n%reload_ext nb_black\\n\\nprint(\\\"Tensorflow Version:\\\", tf.__version__)\\nprint(device_lib.list_local_devices())\\nprint(\\\"Num GPUs Available:\\\", len(tf.config.experimental.list_physical_devices(\\\"GPU\\\")))\";\n",
       "                var nbb_cells = Jupyter.notebook.get_cells();\n",
       "                for (var i = 0; i < nbb_cells.length; ++i) {\n",
       "                    if (nbb_cells[i].input_prompt_number == nbb_cell_id) {\n",
       "                        if (nbb_cells[i].get_text() == nbb_unformatted_code) {\n",
       "                             nbb_cells[i].set_text(nbb_formatted_code);\n",
       "                        }\n",
       "                        break;\n",
       "                    }\n",
       "                }\n",
       "            }, 500);\n",
       "            "
      ],
      "text/plain": [
       "<IPython.core.display.Javascript object>"
      ]
     },
     "metadata": {},
     "output_type": "display_data"
    }
   ],
   "source": [
    "import numpy as np\n",
    "import tensorflow as tf\n",
    "from tensorflow.keras.preprocessing.text import Tokenizer\n",
    "from tensorflow.keras.preprocessing.sequence import pad_sequences\n",
    "from tensorflow import keras\n",
    "from tensorflow.python.client import device_lib\n",
    "from kerastuner import HyperModel\n",
    "from kerastuner.tuners import RandomSearch\n",
    "\n",
    "%reload_ext nb_black\n",
    "\n",
    "print(\"Tensorflow Version:\", tf.__version__)\n",
    "print(device_lib.list_local_devices())\n",
    "print(\"Num GPUs Available:\", len(tf.config.experimental.list_physical_devices(\"GPU\")))"
   ]
  },
  {
   "cell_type": "code",
   "execution_count": 3,
   "metadata": {},
   "outputs": [
    {
     "data": {
      "application/javascript": [
       "\n",
       "            setTimeout(function() {\n",
       "                var nbb_cell_id = 3;\n",
       "                var nbb_unformatted_code = \"# Hyperparameters\\ndropout_rate = 0.2\\nvalidation_cut = 10000\\nvocab_size = 88000\\nembedding_dim = 16\\nmax_length = 256\\ntrun_type = \\\"post\\\"\\noov_tok = \\\"<OOV>\\\"\\nnum_epochs = 50\\nbatch = 512\";\n",
       "                var nbb_formatted_code = \"# Hyperparameters\\ndropout_rate = 0.2\\nvalidation_cut = 10000\\nvocab_size = 88000\\nembedding_dim = 16\\nmax_length = 256\\ntrun_type = \\\"post\\\"\\noov_tok = \\\"<OOV>\\\"\\nnum_epochs = 50\\nbatch = 512\";\n",
       "                var nbb_cells = Jupyter.notebook.get_cells();\n",
       "                for (var i = 0; i < nbb_cells.length; ++i) {\n",
       "                    if (nbb_cells[i].input_prompt_number == nbb_cell_id) {\n",
       "                        if (nbb_cells[i].get_text() == nbb_unformatted_code) {\n",
       "                             nbb_cells[i].set_text(nbb_formatted_code);\n",
       "                        }\n",
       "                        break;\n",
       "                    }\n",
       "                }\n",
       "            }, 500);\n",
       "            "
      ],
      "text/plain": [
       "<IPython.core.display.Javascript object>"
      ]
     },
     "metadata": {},
     "output_type": "display_data"
    }
   ],
   "source": [
    "# Hyperparameters\n",
    "dropout_rate = 0.2\n",
    "validation_cut = 10000\n",
    "vocab_size = 88000\n",
    "embedding_dim = 16\n",
    "max_length = 256\n",
    "trun_type = \"post\"\n",
    "oov_tok = \"<OOV>\"\n",
    "num_epochs = 50\n",
    "batch = 512"
   ]
  },
  {
   "cell_type": "code",
   "execution_count": 4,
   "metadata": {},
   "outputs": [
    {
     "name": "stdout",
     "output_type": "stream",
     "text": [
      "Downloading data from https://storage.googleapis.com/tensorflow/tf-keras-datasets/imdb.npz\n",
      "17465344/17464789 [==============================] - ETA:  - ETA:  - ETA:  - ETA:  - ETA:  - ETA:  - ETA:  - ETA:  - ETA:  - 0s 0us/step\n"
     ]
    },
    {
     "data": {
      "application/javascript": [
       "\n",
       "            setTimeout(function() {\n",
       "                var nbb_cell_id = 4;\n",
       "                var nbb_unformatted_code = \"(train_data, train_labels), (test_data, test_labels) = keras.datasets.imdb.load_data(\\n    num_words=vocab_size\\n)\";\n",
       "                var nbb_formatted_code = \"(train_data, train_labels), (test_data, test_labels) = keras.datasets.imdb.load_data(\\n    num_words=vocab_size\\n)\";\n",
       "                var nbb_cells = Jupyter.notebook.get_cells();\n",
       "                for (var i = 0; i < nbb_cells.length; ++i) {\n",
       "                    if (nbb_cells[i].input_prompt_number == nbb_cell_id) {\n",
       "                        if (nbb_cells[i].get_text() == nbb_unformatted_code) {\n",
       "                             nbb_cells[i].set_text(nbb_formatted_code);\n",
       "                        }\n",
       "                        break;\n",
       "                    }\n",
       "                }\n",
       "            }, 500);\n",
       "            "
      ],
      "text/plain": [
       "<IPython.core.display.Javascript object>"
      ]
     },
     "metadata": {},
     "output_type": "display_data"
    }
   ],
   "source": [
    "(train_data, train_labels), (test_data, test_labels) = keras.datasets.imdb.load_data(\n",
    "    num_words=vocab_size\n",
    ")"
   ]
  },
  {
   "cell_type": "code",
   "execution_count": 5,
   "metadata": {},
   "outputs": [
    {
     "name": "stdout",
     "output_type": "stream",
     "text": [
      "Downloading data from https://storage.googleapis.com/tensorflow/tf-keras-datasets/imdb_word_index.json\n",
      "1646592/1641221 [==============================] - ETA:  - ETA:  - ETA:  - 0s 0us/step\n"
     ]
    },
    {
     "data": {
      "application/javascript": [
       "\n",
       "            setTimeout(function() {\n",
       "                var nbb_cell_id = 5;\n",
       "                var nbb_unformatted_code = \"word_mapping = keras.datasets.imdb.get_word_index()\\nword_mapping = {k: v + 3 for k, v in word_mapping.items()}\";\n",
       "                var nbb_formatted_code = \"word_mapping = keras.datasets.imdb.get_word_index()\\nword_mapping = {k: v + 3 for k, v in word_mapping.items()}\";\n",
       "                var nbb_cells = Jupyter.notebook.get_cells();\n",
       "                for (var i = 0; i < nbb_cells.length; ++i) {\n",
       "                    if (nbb_cells[i].input_prompt_number == nbb_cell_id) {\n",
       "                        if (nbb_cells[i].get_text() == nbb_unformatted_code) {\n",
       "                             nbb_cells[i].set_text(nbb_formatted_code);\n",
       "                        }\n",
       "                        break;\n",
       "                    }\n",
       "                }\n",
       "            }, 500);\n",
       "            "
      ],
      "text/plain": [
       "<IPython.core.display.Javascript object>"
      ]
     },
     "metadata": {},
     "output_type": "display_data"
    }
   ],
   "source": [
    "word_mapping = keras.datasets.imdb.get_word_index()\n",
    "word_mapping = {k: v + 3 for k, v in word_mapping.items()}"
   ]
  },
  {
   "cell_type": "code",
   "execution_count": 6,
   "metadata": {},
   "outputs": [
    {
     "data": {
      "application/javascript": [
       "\n",
       "            setTimeout(function() {\n",
       "                var nbb_cell_id = 6;\n",
       "                var nbb_unformatted_code = \"# Add Invalid keys\\nword_mapping[\\\"<PAD>\\\"] = 0\\nword_mapping[\\\"<START>\\\"] = 1\\nword_mapping[\\\"<UNK>\\\"] = 2\\nword_mapping[\\\"<UNUSED>\\\"] = 3\";\n",
       "                var nbb_formatted_code = \"# Add Invalid keys\\nword_mapping[\\\"<PAD>\\\"] = 0\\nword_mapping[\\\"<START>\\\"] = 1\\nword_mapping[\\\"<UNK>\\\"] = 2\\nword_mapping[\\\"<UNUSED>\\\"] = 3\";\n",
       "                var nbb_cells = Jupyter.notebook.get_cells();\n",
       "                for (var i = 0; i < nbb_cells.length; ++i) {\n",
       "                    if (nbb_cells[i].input_prompt_number == nbb_cell_id) {\n",
       "                        if (nbb_cells[i].get_text() == nbb_unformatted_code) {\n",
       "                             nbb_cells[i].set_text(nbb_formatted_code);\n",
       "                        }\n",
       "                        break;\n",
       "                    }\n",
       "                }\n",
       "            }, 500);\n",
       "            "
      ],
      "text/plain": [
       "<IPython.core.display.Javascript object>"
      ]
     },
     "metadata": {},
     "output_type": "display_data"
    }
   ],
   "source": [
    "# Add Invalid keys\n",
    "word_mapping[\"<PAD>\"] = 0\n",
    "word_mapping[\"<START>\"] = 1\n",
    "word_mapping[\"<UNK>\"] = 2\n",
    "word_mapping[\"<UNUSED>\"] = 3"
   ]
  },
  {
   "cell_type": "code",
   "execution_count": 7,
   "metadata": {},
   "outputs": [
    {
     "name": "stdout",
     "output_type": "stream",
     "text": [
      "[1, 591, 202, 14, 31, 6, 717, 10, 10, 18142, 10698, 5, 4, 360, 7, 4, 177, 5760, 394, 354, 4, 123, 9, 1035, 1035, 1035, 10, 10, 13, 92, 124, 89, 488, 7944, 100, 28, 1668, 14, 31, 23, 27, 7479, 29, 220, 468, 8, 124, 14, 286, 170, 8, 157, 46, 5, 27, 239, 16, 179, 15387, 38, 32, 25, 7944, 451, 202, 14, 6, 717]\n"
     ]
    },
    {
     "data": {
      "text/plain": [
       "\"<START> please give this one a miss br br kristy swanson and the rest of the cast rendered terrible performances the show is flat flat flat br br i don't know how michael madison could have allowed this one on his plate he almost seemed to know this wasn't going to work out and his performance was quite lacklustre so all you madison fans give this a miss\""
      ]
     },
     "execution_count": 7,
     "metadata": {},
     "output_type": "execute_result"
    },
    {
     "data": {
      "application/javascript": [
       "\n",
       "            setTimeout(function() {\n",
       "                var nbb_cell_id = 7;\n",
       "                var nbb_unformatted_code = \"reverse_word_index = dict((value, key) for (key, value) in word_mapping.items())\\n\\n\\ndef decode_review(text):\\n    return \\\" \\\".join([reverse_word_index.get(i, \\\"?\\\") for i in text])\\n\\n\\nprint(test_data[0])\\ndecode_review(test_data[0])\";\n",
       "                var nbb_formatted_code = \"reverse_word_index = dict((value, key) for (key, value) in word_mapping.items())\\n\\n\\ndef decode_review(text):\\n    return \\\" \\\".join([reverse_word_index.get(i, \\\"?\\\") for i in text])\\n\\n\\nprint(test_data[0])\\ndecode_review(test_data[0])\";\n",
       "                var nbb_cells = Jupyter.notebook.get_cells();\n",
       "                for (var i = 0; i < nbb_cells.length; ++i) {\n",
       "                    if (nbb_cells[i].input_prompt_number == nbb_cell_id) {\n",
       "                        if (nbb_cells[i].get_text() == nbb_unformatted_code) {\n",
       "                             nbb_cells[i].set_text(nbb_formatted_code);\n",
       "                        }\n",
       "                        break;\n",
       "                    }\n",
       "                }\n",
       "            }, 500);\n",
       "            "
      ],
      "text/plain": [
       "<IPython.core.display.Javascript object>"
      ]
     },
     "metadata": {},
     "output_type": "display_data"
    }
   ],
   "source": [
    "reverse_word_index = dict((value, key) for (key, value) in word_mapping.items())\n",
    "\n",
    "\n",
    "def decode_review(text):\n",
    "    return \" \".join([reverse_word_index.get(i, \"?\") for i in text])\n",
    "\n",
    "\n",
    "print(test_data[0])\n",
    "decode_review(test_data[0])"
   ]
  },
  {
   "cell_type": "code",
   "execution_count": 8,
   "metadata": {},
   "outputs": [
    {
     "data": {
      "application/javascript": [
       "\n",
       "            setTimeout(function() {\n",
       "                var nbb_cell_id = 8;\n",
       "                var nbb_unformatted_code = \"train_data = pad_sequences(\\n    train_data, maxlen=max_length, truncating=trun_type, value=word_mapping[\\\"<PAD>\\\"]\\n)\\ntest_data = pad_sequences(\\n    test_data, maxlen=max_length, truncating=trun_type, value=word_mapping[\\\"<PAD>\\\"]\\n)\";\n",
       "                var nbb_formatted_code = \"train_data = pad_sequences(\\n    train_data, maxlen=max_length, truncating=trun_type, value=word_mapping[\\\"<PAD>\\\"]\\n)\\ntest_data = pad_sequences(\\n    test_data, maxlen=max_length, truncating=trun_type, value=word_mapping[\\\"<PAD>\\\"]\\n)\";\n",
       "                var nbb_cells = Jupyter.notebook.get_cells();\n",
       "                for (var i = 0; i < nbb_cells.length; ++i) {\n",
       "                    if (nbb_cells[i].input_prompt_number == nbb_cell_id) {\n",
       "                        if (nbb_cells[i].get_text() == nbb_unformatted_code) {\n",
       "                             nbb_cells[i].set_text(nbb_formatted_code);\n",
       "                        }\n",
       "                        break;\n",
       "                    }\n",
       "                }\n",
       "            }, 500);\n",
       "            "
      ],
      "text/plain": [
       "<IPython.core.display.Javascript object>"
      ]
     },
     "metadata": {},
     "output_type": "display_data"
    }
   ],
   "source": [
    "train_data = pad_sequences(\n",
    "    train_data, maxlen=max_length, truncating=trun_type, value=word_mapping[\"<PAD>\"]\n",
    ")\n",
    "test_data = pad_sequences(\n",
    "    test_data, maxlen=max_length, truncating=trun_type, value=word_mapping[\"<PAD>\"]\n",
    ")"
   ]
  },
  {
   "cell_type": "code",
   "execution_count": 9,
   "metadata": {},
   "outputs": [
    {
     "data": {
      "application/javascript": [
       "\n",
       "            setTimeout(function() {\n",
       "                var nbb_cell_id = 9;\n",
       "                var nbb_unformatted_code = \"x_train = train_data[validation_cut:]\\nx_val = train_data[:validation_cut]\\ny_train = train_labels[validation_cut:]\\ny_val = train_labels[:validation_cut]\";\n",
       "                var nbb_formatted_code = \"x_train = train_data[validation_cut:]\\nx_val = train_data[:validation_cut]\\ny_train = train_labels[validation_cut:]\\ny_val = train_labels[:validation_cut]\";\n",
       "                var nbb_cells = Jupyter.notebook.get_cells();\n",
       "                for (var i = 0; i < nbb_cells.length; ++i) {\n",
       "                    if (nbb_cells[i].input_prompt_number == nbb_cell_id) {\n",
       "                        if (nbb_cells[i].get_text() == nbb_unformatted_code) {\n",
       "                             nbb_cells[i].set_text(nbb_formatted_code);\n",
       "                        }\n",
       "                        break;\n",
       "                    }\n",
       "                }\n",
       "            }, 500);\n",
       "            "
      ],
      "text/plain": [
       "<IPython.core.display.Javascript object>"
      ]
     },
     "metadata": {},
     "output_type": "display_data"
    }
   ],
   "source": [
    "x_train = train_data[validation_cut:]\n",
    "x_val = train_data[:validation_cut]\n",
    "y_train = train_labels[validation_cut:]\n",
    "y_val = train_labels[:validation_cut]"
   ]
  },
  {
   "cell_type": "code",
   "execution_count": 16,
   "metadata": {},
   "outputs": [
    {
     "data": {
      "application/javascript": [
       "\n",
       "            setTimeout(function() {\n",
       "                var nbb_cell_id = 16;\n",
       "                var nbb_unformatted_code = \"class RegressionHyperModel(HyperModel):\\n    def __init__(self, input_shape):\\n        self.input_shape = input_shape\\n\\n    def build(self, hp):\\n        model = keras.Sequential()\\n        model.add(keras.layers.Embedding(vocab_size, embedding_dim))\\n        model.add(keras.layers.GlobalAveragePooling1D())\\n        model.add(\\n            keras.layers.Dense(\\n                embedding_dim,\\n                activation=hp.Choice(\\n                    \\\"dense_activation\\\",\\n                    values=[\\\"relu\\\", \\\"tanh\\\", \\\"sigmoid\\\"],\\n                    default=\\\"relu\\\",\\n                ),\\n            )\\n        )\\n        model.add(\\n            keras.layers.Dropout(\\n                rate=hp.Float(\\n                    \\\"dropout\\\", min_value=0, max_value=1.0, default=0.1, step=0.1\\n                )\\n            )\\n        )\\n        model.add(keras.layers.Dense(1, activation=\\\"sigmoid\\\"))\\n\\n        model.compile(\\n            loss=\\\"binary_crossentropy\\\",\\n            optimizer=keras.optimizers.Adam(\\n                hp.Float(\\n                    \\\"learning_rate\\\",\\n                    min_value=1e-4,\\n                    max_value=1e-1,\\n                    sampling=\\\"LOG\\\",\\n                    default=1e-3,\\n                )\\n            ),\\n            metrics=[\\\"accuracy\\\"],\\n        )\\n        return model\";\n",
       "                var nbb_formatted_code = \"class RegressionHyperModel(HyperModel):\\n    def __init__(self, input_shape):\\n        self.input_shape = input_shape\\n\\n    def build(self, hp):\\n        model = keras.Sequential()\\n        model.add(keras.layers.Embedding(vocab_size, embedding_dim))\\n        model.add(keras.layers.GlobalAveragePooling1D())\\n        model.add(\\n            keras.layers.Dense(\\n                embedding_dim,\\n                activation=hp.Choice(\\n                    \\\"dense_activation\\\",\\n                    values=[\\\"relu\\\", \\\"tanh\\\", \\\"sigmoid\\\"],\\n                    default=\\\"relu\\\",\\n                ),\\n            )\\n        )\\n        model.add(\\n            keras.layers.Dropout(\\n                rate=hp.Float(\\n                    \\\"dropout\\\", min_value=0, max_value=1.0, default=0.1, step=0.1\\n                )\\n            )\\n        )\\n        model.add(keras.layers.Dense(1, activation=\\\"sigmoid\\\"))\\n\\n        model.compile(\\n            loss=\\\"binary_crossentropy\\\",\\n            optimizer=keras.optimizers.Adam(\\n                hp.Float(\\n                    \\\"learning_rate\\\",\\n                    min_value=1e-4,\\n                    max_value=1e-1,\\n                    sampling=\\\"LOG\\\",\\n                    default=1e-3,\\n                )\\n            ),\\n            metrics=[\\\"accuracy\\\"],\\n        )\\n        return model\";\n",
       "                var nbb_cells = Jupyter.notebook.get_cells();\n",
       "                for (var i = 0; i < nbb_cells.length; ++i) {\n",
       "                    if (nbb_cells[i].input_prompt_number == nbb_cell_id) {\n",
       "                        if (nbb_cells[i].get_text() == nbb_unformatted_code) {\n",
       "                             nbb_cells[i].set_text(nbb_formatted_code);\n",
       "                        }\n",
       "                        break;\n",
       "                    }\n",
       "                }\n",
       "            }, 500);\n",
       "            "
      ],
      "text/plain": [
       "<IPython.core.display.Javascript object>"
      ]
     },
     "metadata": {},
     "output_type": "display_data"
    }
   ],
   "source": [
    "class RegressionHyperModel(HyperModel):\n",
    "    def __init__(self, input_shape):\n",
    "        self.input_shape = input_shape\n",
    "\n",
    "    def build(self, hp):\n",
    "        model = keras.Sequential()\n",
    "        model.add(keras.layers.Embedding(vocab_size, embedding_dim))\n",
    "        model.add(keras.layers.GlobalAveragePooling1D())\n",
    "        model.add(\n",
    "            keras.layers.Dense(\n",
    "                embedding_dim,\n",
    "                activation=hp.Choice(\n",
    "                    \"dense_activation\",\n",
    "                    values=[\"relu\", \"tanh\", \"sigmoid\"],\n",
    "                    default=\"relu\",\n",
    "                ),\n",
    "            )\n",
    "        )\n",
    "        model.add(\n",
    "            keras.layers.Dropout(\n",
    "                rate=hp.Float(\n",
    "                    \"dropout\", min_value=0, max_value=1.0, default=0.1, step=0.1\n",
    "                )\n",
    "            )\n",
    "        )\n",
    "        model.add(keras.layers.Dense(1, activation=\"sigmoid\"))\n",
    "\n",
    "        model.compile(\n",
    "            loss=\"binary_crossentropy\",\n",
    "            optimizer=keras.optimizers.Adam(\n",
    "                hp.Float(\n",
    "                    \"learning_rate\",\n",
    "                    min_value=1e-4,\n",
    "                    max_value=1e-1,\n",
    "                    sampling=\"LOG\",\n",
    "                    default=1e-3,\n",
    "                )\n",
    "            ),\n",
    "            metrics=[\"accuracy\"],\n",
    "        )\n",
    "        return model"
   ]
  },
  {
   "cell_type": "code",
   "execution_count": 17,
   "metadata": {},
   "outputs": [
    {
     "name": "stdout",
     "output_type": "stream",
     "text": [
      "INFO:tensorflow:Reloading Oracle from existing project .\\hyperparameters\\oracle.json\n",
      "INFO:tensorflow:Reloading Tuner from .\\hyperparameters\\tuner0.json\n"
     ]
    },
    {
     "name": "stderr",
     "output_type": "stream",
     "text": [
      "Traceback (most recent call last):\n",
      "  File \"C:\\Users\\rohan\\anaconda3\\envs\\tensorflowgpu\\lib\\site-packages\\kerastuner\\engine\\hypermodel.py\", line 105, in build\n",
      "    model = self.hypermodel.build(hp)\n",
      "  File \"<ipython-input-16-6918dcaa7f09>\", line 22, in build\n",
      "    \"dropout\", min_value=0, max_value=1.0, default=0.1, step=0.1\n",
      "  File \"C:\\Users\\rohan\\anaconda3\\envs\\tensorflowgpu\\lib\\site-packages\\tensorflow\\python\\training\\tracking\\base.py\", line 456, in _method_wrapper\n",
      "    result = method(self, *args, **kwargs)\n",
      "  File \"C:\\Users\\rohan\\anaconda3\\envs\\tensorflowgpu\\lib\\site-packages\\tensorflow\\python\\keras\\engine\\sequential.py\", line 213, in add\n",
      "    output_tensor = layer(self.outputs[0])\n",
      "  File \"C:\\Users\\rohan\\anaconda3\\envs\\tensorflowgpu\\lib\\site-packages\\tensorflow\\python\\keras\\engine\\base_layer.py\", line 922, in __call__\n",
      "    outputs = call_fn(cast_inputs, *args, **kwargs)\n",
      "  File \"C:\\Users\\rohan\\anaconda3\\envs\\tensorflowgpu\\lib\\site-packages\\tensorflow\\python\\keras\\layers\\core.py\", line 211, in call\n",
      "    lambda: array_ops.identity(inputs))\n",
      "  File \"C:\\Users\\rohan\\anaconda3\\envs\\tensorflowgpu\\lib\\site-packages\\tensorflow\\python\\keras\\utils\\tf_utils.py\", line 65, in smart_cond\n",
      "    pred, true_fn=true_fn, false_fn=false_fn, name=name)\n",
      "  File \"C:\\Users\\rohan\\anaconda3\\envs\\tensorflowgpu\\lib\\site-packages\\tensorflow\\python\\framework\\smart_cond.py\", line 59, in smart_cond\n",
      "    name=name)\n",
      "  File \"C:\\Users\\rohan\\anaconda3\\envs\\tensorflowgpu\\lib\\site-packages\\tensorflow\\python\\util\\deprecation.py\", line 507, in new_func\n",
      "    return func(*args, **kwargs)\n",
      "  File \"C:\\Users\\rohan\\anaconda3\\envs\\tensorflowgpu\\lib\\site-packages\\tensorflow\\python\\ops\\control_flow_ops.py\", line 1177, in cond\n",
      "    return cond_v2.cond_v2(pred, true_fn, false_fn, name)\n",
      "  File \"C:\\Users\\rohan\\anaconda3\\envs\\tensorflowgpu\\lib\\site-packages\\tensorflow\\python\\ops\\cond_v2.py\", line 84, in cond_v2\n",
      "    op_return_value=pred)\n",
      "  File \"C:\\Users\\rohan\\anaconda3\\envs\\tensorflowgpu\\lib\\site-packages\\tensorflow\\python\\framework\\func_graph.py\", line 981, in func_graph_from_py_func\n",
      "    func_outputs = python_func(*func_args, **func_kwargs)\n",
      "  File \"C:\\Users\\rohan\\anaconda3\\envs\\tensorflowgpu\\lib\\site-packages\\tensorflow\\python\\keras\\layers\\core.py\", line 207, in dropped_inputs\n",
      "    rate=self.rate)\n",
      "  File \"C:\\Users\\rohan\\anaconda3\\envs\\tensorflowgpu\\lib\\site-packages\\tensorflow\\python\\util\\deprecation.py\", line 507, in new_func\n",
      "    return func(*args, **kwargs)\n",
      "  File \"C:\\Users\\rohan\\anaconda3\\envs\\tensorflowgpu\\lib\\site-packages\\tensorflow\\python\\ops\\nn_ops.py\", line 4343, in dropout\n",
      "    return dropout_v2(x, rate, noise_shape=noise_shape, seed=seed, name=name)\n",
      "  File \"C:\\Users\\rohan\\anaconda3\\envs\\tensorflowgpu\\lib\\site-packages\\tensorflow\\python\\ops\\nn_ops.py\", line 4423, in dropout_v2\n",
      "    \"range [0, 1), got %g\" % rate)\n",
      "ValueError: rate must be a scalar tensor or a float in the range [0, 1), got 1\n"
     ]
    },
    {
     "data": {
      "text/html": [
       "<span style=\"color:yellow\">[Warning] Invalid model 0/5</span>"
      ],
      "text/plain": [
       "<IPython.core.display.HTML object>"
      ]
     },
     "metadata": {},
     "output_type": "display_data"
    },
    {
     "name": "stderr",
     "output_type": "stream",
     "text": [
      "Traceback (most recent call last):\n",
      "  File \"C:\\Users\\rohan\\anaconda3\\envs\\tensorflowgpu\\lib\\site-packages\\kerastuner\\engine\\hypermodel.py\", line 105, in build\n",
      "    model = self.hypermodel.build(hp)\n",
      "  File \"<ipython-input-16-6918dcaa7f09>\", line 22, in build\n",
      "    \"dropout\", min_value=0, max_value=1.0, default=0.1, step=0.1\n",
      "  File \"C:\\Users\\rohan\\anaconda3\\envs\\tensorflowgpu\\lib\\site-packages\\tensorflow\\python\\training\\tracking\\base.py\", line 456, in _method_wrapper\n",
      "    result = method(self, *args, **kwargs)\n",
      "  File \"C:\\Users\\rohan\\anaconda3\\envs\\tensorflowgpu\\lib\\site-packages\\tensorflow\\python\\keras\\engine\\sequential.py\", line 213, in add\n",
      "    output_tensor = layer(self.outputs[0])\n",
      "  File \"C:\\Users\\rohan\\anaconda3\\envs\\tensorflowgpu\\lib\\site-packages\\tensorflow\\python\\keras\\engine\\base_layer.py\", line 922, in __call__\n",
      "    outputs = call_fn(cast_inputs, *args, **kwargs)\n",
      "  File \"C:\\Users\\rohan\\anaconda3\\envs\\tensorflowgpu\\lib\\site-packages\\tensorflow\\python\\keras\\layers\\core.py\", line 211, in call\n",
      "    lambda: array_ops.identity(inputs))\n",
      "  File \"C:\\Users\\rohan\\anaconda3\\envs\\tensorflowgpu\\lib\\site-packages\\tensorflow\\python\\keras\\utils\\tf_utils.py\", line 65, in smart_cond\n",
      "    pred, true_fn=true_fn, false_fn=false_fn, name=name)\n",
      "  File \"C:\\Users\\rohan\\anaconda3\\envs\\tensorflowgpu\\lib\\site-packages\\tensorflow\\python\\framework\\smart_cond.py\", line 59, in smart_cond\n",
      "    name=name)\n",
      "  File \"C:\\Users\\rohan\\anaconda3\\envs\\tensorflowgpu\\lib\\site-packages\\tensorflow\\python\\util\\deprecation.py\", line 507, in new_func\n",
      "    return func(*args, **kwargs)\n",
      "  File \"C:\\Users\\rohan\\anaconda3\\envs\\tensorflowgpu\\lib\\site-packages\\tensorflow\\python\\ops\\control_flow_ops.py\", line 1177, in cond\n",
      "    return cond_v2.cond_v2(pred, true_fn, false_fn, name)\n",
      "  File \"C:\\Users\\rohan\\anaconda3\\envs\\tensorflowgpu\\lib\\site-packages\\tensorflow\\python\\ops\\cond_v2.py\", line 84, in cond_v2\n",
      "    op_return_value=pred)\n",
      "  File \"C:\\Users\\rohan\\anaconda3\\envs\\tensorflowgpu\\lib\\site-packages\\tensorflow\\python\\framework\\func_graph.py\", line 981, in func_graph_from_py_func\n",
      "    func_outputs = python_func(*func_args, **func_kwargs)\n",
      "  File \"C:\\Users\\rohan\\anaconda3\\envs\\tensorflowgpu\\lib\\site-packages\\tensorflow\\python\\keras\\layers\\core.py\", line 207, in dropped_inputs\n",
      "    rate=self.rate)\n",
      "  File \"C:\\Users\\rohan\\anaconda3\\envs\\tensorflowgpu\\lib\\site-packages\\tensorflow\\python\\util\\deprecation.py\", line 507, in new_func\n",
      "    return func(*args, **kwargs)\n",
      "  File \"C:\\Users\\rohan\\anaconda3\\envs\\tensorflowgpu\\lib\\site-packages\\tensorflow\\python\\ops\\nn_ops.py\", line 4343, in dropout\n",
      "    return dropout_v2(x, rate, noise_shape=noise_shape, seed=seed, name=name)\n",
      "  File \"C:\\Users\\rohan\\anaconda3\\envs\\tensorflowgpu\\lib\\site-packages\\tensorflow\\python\\ops\\nn_ops.py\", line 4423, in dropout_v2\n",
      "    \"range [0, 1), got %g\" % rate)\n",
      "ValueError: rate must be a scalar tensor or a float in the range [0, 1), got 1\n"
     ]
    },
    {
     "data": {
      "text/html": [
       "<span style=\"color:yellow\">[Warning] Invalid model 1/5</span>"
      ],
      "text/plain": [
       "<IPython.core.display.HTML object>"
      ]
     },
     "metadata": {},
     "output_type": "display_data"
    },
    {
     "name": "stderr",
     "output_type": "stream",
     "text": [
      "Traceback (most recent call last):\n",
      "  File \"C:\\Users\\rohan\\anaconda3\\envs\\tensorflowgpu\\lib\\site-packages\\kerastuner\\engine\\hypermodel.py\", line 105, in build\n",
      "    model = self.hypermodel.build(hp)\n",
      "  File \"<ipython-input-16-6918dcaa7f09>\", line 22, in build\n",
      "    \"dropout\", min_value=0, max_value=1.0, default=0.1, step=0.1\n",
      "  File \"C:\\Users\\rohan\\anaconda3\\envs\\tensorflowgpu\\lib\\site-packages\\tensorflow\\python\\training\\tracking\\base.py\", line 456, in _method_wrapper\n",
      "    result = method(self, *args, **kwargs)\n",
      "  File \"C:\\Users\\rohan\\anaconda3\\envs\\tensorflowgpu\\lib\\site-packages\\tensorflow\\python\\keras\\engine\\sequential.py\", line 213, in add\n",
      "    output_tensor = layer(self.outputs[0])\n",
      "  File \"C:\\Users\\rohan\\anaconda3\\envs\\tensorflowgpu\\lib\\site-packages\\tensorflow\\python\\keras\\engine\\base_layer.py\", line 922, in __call__\n",
      "    outputs = call_fn(cast_inputs, *args, **kwargs)\n",
      "  File \"C:\\Users\\rohan\\anaconda3\\envs\\tensorflowgpu\\lib\\site-packages\\tensorflow\\python\\keras\\layers\\core.py\", line 211, in call\n",
      "    lambda: array_ops.identity(inputs))\n",
      "  File \"C:\\Users\\rohan\\anaconda3\\envs\\tensorflowgpu\\lib\\site-packages\\tensorflow\\python\\keras\\utils\\tf_utils.py\", line 65, in smart_cond\n",
      "    pred, true_fn=true_fn, false_fn=false_fn, name=name)\n",
      "  File \"C:\\Users\\rohan\\anaconda3\\envs\\tensorflowgpu\\lib\\site-packages\\tensorflow\\python\\framework\\smart_cond.py\", line 59, in smart_cond\n",
      "    name=name)\n",
      "  File \"C:\\Users\\rohan\\anaconda3\\envs\\tensorflowgpu\\lib\\site-packages\\tensorflow\\python\\util\\deprecation.py\", line 507, in new_func\n",
      "    return func(*args, **kwargs)\n",
      "  File \"C:\\Users\\rohan\\anaconda3\\envs\\tensorflowgpu\\lib\\site-packages\\tensorflow\\python\\ops\\control_flow_ops.py\", line 1177, in cond\n",
      "    return cond_v2.cond_v2(pred, true_fn, false_fn, name)\n",
      "  File \"C:\\Users\\rohan\\anaconda3\\envs\\tensorflowgpu\\lib\\site-packages\\tensorflow\\python\\ops\\cond_v2.py\", line 84, in cond_v2\n",
      "    op_return_value=pred)\n",
      "  File \"C:\\Users\\rohan\\anaconda3\\envs\\tensorflowgpu\\lib\\site-packages\\tensorflow\\python\\framework\\func_graph.py\", line 981, in func_graph_from_py_func\n",
      "    func_outputs = python_func(*func_args, **func_kwargs)\n",
      "  File \"C:\\Users\\rohan\\anaconda3\\envs\\tensorflowgpu\\lib\\site-packages\\tensorflow\\python\\keras\\layers\\core.py\", line 207, in dropped_inputs\n",
      "    rate=self.rate)\n",
      "  File \"C:\\Users\\rohan\\anaconda3\\envs\\tensorflowgpu\\lib\\site-packages\\tensorflow\\python\\util\\deprecation.py\", line 507, in new_func\n",
      "    return func(*args, **kwargs)\n",
      "  File \"C:\\Users\\rohan\\anaconda3\\envs\\tensorflowgpu\\lib\\site-packages\\tensorflow\\python\\ops\\nn_ops.py\", line 4343, in dropout\n",
      "    return dropout_v2(x, rate, noise_shape=noise_shape, seed=seed, name=name)\n",
      "  File \"C:\\Users\\rohan\\anaconda3\\envs\\tensorflowgpu\\lib\\site-packages\\tensorflow\\python\\ops\\nn_ops.py\", line 4423, in dropout_v2\n",
      "    \"range [0, 1), got %g\" % rate)\n",
      "ValueError: rate must be a scalar tensor or a float in the range [0, 1), got 1\n"
     ]
    },
    {
     "data": {
      "text/html": [
       "<span style=\"color:yellow\">[Warning] Invalid model 2/5</span>"
      ],
      "text/plain": [
       "<IPython.core.display.HTML object>"
      ]
     },
     "metadata": {},
     "output_type": "display_data"
    },
    {
     "name": "stderr",
     "output_type": "stream",
     "text": [
      "Traceback (most recent call last):\n",
      "  File \"C:\\Users\\rohan\\anaconda3\\envs\\tensorflowgpu\\lib\\site-packages\\kerastuner\\engine\\hypermodel.py\", line 105, in build\n",
      "    model = self.hypermodel.build(hp)\n",
      "  File \"<ipython-input-16-6918dcaa7f09>\", line 22, in build\n",
      "    \"dropout\", min_value=0, max_value=1.0, default=0.1, step=0.1\n",
      "  File \"C:\\Users\\rohan\\anaconda3\\envs\\tensorflowgpu\\lib\\site-packages\\tensorflow\\python\\training\\tracking\\base.py\", line 456, in _method_wrapper\n",
      "    result = method(self, *args, **kwargs)\n",
      "  File \"C:\\Users\\rohan\\anaconda3\\envs\\tensorflowgpu\\lib\\site-packages\\tensorflow\\python\\keras\\engine\\sequential.py\", line 213, in add\n",
      "    output_tensor = layer(self.outputs[0])\n",
      "  File \"C:\\Users\\rohan\\anaconda3\\envs\\tensorflowgpu\\lib\\site-packages\\tensorflow\\python\\keras\\engine\\base_layer.py\", line 922, in __call__\n",
      "    outputs = call_fn(cast_inputs, *args, **kwargs)\n",
      "  File \"C:\\Users\\rohan\\anaconda3\\envs\\tensorflowgpu\\lib\\site-packages\\tensorflow\\python\\keras\\layers\\core.py\", line 211, in call\n",
      "    lambda: array_ops.identity(inputs))\n",
      "  File \"C:\\Users\\rohan\\anaconda3\\envs\\tensorflowgpu\\lib\\site-packages\\tensorflow\\python\\keras\\utils\\tf_utils.py\", line 65, in smart_cond\n",
      "    pred, true_fn=true_fn, false_fn=false_fn, name=name)\n",
      "  File \"C:\\Users\\rohan\\anaconda3\\envs\\tensorflowgpu\\lib\\site-packages\\tensorflow\\python\\framework\\smart_cond.py\", line 59, in smart_cond\n",
      "    name=name)\n",
      "  File \"C:\\Users\\rohan\\anaconda3\\envs\\tensorflowgpu\\lib\\site-packages\\tensorflow\\python\\util\\deprecation.py\", line 507, in new_func\n",
      "    return func(*args, **kwargs)\n",
      "  File \"C:\\Users\\rohan\\anaconda3\\envs\\tensorflowgpu\\lib\\site-packages\\tensorflow\\python\\ops\\control_flow_ops.py\", line 1177, in cond\n",
      "    return cond_v2.cond_v2(pred, true_fn, false_fn, name)\n",
      "  File \"C:\\Users\\rohan\\anaconda3\\envs\\tensorflowgpu\\lib\\site-packages\\tensorflow\\python\\ops\\cond_v2.py\", line 84, in cond_v2\n",
      "    op_return_value=pred)\n",
      "  File \"C:\\Users\\rohan\\anaconda3\\envs\\tensorflowgpu\\lib\\site-packages\\tensorflow\\python\\framework\\func_graph.py\", line 981, in func_graph_from_py_func\n",
      "    func_outputs = python_func(*func_args, **func_kwargs)\n",
      "  File \"C:\\Users\\rohan\\anaconda3\\envs\\tensorflowgpu\\lib\\site-packages\\tensorflow\\python\\keras\\layers\\core.py\", line 207, in dropped_inputs\n",
      "    rate=self.rate)\n",
      "  File \"C:\\Users\\rohan\\anaconda3\\envs\\tensorflowgpu\\lib\\site-packages\\tensorflow\\python\\util\\deprecation.py\", line 507, in new_func\n",
      "    return func(*args, **kwargs)\n",
      "  File \"C:\\Users\\rohan\\anaconda3\\envs\\tensorflowgpu\\lib\\site-packages\\tensorflow\\python\\ops\\nn_ops.py\", line 4343, in dropout\n",
      "    return dropout_v2(x, rate, noise_shape=noise_shape, seed=seed, name=name)\n",
      "  File \"C:\\Users\\rohan\\anaconda3\\envs\\tensorflowgpu\\lib\\site-packages\\tensorflow\\python\\ops\\nn_ops.py\", line 4423, in dropout_v2\n",
      "    \"range [0, 1), got %g\" % rate)\n",
      "ValueError: rate must be a scalar tensor or a float in the range [0, 1), got 1\n"
     ]
    },
    {
     "data": {
      "text/html": [
       "<span style=\"color:yellow\">[Warning] Invalid model 3/5</span>"
      ],
      "text/plain": [
       "<IPython.core.display.HTML object>"
      ]
     },
     "metadata": {},
     "output_type": "display_data"
    },
    {
     "name": "stderr",
     "output_type": "stream",
     "text": [
      "Traceback (most recent call last):\n",
      "  File \"C:\\Users\\rohan\\anaconda3\\envs\\tensorflowgpu\\lib\\site-packages\\kerastuner\\engine\\hypermodel.py\", line 105, in build\n",
      "    model = self.hypermodel.build(hp)\n",
      "  File \"<ipython-input-16-6918dcaa7f09>\", line 22, in build\n",
      "    \"dropout\", min_value=0, max_value=1.0, default=0.1, step=0.1\n",
      "  File \"C:\\Users\\rohan\\anaconda3\\envs\\tensorflowgpu\\lib\\site-packages\\tensorflow\\python\\training\\tracking\\base.py\", line 456, in _method_wrapper\n",
      "    result = method(self, *args, **kwargs)\n",
      "  File \"C:\\Users\\rohan\\anaconda3\\envs\\tensorflowgpu\\lib\\site-packages\\tensorflow\\python\\keras\\engine\\sequential.py\", line 213, in add\n",
      "    output_tensor = layer(self.outputs[0])\n",
      "  File \"C:\\Users\\rohan\\anaconda3\\envs\\tensorflowgpu\\lib\\site-packages\\tensorflow\\python\\keras\\engine\\base_layer.py\", line 922, in __call__\n",
      "    outputs = call_fn(cast_inputs, *args, **kwargs)\n",
      "  File \"C:\\Users\\rohan\\anaconda3\\envs\\tensorflowgpu\\lib\\site-packages\\tensorflow\\python\\keras\\layers\\core.py\", line 211, in call\n",
      "    lambda: array_ops.identity(inputs))\n",
      "  File \"C:\\Users\\rohan\\anaconda3\\envs\\tensorflowgpu\\lib\\site-packages\\tensorflow\\python\\keras\\utils\\tf_utils.py\", line 65, in smart_cond\n",
      "    pred, true_fn=true_fn, false_fn=false_fn, name=name)\n",
      "  File \"C:\\Users\\rohan\\anaconda3\\envs\\tensorflowgpu\\lib\\site-packages\\tensorflow\\python\\framework\\smart_cond.py\", line 59, in smart_cond\n",
      "    name=name)\n",
      "  File \"C:\\Users\\rohan\\anaconda3\\envs\\tensorflowgpu\\lib\\site-packages\\tensorflow\\python\\util\\deprecation.py\", line 507, in new_func\n",
      "    return func(*args, **kwargs)\n",
      "  File \"C:\\Users\\rohan\\anaconda3\\envs\\tensorflowgpu\\lib\\site-packages\\tensorflow\\python\\ops\\control_flow_ops.py\", line 1177, in cond\n",
      "    return cond_v2.cond_v2(pred, true_fn, false_fn, name)\n",
      "  File \"C:\\Users\\rohan\\anaconda3\\envs\\tensorflowgpu\\lib\\site-packages\\tensorflow\\python\\ops\\cond_v2.py\", line 84, in cond_v2\n",
      "    op_return_value=pred)\n",
      "  File \"C:\\Users\\rohan\\anaconda3\\envs\\tensorflowgpu\\lib\\site-packages\\tensorflow\\python\\framework\\func_graph.py\", line 981, in func_graph_from_py_func\n",
      "    func_outputs = python_func(*func_args, **func_kwargs)\n",
      "  File \"C:\\Users\\rohan\\anaconda3\\envs\\tensorflowgpu\\lib\\site-packages\\tensorflow\\python\\keras\\layers\\core.py\", line 207, in dropped_inputs\n",
      "    rate=self.rate)\n",
      "  File \"C:\\Users\\rohan\\anaconda3\\envs\\tensorflowgpu\\lib\\site-packages\\tensorflow\\python\\util\\deprecation.py\", line 507, in new_func\n",
      "    return func(*args, **kwargs)\n",
      "  File \"C:\\Users\\rohan\\anaconda3\\envs\\tensorflowgpu\\lib\\site-packages\\tensorflow\\python\\ops\\nn_ops.py\", line 4343, in dropout\n",
      "    return dropout_v2(x, rate, noise_shape=noise_shape, seed=seed, name=name)\n",
      "  File \"C:\\Users\\rohan\\anaconda3\\envs\\tensorflowgpu\\lib\\site-packages\\tensorflow\\python\\ops\\nn_ops.py\", line 4423, in dropout_v2\n",
      "    \"range [0, 1), got %g\" % rate)\n",
      "ValueError: rate must be a scalar tensor or a float in the range [0, 1), got 1\n"
     ]
    },
    {
     "data": {
      "text/html": [
       "<span style=\"color:yellow\">[Warning] Invalid model 4/5</span>"
      ],
      "text/plain": [
       "<IPython.core.display.HTML object>"
      ]
     },
     "metadata": {},
     "output_type": "display_data"
    },
    {
     "name": "stderr",
     "output_type": "stream",
     "text": [
      "Traceback (most recent call last):\n",
      "  File \"C:\\Users\\rohan\\anaconda3\\envs\\tensorflowgpu\\lib\\site-packages\\kerastuner\\engine\\hypermodel.py\", line 105, in build\n",
      "    model = self.hypermodel.build(hp)\n",
      "  File \"<ipython-input-16-6918dcaa7f09>\", line 22, in build\n",
      "    \"dropout\", min_value=0, max_value=1.0, default=0.1, step=0.1\n",
      "  File \"C:\\Users\\rohan\\anaconda3\\envs\\tensorflowgpu\\lib\\site-packages\\tensorflow\\python\\training\\tracking\\base.py\", line 456, in _method_wrapper\n",
      "    result = method(self, *args, **kwargs)\n",
      "  File \"C:\\Users\\rohan\\anaconda3\\envs\\tensorflowgpu\\lib\\site-packages\\tensorflow\\python\\keras\\engine\\sequential.py\", line 213, in add\n",
      "    output_tensor = layer(self.outputs[0])\n",
      "  File \"C:\\Users\\rohan\\anaconda3\\envs\\tensorflowgpu\\lib\\site-packages\\tensorflow\\python\\keras\\engine\\base_layer.py\", line 922, in __call__\n",
      "    outputs = call_fn(cast_inputs, *args, **kwargs)\n",
      "  File \"C:\\Users\\rohan\\anaconda3\\envs\\tensorflowgpu\\lib\\site-packages\\tensorflow\\python\\keras\\layers\\core.py\", line 211, in call\n",
      "    lambda: array_ops.identity(inputs))\n",
      "  File \"C:\\Users\\rohan\\anaconda3\\envs\\tensorflowgpu\\lib\\site-packages\\tensorflow\\python\\keras\\utils\\tf_utils.py\", line 65, in smart_cond\n",
      "    pred, true_fn=true_fn, false_fn=false_fn, name=name)\n",
      "  File \"C:\\Users\\rohan\\anaconda3\\envs\\tensorflowgpu\\lib\\site-packages\\tensorflow\\python\\framework\\smart_cond.py\", line 59, in smart_cond\n",
      "    name=name)\n",
      "  File \"C:\\Users\\rohan\\anaconda3\\envs\\tensorflowgpu\\lib\\site-packages\\tensorflow\\python\\util\\deprecation.py\", line 507, in new_func\n",
      "    return func(*args, **kwargs)\n",
      "  File \"C:\\Users\\rohan\\anaconda3\\envs\\tensorflowgpu\\lib\\site-packages\\tensorflow\\python\\ops\\control_flow_ops.py\", line 1177, in cond\n",
      "    return cond_v2.cond_v2(pred, true_fn, false_fn, name)\n",
      "  File \"C:\\Users\\rohan\\anaconda3\\envs\\tensorflowgpu\\lib\\site-packages\\tensorflow\\python\\ops\\cond_v2.py\", line 84, in cond_v2\n",
      "    op_return_value=pred)\n",
      "  File \"C:\\Users\\rohan\\anaconda3\\envs\\tensorflowgpu\\lib\\site-packages\\tensorflow\\python\\framework\\func_graph.py\", line 981, in func_graph_from_py_func\n",
      "    func_outputs = python_func(*func_args, **func_kwargs)\n",
      "  File \"C:\\Users\\rohan\\anaconda3\\envs\\tensorflowgpu\\lib\\site-packages\\tensorflow\\python\\keras\\layers\\core.py\", line 207, in dropped_inputs\n",
      "    rate=self.rate)\n",
      "  File \"C:\\Users\\rohan\\anaconda3\\envs\\tensorflowgpu\\lib\\site-packages\\tensorflow\\python\\util\\deprecation.py\", line 507, in new_func\n",
      "    return func(*args, **kwargs)\n",
      "  File \"C:\\Users\\rohan\\anaconda3\\envs\\tensorflowgpu\\lib\\site-packages\\tensorflow\\python\\ops\\nn_ops.py\", line 4343, in dropout\n",
      "    return dropout_v2(x, rate, noise_shape=noise_shape, seed=seed, name=name)\n",
      "  File \"C:\\Users\\rohan\\anaconda3\\envs\\tensorflowgpu\\lib\\site-packages\\tensorflow\\python\\ops\\nn_ops.py\", line 4423, in dropout_v2\n",
      "    \"range [0, 1), got %g\" % rate)\n",
      "ValueError: rate must be a scalar tensor or a float in the range [0, 1), got 1\n"
     ]
    },
    {
     "data": {
      "text/html": [
       "<span style=\"color:yellow\">[Warning] Invalid model 5/5</span>"
      ],
      "text/plain": [
       "<IPython.core.display.HTML object>"
      ]
     },
     "metadata": {},
     "output_type": "display_data"
    },
    {
     "ename": "RuntimeError",
     "evalue": "Too many failed attempts to build model.",
     "output_type": "error",
     "traceback": [
      "\u001b[1;31m---------------------------------------------------------------------------\u001b[0m",
      "\u001b[1;31mValueError\u001b[0m                                Traceback (most recent call last)",
      "\u001b[1;32m~\\anaconda3\\envs\\tensorflowgpu\\lib\\site-packages\\kerastuner\\engine\\hypermodel.py\u001b[0m in \u001b[0;36mbuild\u001b[1;34m(self, hp)\u001b[0m\n\u001b[0;32m    104\u001b[0m                 \u001b[1;32mwith\u001b[0m \u001b[0mmaybe_distribute\u001b[0m\u001b[1;33m(\u001b[0m\u001b[0mself\u001b[0m\u001b[1;33m.\u001b[0m\u001b[0mdistribution_strategy\u001b[0m\u001b[1;33m)\u001b[0m\u001b[1;33m:\u001b[0m\u001b[1;33m\u001b[0m\u001b[1;33m\u001b[0m\u001b[0m\n\u001b[1;32m--> 105\u001b[1;33m                     \u001b[0mmodel\u001b[0m \u001b[1;33m=\u001b[0m \u001b[0mself\u001b[0m\u001b[1;33m.\u001b[0m\u001b[0mhypermodel\u001b[0m\u001b[1;33m.\u001b[0m\u001b[0mbuild\u001b[0m\u001b[1;33m(\u001b[0m\u001b[0mhp\u001b[0m\u001b[1;33m)\u001b[0m\u001b[1;33m\u001b[0m\u001b[1;33m\u001b[0m\u001b[0m\n\u001b[0m\u001b[0;32m    106\u001b[0m             \u001b[1;32mexcept\u001b[0m\u001b[1;33m:\u001b[0m\u001b[1;33m\u001b[0m\u001b[1;33m\u001b[0m\u001b[0m\n",
      "\u001b[1;32m<ipython-input-16-6918dcaa7f09>\u001b[0m in \u001b[0;36mbuild\u001b[1;34m(self, hp)\u001b[0m\n\u001b[0;32m     21\u001b[0m                 rate=hp.Float(\n\u001b[1;32m---> 22\u001b[1;33m                     \u001b[1;34m\"dropout\"\u001b[0m\u001b[1;33m,\u001b[0m \u001b[0mmin_value\u001b[0m\u001b[1;33m=\u001b[0m\u001b[1;36m0\u001b[0m\u001b[1;33m,\u001b[0m \u001b[0mmax_value\u001b[0m\u001b[1;33m=\u001b[0m\u001b[1;36m1.0\u001b[0m\u001b[1;33m,\u001b[0m \u001b[0mdefault\u001b[0m\u001b[1;33m=\u001b[0m\u001b[1;36m0.1\u001b[0m\u001b[1;33m,\u001b[0m \u001b[0mstep\u001b[0m\u001b[1;33m=\u001b[0m\u001b[1;36m0.1\u001b[0m\u001b[1;33m\u001b[0m\u001b[1;33m\u001b[0m\u001b[0m\n\u001b[0m\u001b[0;32m     23\u001b[0m                 )\n",
      "\u001b[1;32m~\\anaconda3\\envs\\tensorflowgpu\\lib\\site-packages\\tensorflow\\python\\training\\tracking\\base.py\u001b[0m in \u001b[0;36m_method_wrapper\u001b[1;34m(self, *args, **kwargs)\u001b[0m\n\u001b[0;32m    455\u001b[0m     \u001b[1;32mtry\u001b[0m\u001b[1;33m:\u001b[0m\u001b[1;33m\u001b[0m\u001b[1;33m\u001b[0m\u001b[0m\n\u001b[1;32m--> 456\u001b[1;33m       \u001b[0mresult\u001b[0m \u001b[1;33m=\u001b[0m \u001b[0mmethod\u001b[0m\u001b[1;33m(\u001b[0m\u001b[0mself\u001b[0m\u001b[1;33m,\u001b[0m \u001b[1;33m*\u001b[0m\u001b[0margs\u001b[0m\u001b[1;33m,\u001b[0m \u001b[1;33m**\u001b[0m\u001b[0mkwargs\u001b[0m\u001b[1;33m)\u001b[0m\u001b[1;33m\u001b[0m\u001b[1;33m\u001b[0m\u001b[0m\n\u001b[0m\u001b[0;32m    457\u001b[0m     \u001b[1;32mfinally\u001b[0m\u001b[1;33m:\u001b[0m\u001b[1;33m\u001b[0m\u001b[1;33m\u001b[0m\u001b[0m\n",
      "\u001b[1;32m~\\anaconda3\\envs\\tensorflowgpu\\lib\\site-packages\\tensorflow\\python\\keras\\engine\\sequential.py\u001b[0m in \u001b[0;36madd\u001b[1;34m(self, layer)\u001b[0m\n\u001b[0;32m    212\u001b[0m       \u001b[1;31m# refresh its output.\u001b[0m\u001b[1;33m\u001b[0m\u001b[1;33m\u001b[0m\u001b[1;33m\u001b[0m\u001b[0m\n\u001b[1;32m--> 213\u001b[1;33m       \u001b[0moutput_tensor\u001b[0m \u001b[1;33m=\u001b[0m \u001b[0mlayer\u001b[0m\u001b[1;33m(\u001b[0m\u001b[0mself\u001b[0m\u001b[1;33m.\u001b[0m\u001b[0moutputs\u001b[0m\u001b[1;33m[\u001b[0m\u001b[1;36m0\u001b[0m\u001b[1;33m]\u001b[0m\u001b[1;33m)\u001b[0m\u001b[1;33m\u001b[0m\u001b[1;33m\u001b[0m\u001b[0m\n\u001b[0m\u001b[0;32m    214\u001b[0m       \u001b[1;32mif\u001b[0m \u001b[0mlen\u001b[0m\u001b[1;33m(\u001b[0m\u001b[0mnest\u001b[0m\u001b[1;33m.\u001b[0m\u001b[0mflatten\u001b[0m\u001b[1;33m(\u001b[0m\u001b[0moutput_tensor\u001b[0m\u001b[1;33m)\u001b[0m\u001b[1;33m)\u001b[0m \u001b[1;33m!=\u001b[0m \u001b[1;36m1\u001b[0m\u001b[1;33m:\u001b[0m\u001b[1;33m\u001b[0m\u001b[1;33m\u001b[0m\u001b[0m\n",
      "\u001b[1;32m~\\anaconda3\\envs\\tensorflowgpu\\lib\\site-packages\\tensorflow\\python\\keras\\engine\\base_layer.py\u001b[0m in \u001b[0;36m__call__\u001b[1;34m(self, *args, **kwargs)\u001b[0m\n\u001b[0;32m    921\u001b[0m                   \u001b[1;32mwith\u001b[0m \u001b[0mauto_control_deps\u001b[0m\u001b[1;33m.\u001b[0m\u001b[0mAutomaticControlDependencies\u001b[0m\u001b[1;33m(\u001b[0m\u001b[1;33m)\u001b[0m \u001b[1;32mas\u001b[0m \u001b[0macd\u001b[0m\u001b[1;33m:\u001b[0m\u001b[1;33m\u001b[0m\u001b[1;33m\u001b[0m\u001b[0m\n\u001b[1;32m--> 922\u001b[1;33m                     \u001b[0moutputs\u001b[0m \u001b[1;33m=\u001b[0m \u001b[0mcall_fn\u001b[0m\u001b[1;33m(\u001b[0m\u001b[0mcast_inputs\u001b[0m\u001b[1;33m,\u001b[0m \u001b[1;33m*\u001b[0m\u001b[0margs\u001b[0m\u001b[1;33m,\u001b[0m \u001b[1;33m**\u001b[0m\u001b[0mkwargs\u001b[0m\u001b[1;33m)\u001b[0m\u001b[1;33m\u001b[0m\u001b[1;33m\u001b[0m\u001b[0m\n\u001b[0m\u001b[0;32m    923\u001b[0m                     \u001b[1;31m# Wrap Tensors in `outputs` in `tf.identity` to avoid\u001b[0m\u001b[1;33m\u001b[0m\u001b[1;33m\u001b[0m\u001b[1;33m\u001b[0m\u001b[0m\n",
      "\u001b[1;32m~\\anaconda3\\envs\\tensorflowgpu\\lib\\site-packages\\tensorflow\\python\\keras\\layers\\core.py\u001b[0m in \u001b[0;36mcall\u001b[1;34m(self, inputs, training)\u001b[0m\n\u001b[0;32m    210\u001b[0m                                  \u001b[0mdropped_inputs\u001b[0m\u001b[1;33m,\u001b[0m\u001b[1;33m\u001b[0m\u001b[1;33m\u001b[0m\u001b[0m\n\u001b[1;32m--> 211\u001b[1;33m                                  lambda: array_ops.identity(inputs))\n\u001b[0m\u001b[0;32m    212\u001b[0m     \u001b[1;32mreturn\u001b[0m \u001b[0moutput\u001b[0m\u001b[1;33m\u001b[0m\u001b[1;33m\u001b[0m\u001b[0m\n",
      "\u001b[1;32m~\\anaconda3\\envs\\tensorflowgpu\\lib\\site-packages\\tensorflow\\python\\keras\\utils\\tf_utils.py\u001b[0m in \u001b[0;36msmart_cond\u001b[1;34m(pred, true_fn, false_fn, name)\u001b[0m\n\u001b[0;32m     64\u001b[0m   return smart_module.smart_cond(\n\u001b[1;32m---> 65\u001b[1;33m       pred, true_fn=true_fn, false_fn=false_fn, name=name)\n\u001b[0m\u001b[0;32m     66\u001b[0m \u001b[1;33m\u001b[0m\u001b[0m\n",
      "\u001b[1;32m~\\anaconda3\\envs\\tensorflowgpu\\lib\\site-packages\\tensorflow\\python\\framework\\smart_cond.py\u001b[0m in \u001b[0;36msmart_cond\u001b[1;34m(pred, true_fn, false_fn, name)\u001b[0m\n\u001b[0;32m     58\u001b[0m     return control_flow_ops.cond(pred, true_fn=true_fn, false_fn=false_fn,\n\u001b[1;32m---> 59\u001b[1;33m                                  name=name)\n\u001b[0m\u001b[0;32m     60\u001b[0m \u001b[1;33m\u001b[0m\u001b[0m\n",
      "\u001b[1;32m~\\anaconda3\\envs\\tensorflowgpu\\lib\\site-packages\\tensorflow\\python\\util\\deprecation.py\u001b[0m in \u001b[0;36mnew_func\u001b[1;34m(*args, **kwargs)\u001b[0m\n\u001b[0;32m    506\u001b[0m                 instructions)\n\u001b[1;32m--> 507\u001b[1;33m       \u001b[1;32mreturn\u001b[0m \u001b[0mfunc\u001b[0m\u001b[1;33m(\u001b[0m\u001b[1;33m*\u001b[0m\u001b[0margs\u001b[0m\u001b[1;33m,\u001b[0m \u001b[1;33m**\u001b[0m\u001b[0mkwargs\u001b[0m\u001b[1;33m)\u001b[0m\u001b[1;33m\u001b[0m\u001b[1;33m\u001b[0m\u001b[0m\n\u001b[0m\u001b[0;32m    508\u001b[0m \u001b[1;33m\u001b[0m\u001b[0m\n",
      "\u001b[1;32m~\\anaconda3\\envs\\tensorflowgpu\\lib\\site-packages\\tensorflow\\python\\ops\\control_flow_ops.py\u001b[0m in \u001b[0;36mcond\u001b[1;34m(pred, true_fn, false_fn, strict, name, fn1, fn2)\u001b[0m\n\u001b[0;32m   1176\u001b[0m       not context.executing_eagerly()):\n\u001b[1;32m-> 1177\u001b[1;33m     \u001b[1;32mreturn\u001b[0m \u001b[0mcond_v2\u001b[0m\u001b[1;33m.\u001b[0m\u001b[0mcond_v2\u001b[0m\u001b[1;33m(\u001b[0m\u001b[0mpred\u001b[0m\u001b[1;33m,\u001b[0m \u001b[0mtrue_fn\u001b[0m\u001b[1;33m,\u001b[0m \u001b[0mfalse_fn\u001b[0m\u001b[1;33m,\u001b[0m \u001b[0mname\u001b[0m\u001b[1;33m)\u001b[0m\u001b[1;33m\u001b[0m\u001b[1;33m\u001b[0m\u001b[0m\n\u001b[0m\u001b[0;32m   1178\u001b[0m \u001b[1;33m\u001b[0m\u001b[0m\n",
      "\u001b[1;32m~\\anaconda3\\envs\\tensorflowgpu\\lib\\site-packages\\tensorflow\\python\\ops\\cond_v2.py\u001b[0m in \u001b[0;36mcond_v2\u001b[1;34m(pred, true_fn, false_fn, name)\u001b[0m\n\u001b[0;32m     83\u001b[0m         \u001b[0madd_control_dependencies\u001b[0m\u001b[1;33m=\u001b[0m\u001b[0madd_control_dependencies\u001b[0m\u001b[1;33m,\u001b[0m\u001b[1;33m\u001b[0m\u001b[1;33m\u001b[0m\u001b[0m\n\u001b[1;32m---> 84\u001b[1;33m         op_return_value=pred)\n\u001b[0m\u001b[0;32m     85\u001b[0m     false_graph = func_graph_module.func_graph_from_py_func(\n",
      "\u001b[1;32m~\\anaconda3\\envs\\tensorflowgpu\\lib\\site-packages\\tensorflow\\python\\framework\\func_graph.py\u001b[0m in \u001b[0;36mfunc_graph_from_py_func\u001b[1;34m(name, python_func, args, kwargs, signature, func_graph, autograph, autograph_options, add_control_dependencies, arg_names, op_return_value, collections, capture_by_value, override_flat_arg_shapes)\u001b[0m\n\u001b[0;32m    980\u001b[0m \u001b[1;33m\u001b[0m\u001b[0m\n\u001b[1;32m--> 981\u001b[1;33m       \u001b[0mfunc_outputs\u001b[0m \u001b[1;33m=\u001b[0m \u001b[0mpython_func\u001b[0m\u001b[1;33m(\u001b[0m\u001b[1;33m*\u001b[0m\u001b[0mfunc_args\u001b[0m\u001b[1;33m,\u001b[0m \u001b[1;33m**\u001b[0m\u001b[0mfunc_kwargs\u001b[0m\u001b[1;33m)\u001b[0m\u001b[1;33m\u001b[0m\u001b[1;33m\u001b[0m\u001b[0m\n\u001b[0m\u001b[0;32m    982\u001b[0m \u001b[1;33m\u001b[0m\u001b[0m\n",
      "\u001b[1;32m~\\anaconda3\\envs\\tensorflowgpu\\lib\\site-packages\\tensorflow\\python\\keras\\layers\\core.py\u001b[0m in \u001b[0;36mdropped_inputs\u001b[1;34m()\u001b[0m\n\u001b[0;32m    206\u001b[0m           \u001b[0mseed\u001b[0m\u001b[1;33m=\u001b[0m\u001b[0mself\u001b[0m\u001b[1;33m.\u001b[0m\u001b[0mseed\u001b[0m\u001b[1;33m,\u001b[0m\u001b[1;33m\u001b[0m\u001b[1;33m\u001b[0m\u001b[0m\n\u001b[1;32m--> 207\u001b[1;33m           rate=self.rate)\n\u001b[0m\u001b[0;32m    208\u001b[0m \u001b[1;33m\u001b[0m\u001b[0m\n",
      "\u001b[1;32m~\\anaconda3\\envs\\tensorflowgpu\\lib\\site-packages\\tensorflow\\python\\util\\deprecation.py\u001b[0m in \u001b[0;36mnew_func\u001b[1;34m(*args, **kwargs)\u001b[0m\n\u001b[0;32m    506\u001b[0m                 instructions)\n\u001b[1;32m--> 507\u001b[1;33m       \u001b[1;32mreturn\u001b[0m \u001b[0mfunc\u001b[0m\u001b[1;33m(\u001b[0m\u001b[1;33m*\u001b[0m\u001b[0margs\u001b[0m\u001b[1;33m,\u001b[0m \u001b[1;33m**\u001b[0m\u001b[0mkwargs\u001b[0m\u001b[1;33m)\u001b[0m\u001b[1;33m\u001b[0m\u001b[1;33m\u001b[0m\u001b[0m\n\u001b[0m\u001b[0;32m    508\u001b[0m \u001b[1;33m\u001b[0m\u001b[0m\n",
      "\u001b[1;32m~\\anaconda3\\envs\\tensorflowgpu\\lib\\site-packages\\tensorflow\\python\\ops\\nn_ops.py\u001b[0m in \u001b[0;36mdropout\u001b[1;34m(x, keep_prob, noise_shape, seed, name, rate)\u001b[0m\n\u001b[0;32m   4342\u001b[0m \u001b[1;33m\u001b[0m\u001b[0m\n\u001b[1;32m-> 4343\u001b[1;33m   \u001b[1;32mreturn\u001b[0m \u001b[0mdropout_v2\u001b[0m\u001b[1;33m(\u001b[0m\u001b[0mx\u001b[0m\u001b[1;33m,\u001b[0m \u001b[0mrate\u001b[0m\u001b[1;33m,\u001b[0m \u001b[0mnoise_shape\u001b[0m\u001b[1;33m=\u001b[0m\u001b[0mnoise_shape\u001b[0m\u001b[1;33m,\u001b[0m \u001b[0mseed\u001b[0m\u001b[1;33m=\u001b[0m\u001b[0mseed\u001b[0m\u001b[1;33m,\u001b[0m \u001b[0mname\u001b[0m\u001b[1;33m=\u001b[0m\u001b[0mname\u001b[0m\u001b[1;33m)\u001b[0m\u001b[1;33m\u001b[0m\u001b[1;33m\u001b[0m\u001b[0m\n\u001b[0m\u001b[0;32m   4344\u001b[0m \u001b[1;33m\u001b[0m\u001b[0m\n",
      "\u001b[1;32m~\\anaconda3\\envs\\tensorflowgpu\\lib\\site-packages\\tensorflow\\python\\ops\\nn_ops.py\u001b[0m in \u001b[0;36mdropout_v2\u001b[1;34m(x, rate, noise_shape, seed, name)\u001b[0m\n\u001b[0;32m   4422\u001b[0m       raise ValueError(\"rate must be a scalar tensor or a float in the \"\n\u001b[1;32m-> 4423\u001b[1;33m                        \"range [0, 1), got %g\" % rate)\n\u001b[0m\u001b[0;32m   4424\u001b[0m     \u001b[0mx\u001b[0m \u001b[1;33m=\u001b[0m \u001b[0mops\u001b[0m\u001b[1;33m.\u001b[0m\u001b[0mconvert_to_tensor\u001b[0m\u001b[1;33m(\u001b[0m\u001b[0mx\u001b[0m\u001b[1;33m,\u001b[0m \u001b[0mname\u001b[0m\u001b[1;33m=\u001b[0m\u001b[1;34m\"x\"\u001b[0m\u001b[1;33m)\u001b[0m\u001b[1;33m\u001b[0m\u001b[1;33m\u001b[0m\u001b[0m\n",
      "\u001b[1;31mValueError\u001b[0m: rate must be a scalar tensor or a float in the range [0, 1), got 1",
      "\nDuring handling of the above exception, another exception occurred:\n",
      "\u001b[1;31mRuntimeError\u001b[0m                              Traceback (most recent call last)",
      "\u001b[1;32m<ipython-input-17-17c7e2a32872>\u001b[0m in \u001b[0;36m<module>\u001b[1;34m\u001b[0m\n\u001b[0;32m      9\u001b[0m     \u001b[0mproject_name\u001b[0m\u001b[1;33m=\u001b[0m\u001b[1;34m\"hyperparameters\"\u001b[0m\u001b[1;33m,\u001b[0m\u001b[1;33m\u001b[0m\u001b[1;33m\u001b[0m\u001b[0m\n\u001b[0;32m     10\u001b[0m )\n\u001b[1;32m---> 11\u001b[1;33m \u001b[0mtuner_rs\u001b[0m\u001b[1;33m.\u001b[0m\u001b[0msearch\u001b[0m\u001b[1;33m(\u001b[0m\u001b[0mx_train\u001b[0m\u001b[1;33m,\u001b[0m \u001b[0my_train\u001b[0m\u001b[1;33m,\u001b[0m \u001b[0mepochs\u001b[0m\u001b[1;33m=\u001b[0m\u001b[1;36m10\u001b[0m\u001b[1;33m,\u001b[0m \u001b[0mvalidation_split\u001b[0m\u001b[1;33m=\u001b[0m\u001b[1;36m0.2\u001b[0m\u001b[1;33m,\u001b[0m \u001b[0mverbose\u001b[0m\u001b[1;33m=\u001b[0m\u001b[1;36m2\u001b[0m\u001b[1;33m)\u001b[0m\u001b[1;33m\u001b[0m\u001b[1;33m\u001b[0m\u001b[0m\n\u001b[0m",
      "\u001b[1;32m~\\anaconda3\\envs\\tensorflowgpu\\lib\\site-packages\\kerastuner\\engine\\base_tuner.py\u001b[0m in \u001b[0;36msearch\u001b[1;34m(self, *fit_args, **fit_kwargs)\u001b[0m\n\u001b[0;32m    128\u001b[0m \u001b[1;33m\u001b[0m\u001b[0m\n\u001b[0;32m    129\u001b[0m             \u001b[0mself\u001b[0m\u001b[1;33m.\u001b[0m\u001b[0mon_trial_begin\u001b[0m\u001b[1;33m(\u001b[0m\u001b[0mtrial\u001b[0m\u001b[1;33m)\u001b[0m\u001b[1;33m\u001b[0m\u001b[1;33m\u001b[0m\u001b[0m\n\u001b[1;32m--> 130\u001b[1;33m             \u001b[0mself\u001b[0m\u001b[1;33m.\u001b[0m\u001b[0mrun_trial\u001b[0m\u001b[1;33m(\u001b[0m\u001b[0mtrial\u001b[0m\u001b[1;33m,\u001b[0m \u001b[1;33m*\u001b[0m\u001b[0mfit_args\u001b[0m\u001b[1;33m,\u001b[0m \u001b[1;33m**\u001b[0m\u001b[0mfit_kwargs\u001b[0m\u001b[1;33m)\u001b[0m\u001b[1;33m\u001b[0m\u001b[1;33m\u001b[0m\u001b[0m\n\u001b[0m\u001b[0;32m    131\u001b[0m             \u001b[0mself\u001b[0m\u001b[1;33m.\u001b[0m\u001b[0mon_trial_end\u001b[0m\u001b[1;33m(\u001b[0m\u001b[0mtrial\u001b[0m\u001b[1;33m)\u001b[0m\u001b[1;33m\u001b[0m\u001b[1;33m\u001b[0m\u001b[0m\n\u001b[0;32m    132\u001b[0m         \u001b[0mself\u001b[0m\u001b[1;33m.\u001b[0m\u001b[0mon_search_end\u001b[0m\u001b[1;33m(\u001b[0m\u001b[1;33m)\u001b[0m\u001b[1;33m\u001b[0m\u001b[1;33m\u001b[0m\u001b[0m\n",
      "\u001b[1;32m~\\anaconda3\\envs\\tensorflowgpu\\lib\\site-packages\\kerastuner\\engine\\multi_execution_tuner.py\u001b[0m in \u001b[0;36mrun_trial\u001b[1;34m(self, trial, *fit_args, **fit_kwargs)\u001b[0m\n\u001b[0;32m     93\u001b[0m             \u001b[0mcopied_fit_kwargs\u001b[0m\u001b[1;33m[\u001b[0m\u001b[1;34m'callbacks'\u001b[0m\u001b[1;33m]\u001b[0m \u001b[1;33m=\u001b[0m \u001b[0mcallbacks\u001b[0m\u001b[1;33m\u001b[0m\u001b[1;33m\u001b[0m\u001b[0m\n\u001b[0;32m     94\u001b[0m \u001b[1;33m\u001b[0m\u001b[0m\n\u001b[1;32m---> 95\u001b[1;33m             \u001b[0mmodel\u001b[0m \u001b[1;33m=\u001b[0m \u001b[0mself\u001b[0m\u001b[1;33m.\u001b[0m\u001b[0mhypermodel\u001b[0m\u001b[1;33m.\u001b[0m\u001b[0mbuild\u001b[0m\u001b[1;33m(\u001b[0m\u001b[0mtrial\u001b[0m\u001b[1;33m.\u001b[0m\u001b[0mhyperparameters\u001b[0m\u001b[1;33m)\u001b[0m\u001b[1;33m\u001b[0m\u001b[1;33m\u001b[0m\u001b[0m\n\u001b[0m\u001b[0;32m     96\u001b[0m             \u001b[0mhistory\u001b[0m \u001b[1;33m=\u001b[0m \u001b[0mmodel\u001b[0m\u001b[1;33m.\u001b[0m\u001b[0mfit\u001b[0m\u001b[1;33m(\u001b[0m\u001b[1;33m*\u001b[0m\u001b[0mfit_args\u001b[0m\u001b[1;33m,\u001b[0m \u001b[1;33m**\u001b[0m\u001b[0mcopied_fit_kwargs\u001b[0m\u001b[1;33m)\u001b[0m\u001b[1;33m\u001b[0m\u001b[1;33m\u001b[0m\u001b[0m\n\u001b[0;32m     97\u001b[0m             \u001b[1;32mfor\u001b[0m \u001b[0mmetric\u001b[0m\u001b[1;33m,\u001b[0m \u001b[0mepoch_values\u001b[0m \u001b[1;32min\u001b[0m \u001b[0mhistory\u001b[0m\u001b[1;33m.\u001b[0m\u001b[0mhistory\u001b[0m\u001b[1;33m.\u001b[0m\u001b[0mitems\u001b[0m\u001b[1;33m(\u001b[0m\u001b[1;33m)\u001b[0m\u001b[1;33m:\u001b[0m\u001b[1;33m\u001b[0m\u001b[1;33m\u001b[0m\u001b[0m\n",
      "\u001b[1;32m~\\anaconda3\\envs\\tensorflowgpu\\lib\\site-packages\\kerastuner\\engine\\hypermodel.py\u001b[0m in \u001b[0;36m_build_wrapper\u001b[1;34m(self, hp, *args, **kwargs)\u001b[0m\n\u001b[0;32m     63\u001b[0m             \u001b[1;31m# to the search space.\u001b[0m\u001b[1;33m\u001b[0m\u001b[1;33m\u001b[0m\u001b[1;33m\u001b[0m\u001b[0m\n\u001b[0;32m     64\u001b[0m             \u001b[0mhp\u001b[0m \u001b[1;33m=\u001b[0m \u001b[0mhp\u001b[0m\u001b[1;33m.\u001b[0m\u001b[0mcopy\u001b[0m\u001b[1;33m(\u001b[0m\u001b[1;33m)\u001b[0m\u001b[1;33m\u001b[0m\u001b[1;33m\u001b[0m\u001b[0m\n\u001b[1;32m---> 65\u001b[1;33m         \u001b[1;32mreturn\u001b[0m \u001b[0mself\u001b[0m\u001b[1;33m.\u001b[0m\u001b[0m_build\u001b[0m\u001b[1;33m(\u001b[0m\u001b[0mhp\u001b[0m\u001b[1;33m,\u001b[0m \u001b[1;33m*\u001b[0m\u001b[0margs\u001b[0m\u001b[1;33m,\u001b[0m \u001b[1;33m**\u001b[0m\u001b[0mkwargs\u001b[0m\u001b[1;33m)\u001b[0m\u001b[1;33m\u001b[0m\u001b[1;33m\u001b[0m\u001b[0m\n\u001b[0m\u001b[0;32m     66\u001b[0m \u001b[1;33m\u001b[0m\u001b[0m\n\u001b[0;32m     67\u001b[0m \u001b[1;33m\u001b[0m\u001b[0m\n",
      "\u001b[1;32m~\\anaconda3\\envs\\tensorflowgpu\\lib\\site-packages\\kerastuner\\engine\\hypermodel.py\u001b[0m in \u001b[0;36mbuild\u001b[1;34m(self, hp)\u001b[0m\n\u001b[0;32m    113\u001b[0m                 \u001b[1;32mif\u001b[0m \u001b[0mi\u001b[0m \u001b[1;33m==\u001b[0m \u001b[0mself\u001b[0m\u001b[1;33m.\u001b[0m\u001b[0m_max_fail_streak\u001b[0m\u001b[1;33m:\u001b[0m\u001b[1;33m\u001b[0m\u001b[1;33m\u001b[0m\u001b[0m\n\u001b[0;32m    114\u001b[0m                     raise RuntimeError(\n\u001b[1;32m--> 115\u001b[1;33m                         'Too many failed attempts to build model.')\n\u001b[0m\u001b[0;32m    116\u001b[0m                 \u001b[1;32mcontinue\u001b[0m\u001b[1;33m\u001b[0m\u001b[1;33m\u001b[0m\u001b[0m\n\u001b[0;32m    117\u001b[0m \u001b[1;33m\u001b[0m\u001b[0m\n",
      "\u001b[1;31mRuntimeError\u001b[0m: Too many failed attempts to build model."
     ]
    },
    {
     "data": {
      "application/javascript": [
       "\n",
       "            setTimeout(function() {\n",
       "                var nbb_cell_id = 17;\n",
       "                var nbb_unformatted_code = \"input_shape = (x_train.shape[1],)\\nhypermodel = RegressionHyperModel(input_shape)\\ntuner_rs = RandomSearch(\\n    hypermodel,\\n    objective=\\\"val_accuracy\\\",\\n    seed=42,\\n    max_trials=10,\\n    executions_per_trial=2,\\n    project_name=\\\"hyperparameters\\\",\\n)\\ntuner_rs.search(x_train, y_train, epochs=10, validation_split=0.2, verbose=2)\";\n",
       "                var nbb_formatted_code = \"input_shape = (x_train.shape[1],)\\nhypermodel = RegressionHyperModel(input_shape)\\ntuner_rs = RandomSearch(\\n    hypermodel,\\n    objective=\\\"val_accuracy\\\",\\n    seed=42,\\n    max_trials=10,\\n    executions_per_trial=2,\\n    project_name=\\\"hyperparameters\\\",\\n)\\ntuner_rs.search(x_train, y_train, epochs=10, validation_split=0.2, verbose=2)\";\n",
       "                var nbb_cells = Jupyter.notebook.get_cells();\n",
       "                for (var i = 0; i < nbb_cells.length; ++i) {\n",
       "                    if (nbb_cells[i].input_prompt_number == nbb_cell_id) {\n",
       "                        if (nbb_cells[i].get_text() == nbb_unformatted_code) {\n",
       "                             nbb_cells[i].set_text(nbb_formatted_code);\n",
       "                        }\n",
       "                        break;\n",
       "                    }\n",
       "                }\n",
       "            }, 500);\n",
       "            "
      ],
      "text/plain": [
       "<IPython.core.display.Javascript object>"
      ]
     },
     "metadata": {},
     "output_type": "display_data"
    }
   ],
   "source": [
    "input_shape = (x_train.shape[1],)\n",
    "hypermodel = RegressionHyperModel(input_shape)\n",
    "tuner_rs = RandomSearch(\n",
    "    hypermodel,\n",
    "    objective=\"val_accuracy\",\n",
    "    seed=42,\n",
    "    max_trials=10,\n",
    "    executions_per_trial=2,\n",
    "    project_name=\"hyperparameters\",\n",
    ")\n",
    "tuner_rs.search(x_train, y_train, epochs=10, validation_split=0.2, verbose=2)"
   ]
  },
  {
   "cell_type": "code",
   "execution_count": 18,
   "metadata": {},
   "outputs": [
    {
     "data": {
      "text/html": [
       "<span style=\"color:#4527A0\"><h1 style=\"font-size:18px\">Results summary</h1></span>"
      ],
      "text/plain": [
       "<IPython.core.display.HTML object>"
      ]
     },
     "metadata": {},
     "output_type": "display_data"
    },
    {
     "data": {
      "text/html": [
       "<span style=\"color:cyan\"> |-Results in .\\hyperparameters</span>"
      ],
      "text/plain": [
       "<IPython.core.display.HTML object>"
      ]
     },
     "metadata": {},
     "output_type": "display_data"
    },
    {
     "data": {
      "text/html": [
       "<span style=\"color:cyan\"> |-Showing 10 best trials</span>"
      ],
      "text/plain": [
       "<IPython.core.display.HTML object>"
      ]
     },
     "metadata": {},
     "output_type": "display_data"
    },
    {
     "data": {
      "text/html": [
       "<span style=\"color:cyan\"> |-Objective(name='val_accuracy', direction='max')</span>"
      ],
      "text/plain": [
       "<IPython.core.display.HTML object>"
      ]
     },
     "metadata": {},
     "output_type": "display_data"
    },
    {
     "data": {
      "text/html": [
       "<span style=\"color:#4527A0\"><h1 style=\"font-size:18px\">Trial summary</h1></span>"
      ],
      "text/plain": [
       "<IPython.core.display.HTML object>"
      ]
     },
     "metadata": {},
     "output_type": "display_data"
    },
    {
     "data": {
      "text/html": [
       "<span style=\"color:cyan\"> |-Trial ID: 4fd53a74608423780380a650eaff2111</span>"
      ],
      "text/plain": [
       "<IPython.core.display.HTML object>"
      ]
     },
     "metadata": {},
     "output_type": "display_data"
    },
    {
     "data": {
      "text/html": [
       "<span style=\"color:cyan\"> |-Score: 0.8806666731834412</span>"
      ],
      "text/plain": [
       "<IPython.core.display.HTML object>"
      ]
     },
     "metadata": {},
     "output_type": "display_data"
    },
    {
     "data": {
      "text/html": [
       "<span style=\"color:cyan\"> |-Best step: 0</span>"
      ],
      "text/plain": [
       "<IPython.core.display.HTML object>"
      ]
     },
     "metadata": {},
     "output_type": "display_data"
    },
    {
     "data": {
      "text/html": [
       "<span style=\"color:#7E57C2\"><h2 style=\"font-size:16px\">Hyperparameters:</h2></span>"
      ],
      "text/plain": [
       "<IPython.core.display.HTML object>"
      ]
     },
     "metadata": {},
     "output_type": "display_data"
    },
    {
     "data": {
      "text/html": [
       "<span style=\"color:cyan\"> |-dense_activation: sigmoid</span>"
      ],
      "text/plain": [
       "<IPython.core.display.HTML object>"
      ]
     },
     "metadata": {},
     "output_type": "display_data"
    },
    {
     "data": {
      "text/html": [
       "<span style=\"color:blue\"> |-dropout: 0.0</span>"
      ],
      "text/plain": [
       "<IPython.core.display.HTML object>"
      ]
     },
     "metadata": {},
     "output_type": "display_data"
    },
    {
     "data": {
      "text/html": [
       "<span style=\"color:cyan\"> |-learning_rate: 0.001681154540009978</span>"
      ],
      "text/plain": [
       "<IPython.core.display.HTML object>"
      ]
     },
     "metadata": {},
     "output_type": "display_data"
    },
    {
     "data": {
      "text/html": [
       "<span style=\"color:#4527A0\"><h1 style=\"font-size:18px\">Trial summary</h1></span>"
      ],
      "text/plain": [
       "<IPython.core.display.HTML object>"
      ]
     },
     "metadata": {},
     "output_type": "display_data"
    },
    {
     "data": {
      "text/html": [
       "<span style=\"color:cyan\"> |-Trial ID: 362e3abb4b2bf5d61a86cfc3b9f98591</span>"
      ],
      "text/plain": [
       "<IPython.core.display.HTML object>"
      ]
     },
     "metadata": {},
     "output_type": "display_data"
    },
    {
     "data": {
      "text/html": [
       "<span style=\"color:cyan\"> |-Score: 0.878333330154419</span>"
      ],
      "text/plain": [
       "<IPython.core.display.HTML object>"
      ]
     },
     "metadata": {},
     "output_type": "display_data"
    },
    {
     "data": {
      "text/html": [
       "<span style=\"color:cyan\"> |-Best step: 0</span>"
      ],
      "text/plain": [
       "<IPython.core.display.HTML object>"
      ]
     },
     "metadata": {},
     "output_type": "display_data"
    },
    {
     "data": {
      "text/html": [
       "<span style=\"color:#7E57C2\"><h2 style=\"font-size:16px\">Hyperparameters:</h2></span>"
      ],
      "text/plain": [
       "<IPython.core.display.HTML object>"
      ]
     },
     "metadata": {},
     "output_type": "display_data"
    },
    {
     "data": {
      "text/html": [
       "<span style=\"color:cyan\"> |-dense_activation: sigmoid</span>"
      ],
      "text/plain": [
       "<IPython.core.display.HTML object>"
      ]
     },
     "metadata": {},
     "output_type": "display_data"
    },
    {
     "data": {
      "text/html": [
       "<span style=\"color:blue\"> |-dropout: 0.1</span>"
      ],
      "text/plain": [
       "<IPython.core.display.HTML object>"
      ]
     },
     "metadata": {},
     "output_type": "display_data"
    },
    {
     "data": {
      "text/html": [
       "<span style=\"color:cyan\"> |-learning_rate: 0.0031089211420179527</span>"
      ],
      "text/plain": [
       "<IPython.core.display.HTML object>"
      ]
     },
     "metadata": {},
     "output_type": "display_data"
    },
    {
     "data": {
      "text/html": [
       "<span style=\"color:#4527A0\"><h1 style=\"font-size:18px\">Trial summary</h1></span>"
      ],
      "text/plain": [
       "<IPython.core.display.HTML object>"
      ]
     },
     "metadata": {},
     "output_type": "display_data"
    },
    {
     "data": {
      "text/html": [
       "<span style=\"color:cyan\"> |-Trial ID: cc0c3664d6c31c9069ceda4c6d9ad2c8</span>"
      ],
      "text/plain": [
       "<IPython.core.display.HTML object>"
      ]
     },
     "metadata": {},
     "output_type": "display_data"
    },
    {
     "data": {
      "text/html": [
       "<span style=\"color:cyan\"> |-Score: 0.8779999911785126</span>"
      ],
      "text/plain": [
       "<IPython.core.display.HTML object>"
      ]
     },
     "metadata": {},
     "output_type": "display_data"
    },
    {
     "data": {
      "text/html": [
       "<span style=\"color:cyan\"> |-Best step: 0</span>"
      ],
      "text/plain": [
       "<IPython.core.display.HTML object>"
      ]
     },
     "metadata": {},
     "output_type": "display_data"
    },
    {
     "data": {
      "text/html": [
       "<span style=\"color:#7E57C2\"><h2 style=\"font-size:16px\">Hyperparameters:</h2></span>"
      ],
      "text/plain": [
       "<IPython.core.display.HTML object>"
      ]
     },
     "metadata": {},
     "output_type": "display_data"
    },
    {
     "data": {
      "text/html": [
       "<span style=\"color:cyan\"> |-dense_activation: tanh</span>"
      ],
      "text/plain": [
       "<IPython.core.display.HTML object>"
      ]
     },
     "metadata": {},
     "output_type": "display_data"
    },
    {
     "data": {
      "text/html": [
       "<span style=\"color:blue\"> |-dropout: 0.9</span>"
      ],
      "text/plain": [
       "<IPython.core.display.HTML object>"
      ]
     },
     "metadata": {},
     "output_type": "display_data"
    },
    {
     "data": {
      "text/html": [
       "<span style=\"color:cyan\"> |-learning_rate: 0.001136419736136108</span>"
      ],
      "text/plain": [
       "<IPython.core.display.HTML object>"
      ]
     },
     "metadata": {},
     "output_type": "display_data"
    },
    {
     "data": {
      "application/javascript": [
       "\n",
       "            setTimeout(function() {\n",
       "                var nbb_cell_id = 18;\n",
       "                var nbb_unformatted_code = \"# Show a summary of the search\\ntuner_rs.results_summary()\\n\\n# Retrieve the best model.\\nbest_model = tuner_rs.get_best_models(num_models=1)[0]\\n\\n# Save the best model.\\nbest_model.save(\\\"./Models/tuned_imdb.h5\\\")\";\n",
       "                var nbb_formatted_code = \"# Show a summary of the search\\ntuner_rs.results_summary()\\n\\n# Retrieve the best model.\\nbest_model = tuner_rs.get_best_models(num_models=1)[0]\\n\\n# Save the best model.\\nbest_model.save(\\\"./Models/tuned_imdb.h5\\\")\";\n",
       "                var nbb_cells = Jupyter.notebook.get_cells();\n",
       "                for (var i = 0; i < nbb_cells.length; ++i) {\n",
       "                    if (nbb_cells[i].input_prompt_number == nbb_cell_id) {\n",
       "                        if (nbb_cells[i].get_text() == nbb_unformatted_code) {\n",
       "                             nbb_cells[i].set_text(nbb_formatted_code);\n",
       "                        }\n",
       "                        break;\n",
       "                    }\n",
       "                }\n",
       "            }, 500);\n",
       "            "
      ],
      "text/plain": [
       "<IPython.core.display.Javascript object>"
      ]
     },
     "metadata": {},
     "output_type": "display_data"
    }
   ],
   "source": [
    "# Show a summary of the search\n",
    "tuner_rs.results_summary()\n",
    "\n",
    "# Retrieve the best model.\n",
    "best_model = tuner_rs.get_best_models(num_models=1)[0]\n",
    "\n",
    "# Save the best model.\n",
    "best_model.save(\"./Models/tuned_imdb.h5\")"
   ]
  },
  {
   "cell_type": "code",
   "execution_count": 32,
   "metadata": {},
   "outputs": [
    {
     "name": "stdout",
     "output_type": "stream",
     "text": [
      "782/782 [==============================] - ETA: 0s - loss: 0.3548 - accuracy: 0.90 - ETA: 1s - loss: 0.3592 - accuracy: 0.86 - ETA: 1s - loss: 0.3879 - accuracy: 0.86 - ETA: 1s - loss: 0.3930 - accuracy: 0.86 - ETA: 1s - loss: 0.3883 - accuracy: 0.86 - ETA: 1s - loss: 0.4064 - accuracy: 0.86 - ETA: 1s - loss: 0.4113 - accuracy: 0.86 - ETA: 1s - loss: 0.4109 - accuracy: 0.86 - ETA: 1s - loss: 0.4130 - accuracy: 0.86 - ETA: 1s - loss: 0.4154 - accuracy: 0.86 - ETA: 1s - loss: 0.4111 - accuracy: 0.86 - ETA: 0s - loss: 0.4163 - accuracy: 0.86 - ETA: 0s - loss: 0.4220 - accuracy: 0.86 - ETA: 0s - loss: 0.4277 - accuracy: 0.86 - ETA: 0s - loss: 0.4259 - accuracy: 0.86 - ETA: 0s - loss: 0.4266 - accuracy: 0.86 - ETA: 0s - loss: 0.4247 - accuracy: 0.86 - ETA: 0s - loss: 0.4238 - accuracy: 0.86 - ETA: 0s - loss: 0.4204 - accuracy: 0.86 - ETA: 0s - loss: 0.4225 - accuracy: 0.86 - ETA: 0s - loss: 0.4242 - accuracy: 0.86 - ETA: 0s - loss: 0.4233 - accuracy: 0.86 - ETA: 0s - loss: 0.4202 - accuracy: 0.86 - ETA: 0s - loss: 0.4201 - accuracy: 0.86 - ETA: 0s - loss: 0.4212 - accuracy: 0.86 - ETA: 0s - loss: 0.4234 - accuracy: 0.86 - ETA: 0s - loss: 0.4234 - accuracy: 0.86 - ETA: 0s - loss: 0.4238 - accuracy: 0.86 - ETA: 0s - loss: 0.4246 - accuracy: 0.86 - ETA: 0s - loss: 0.4245 - accuracy: 0.86 - 2s 2ms/step - loss: 0.4230 - accuracy: 0.8613\n"
     ]
    },
    {
     "data": {
      "application/javascript": [
       "\n",
       "            setTimeout(function() {\n",
       "                var nbb_cell_id = 32;\n",
       "                var nbb_unformatted_code = \"loss, accuracy = best_model.evaluate(np.asarray(test_data), np.asarray(test_labels))\";\n",
       "                var nbb_formatted_code = \"loss, accuracy = best_model.evaluate(np.asarray(test_data), np.asarray(test_labels))\";\n",
       "                var nbb_cells = Jupyter.notebook.get_cells();\n",
       "                for (var i = 0; i < nbb_cells.length; ++i) {\n",
       "                    if (nbb_cells[i].input_prompt_number == nbb_cell_id) {\n",
       "                        if (nbb_cells[i].get_text() == nbb_unformatted_code) {\n",
       "                             nbb_cells[i].set_text(nbb_formatted_code);\n",
       "                        }\n",
       "                        break;\n",
       "                    }\n",
       "                }\n",
       "            }, 500);\n",
       "            "
      ],
      "text/plain": [
       "<IPython.core.display.Javascript object>"
      ]
     },
     "metadata": {},
     "output_type": "display_data"
    }
   ],
   "source": [
    "loss, accuracy = best_model.evaluate(np.asarray(test_data), np.asarray(test_labels))"
   ]
  },
  {
   "cell_type": "code",
   "execution_count": 36,
   "metadata": {},
   "outputs": [
    {
     "name": "stdout",
     "output_type": "stream",
     "text": [
      "Model Accuracy: 86.12800240516663 %\n"
     ]
    },
    {
     "data": {
      "application/javascript": [
       "\n",
       "            setTimeout(function() {\n",
       "                var nbb_cell_id = 36;\n",
       "                var nbb_unformatted_code = \"\\nprint(\\\"Model Accuracy:\\\", accuracy * 100, \\\"%\\\")\";\n",
       "                var nbb_formatted_code = \"print(\\\"Model Accuracy:\\\", accuracy * 100, \\\"%\\\")\";\n",
       "                var nbb_cells = Jupyter.notebook.get_cells();\n",
       "                for (var i = 0; i < nbb_cells.length; ++i) {\n",
       "                    if (nbb_cells[i].input_prompt_number == nbb_cell_id) {\n",
       "                        if (nbb_cells[i].get_text() == nbb_unformatted_code) {\n",
       "                             nbb_cells[i].set_text(nbb_formatted_code);\n",
       "                        }\n",
       "                        break;\n",
       "                    }\n",
       "                }\n",
       "            }, 500);\n",
       "            "
      ],
      "text/plain": [
       "<IPython.core.display.Javascript object>"
      ]
     },
     "metadata": {},
     "output_type": "display_data"
    }
   ],
   "source": [
    "print(\"Model Accuracy:\", accuracy * 100, \"%\")"
   ]
  },
  {
   "cell_type": "code",
   "execution_count": 50,
   "metadata": {},
   "outputs": [
    {
     "data": {
      "application/javascript": [
       "\n",
       "            setTimeout(function() {\n",
       "                var nbb_cell_id = 50;\n",
       "                var nbb_unformatted_code = \"def encode(s):\\n    encoded = [1]\\n    sentence = s.split()\\n    for word in sentence:\\n        if word.lower() in word_mapping:\\n            encoded.append(word_mapping[word.lower()])\\n        else:\\n            encoded.append(2)\\n    return encoded\";\n",
       "                var nbb_formatted_code = \"def encode(s):\\n    encoded = [1]\\n    sentence = s.split()\\n    for word in sentence:\\n        if word.lower() in word_mapping:\\n            encoded.append(word_mapping[word.lower()])\\n        else:\\n            encoded.append(2)\\n    return encoded\";\n",
       "                var nbb_cells = Jupyter.notebook.get_cells();\n",
       "                for (var i = 0; i < nbb_cells.length; ++i) {\n",
       "                    if (nbb_cells[i].input_prompt_number == nbb_cell_id) {\n",
       "                        if (nbb_cells[i].get_text() == nbb_unformatted_code) {\n",
       "                             nbb_cells[i].set_text(nbb_formatted_code);\n",
       "                        }\n",
       "                        break;\n",
       "                    }\n",
       "                }\n",
       "            }, 500);\n",
       "            "
      ],
      "text/plain": [
       "<IPython.core.display.Javascript object>"
      ]
     },
     "metadata": {},
     "output_type": "display_data"
    }
   ],
   "source": [
    "def encode(s):\n",
    "    encoded = [1]\n",
    "    sentence = s.split()\n",
    "    for word in sentence:\n",
    "        if word.lower() in word_mapping:\n",
    "            encoded.append(word_mapping[word.lower()])\n",
    "        else:\n",
    "            encoded.append(2)\n",
    "    return encoded"
   ]
  },
  {
   "cell_type": "code",
   "execution_count": 60,
   "metadata": {},
   "outputs": [
    {
     "name": "stdout",
     "output_type": "stream",
     "text": [
      "Review:  This movie is really stupid and it sucks\n",
      "Prediction:  0.24100187\n"
     ]
    },
    {
     "data": {
      "application/javascript": [
       "\n",
       "            setTimeout(function() {\n",
       "                var nbb_cell_id = 60;\n",
       "                var nbb_unformatted_code = \"sentence_test = \\\"This movie is really stupid and it sucks\\\"\\nreal_encode = encode(sentence_test)\\nreal_padded = pad_sequences(\\n    [real_encode], maxlen=max_length, truncating=trun_type, value=word_mapping[\\\"<PAD>\\\"]\\n)\\nprint(\\\"Review: \\\", sentence_test)\\npredict = best_model.predict([real_padded])\\nprint(\\\"Prediction: \\\", str(predict[0][0]))\";\n",
       "                var nbb_formatted_code = \"sentence_test = \\\"This movie is really stupid and it sucks\\\"\\nreal_encode = encode(sentence_test)\\nreal_padded = pad_sequences(\\n    [real_encode], maxlen=max_length, truncating=trun_type, value=word_mapping[\\\"<PAD>\\\"]\\n)\\nprint(\\\"Review: \\\", sentence_test)\\npredict = best_model.predict([real_padded])\\nprint(\\\"Prediction: \\\", str(predict[0][0]))\";\n",
       "                var nbb_cells = Jupyter.notebook.get_cells();\n",
       "                for (var i = 0; i < nbb_cells.length; ++i) {\n",
       "                    if (nbb_cells[i].input_prompt_number == nbb_cell_id) {\n",
       "                        if (nbb_cells[i].get_text() == nbb_unformatted_code) {\n",
       "                             nbb_cells[i].set_text(nbb_formatted_code);\n",
       "                        }\n",
       "                        break;\n",
       "                    }\n",
       "                }\n",
       "            }, 500);\n",
       "            "
      ],
      "text/plain": [
       "<IPython.core.display.Javascript object>"
      ]
     },
     "metadata": {},
     "output_type": "display_data"
    }
   ],
   "source": [
    "sentence_test = \"This movie is really stupid and it sucks\"\n",
    "real_encode = encode(sentence_test)\n",
    "real_padded = pad_sequences(\n",
    "    [real_encode], maxlen=max_length, truncating=trun_type, value=word_mapping[\"<PAD>\"]\n",
    ")\n",
    "print(\"Review: \", sentence_test)\n",
    "predict = best_model.predict([real_padded])\n",
    "print(\"Prediction: \", str(predict[0][0]))"
   ]
  }
 ],
 "metadata": {
  "kernelspec": {
   "display_name": "tensorflowgpu",
   "language": "python",
   "name": "tensorflowgpu"
  },
  "language_info": {
   "codemirror_mode": {
    "name": "ipython",
    "version": 3
   },
   "file_extension": ".py",
   "mimetype": "text/x-python",
   "name": "python",
   "nbconvert_exporter": "python",
   "pygments_lexer": "ipython3",
   "version": "3.7.7"
  }
 },
 "nbformat": 4,
 "nbformat_minor": 2
}
