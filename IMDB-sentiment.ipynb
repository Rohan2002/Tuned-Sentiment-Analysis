{
 "cells": [
  {
   "cell_type": "code",
   "execution_count": 2,
   "metadata": {},
   "outputs": [
    {
     "name": "stdout",
     "output_type": "stream",
     "text": [
      "Tensorflow Version: 2.2.0\n",
      "[name: \"/device:CPU:0\"\n",
      "device_type: \"CPU\"\n",
      "memory_limit: 268435456\n",
      "locality {\n",
      "}\n",
      "incarnation: 8120631912214316652\n",
      ", name: \"/device:XLA_CPU:0\"\n",
      "device_type: \"XLA_CPU\"\n",
      "memory_limit: 17179869184\n",
      "locality {\n",
      "}\n",
      "incarnation: 14163087655216954026\n",
      "physical_device_desc: \"device: XLA_CPU device\"\n",
      ", name: \"/device:GPU:0\"\n",
      "device_type: \"GPU\"\n",
      "memory_limit: 3140655513\n",
      "locality {\n",
      "  bus_id: 1\n",
      "  links {\n",
      "  }\n",
      "}\n",
      "incarnation: 5689932091867122878\n",
      "physical_device_desc: \"device: 0, name: GeForce GTX 1050, pci bus id: 0000:3b:00.0, compute capability: 6.1\"\n",
      ", name: \"/device:XLA_GPU:0\"\n",
      "device_type: \"XLA_GPU\"\n",
      "memory_limit: 17179869184\n",
      "locality {\n",
      "}\n",
      "incarnation: 2560278782429340021\n",
      "physical_device_desc: \"device: XLA_GPU device\"\n",
      "]\n",
      "Num GPUs Available: 1\n"
     ]
    },
    {
     "data": {
      "application/javascript": [
       "\n",
       "            setTimeout(function() {\n",
       "                var nbb_cell_id = 2;\n",
       "                var nbb_unformatted_code = \"import numpy as np\\nimport tensorflow as tf\\nfrom tensorflow.keras.preprocessing.text import Tokenizer\\nfrom tensorflow.keras.preprocessing.sequence import pad_sequences\\nfrom tensorflow import keras\\nfrom tensorflow.python.client import device_lib\\nfrom kerastuner import HyperModel\\nfrom kerastuner.tuners import RandomSearch\\n\\n%reload_ext nb_black\\n\\nprint(\\\"Tensorflow Version:\\\", tf.__version__)\\nprint(device_lib.list_local_devices())\\nprint(\\\"Num GPUs Available:\\\", len(tf.config.experimental.list_physical_devices(\\\"GPU\\\")))\";\n",
       "                var nbb_formatted_code = \"import numpy as np\\nimport tensorflow as tf\\nfrom tensorflow.keras.preprocessing.text import Tokenizer\\nfrom tensorflow.keras.preprocessing.sequence import pad_sequences\\nfrom tensorflow import keras\\nfrom tensorflow.python.client import device_lib\\nfrom kerastuner import HyperModel\\nfrom kerastuner.tuners import RandomSearch\\n\\n%reload_ext nb_black\\n\\nprint(\\\"Tensorflow Version:\\\", tf.__version__)\\nprint(device_lib.list_local_devices())\\nprint(\\\"Num GPUs Available:\\\", len(tf.config.experimental.list_physical_devices(\\\"GPU\\\")))\";\n",
       "                var nbb_cells = Jupyter.notebook.get_cells();\n",
       "                for (var i = 0; i < nbb_cells.length; ++i) {\n",
       "                    if (nbb_cells[i].input_prompt_number == nbb_cell_id) {\n",
       "                        if (nbb_cells[i].get_text() == nbb_unformatted_code) {\n",
       "                             nbb_cells[i].set_text(nbb_formatted_code);\n",
       "                        }\n",
       "                        break;\n",
       "                    }\n",
       "                }\n",
       "            }, 500);\n",
       "            "
      ],
      "text/plain": [
       "<IPython.core.display.Javascript object>"
      ]
     },
     "metadata": {},
     "output_type": "display_data"
    }
   ],
   "source": [
    "import numpy as np\n",
    "import tensorflow as tf\n",
    "from tensorflow.keras.preprocessing.text import Tokenizer\n",
    "from tensorflow.keras.preprocessing.sequence import pad_sequences\n",
    "from tensorflow import keras\n",
    "from tensorflow.python.client import device_lib\n",
    "from kerastuner import HyperModel\n",
    "from kerastuner.tuners import RandomSearch\n",
    "\n",
    "%reload_ext nb_black\n",
    "\n",
    "print(\"Tensorflow Version:\", tf.__version__)\n",
    "print(device_lib.list_local_devices())\n",
    "print(\"Num GPUs Available:\", len(tf.config.experimental.list_physical_devices(\"GPU\")))"
   ]
  },
  {
   "cell_type": "code",
   "execution_count": 3,
   "metadata": {},
   "outputs": [
    {
     "data": {
      "application/javascript": [
       "\n",
       "            setTimeout(function() {\n",
       "                var nbb_cell_id = 3;\n",
       "                var nbb_unformatted_code = \"# Hyperparameters\\ndropout_rate = 0.2\\nvalidation_cut = 10000\\nvocab_size = 88000\\nembedding_dim = 16\\nmax_length = 256\\ntrun_type = \\\"post\\\"\\noov_tok = \\\"<OOV>\\\"\\nnum_epochs = 50\\nbatch = 512\";\n",
       "                var nbb_formatted_code = \"# Hyperparameters\\ndropout_rate = 0.2\\nvalidation_cut = 10000\\nvocab_size = 88000\\nembedding_dim = 16\\nmax_length = 256\\ntrun_type = \\\"post\\\"\\noov_tok = \\\"<OOV>\\\"\\nnum_epochs = 50\\nbatch = 512\";\n",
       "                var nbb_cells = Jupyter.notebook.get_cells();\n",
       "                for (var i = 0; i < nbb_cells.length; ++i) {\n",
       "                    if (nbb_cells[i].input_prompt_number == nbb_cell_id) {\n",
       "                        if (nbb_cells[i].get_text() == nbb_unformatted_code) {\n",
       "                             nbb_cells[i].set_text(nbb_formatted_code);\n",
       "                        }\n",
       "                        break;\n",
       "                    }\n",
       "                }\n",
       "            }, 500);\n",
       "            "
      ],
      "text/plain": [
       "<IPython.core.display.Javascript object>"
      ]
     },
     "metadata": {},
     "output_type": "display_data"
    }
   ],
   "source": [
    "# Hyperparameters\n",
    "dropout_rate = 0.2\n",
    "validation_cut = 10000\n",
    "vocab_size = 88000\n",
    "embedding_dim = 16\n",
    "max_length = 256\n",
    "trun_type = \"post\"\n",
    "oov_tok = \"<OOV>\"\n",
    "num_epochs = 50\n",
    "batch = 512"
   ]
  },
  {
   "cell_type": "code",
   "execution_count": 4,
   "metadata": {},
   "outputs": [
    {
     "name": "stdout",
     "output_type": "stream",
     "text": [
      "Downloading data from https://storage.googleapis.com/tensorflow/tf-keras-datasets/imdb.npz\n",
      "17465344/17464789 [==============================] - ETA:  - ETA:  - ETA:  - ETA:  - ETA:  - ETA:  - ETA:  - ETA:  - ETA:  - 0s 0us/step\n"
     ]
    },
    {
     "data": {
      "application/javascript": [
       "\n",
       "            setTimeout(function() {\n",
       "                var nbb_cell_id = 4;\n",
       "                var nbb_unformatted_code = \"(train_data, train_labels), (test_data, test_labels) = keras.datasets.imdb.load_data(\\n    num_words=vocab_size\\n)\";\n",
       "                var nbb_formatted_code = \"(train_data, train_labels), (test_data, test_labels) = keras.datasets.imdb.load_data(\\n    num_words=vocab_size\\n)\";\n",
       "                var nbb_cells = Jupyter.notebook.get_cells();\n",
       "                for (var i = 0; i < nbb_cells.length; ++i) {\n",
       "                    if (nbb_cells[i].input_prompt_number == nbb_cell_id) {\n",
       "                        if (nbb_cells[i].get_text() == nbb_unformatted_code) {\n",
       "                             nbb_cells[i].set_text(nbb_formatted_code);\n",
       "                        }\n",
       "                        break;\n",
       "                    }\n",
       "                }\n",
       "            }, 500);\n",
       "            "
      ],
      "text/plain": [
       "<IPython.core.display.Javascript object>"
      ]
     },
     "metadata": {},
     "output_type": "display_data"
    }
   ],
   "source": [
    "(train_data, train_labels), (test_data, test_labels) = keras.datasets.imdb.load_data(\n",
    "    num_words=vocab_size\n",
    ")"
   ]
  },
  {
   "cell_type": "code",
   "execution_count": 5,
   "metadata": {},
   "outputs": [
    {
     "name": "stdout",
     "output_type": "stream",
     "text": [
      "Downloading data from https://storage.googleapis.com/tensorflow/tf-keras-datasets/imdb_word_index.json\n",
      "1646592/1641221 [==============================] - ETA:  - ETA:  - ETA:  - 0s 0us/step\n"
     ]
    },
    {
     "data": {
      "application/javascript": [
       "\n",
       "            setTimeout(function() {\n",
       "                var nbb_cell_id = 5;\n",
       "                var nbb_unformatted_code = \"word_mapping = keras.datasets.imdb.get_word_index()\\nword_mapping = {k: v + 3 for k, v in word_mapping.items()}\";\n",
       "                var nbb_formatted_code = \"word_mapping = keras.datasets.imdb.get_word_index()\\nword_mapping = {k: v + 3 for k, v in word_mapping.items()}\";\n",
       "                var nbb_cells = Jupyter.notebook.get_cells();\n",
       "                for (var i = 0; i < nbb_cells.length; ++i) {\n",
       "                    if (nbb_cells[i].input_prompt_number == nbb_cell_id) {\n",
       "                        if (nbb_cells[i].get_text() == nbb_unformatted_code) {\n",
       "                             nbb_cells[i].set_text(nbb_formatted_code);\n",
       "                        }\n",
       "                        break;\n",
       "                    }\n",
       "                }\n",
       "            }, 500);\n",
       "            "
      ],
      "text/plain": [
       "<IPython.core.display.Javascript object>"
      ]
     },
     "metadata": {},
     "output_type": "display_data"
    }
   ],
   "source": [
    "word_mapping = keras.datasets.imdb.get_word_index()\n",
    "word_mapping = {k: v + 3 for k, v in word_mapping.items()}"
   ]
  },
  {
   "cell_type": "code",
   "execution_count": 6,
   "metadata": {},
   "outputs": [
    {
     "data": {
      "application/javascript": [
       "\n",
       "            setTimeout(function() {\n",
       "                var nbb_cell_id = 6;\n",
       "                var nbb_unformatted_code = \"# Add Invalid keys\\nword_mapping[\\\"<PAD>\\\"] = 0\\nword_mapping[\\\"<START>\\\"] = 1\\nword_mapping[\\\"<UNK>\\\"] = 2\\nword_mapping[\\\"<UNUSED>\\\"] = 3\";\n",
       "                var nbb_formatted_code = \"# Add Invalid keys\\nword_mapping[\\\"<PAD>\\\"] = 0\\nword_mapping[\\\"<START>\\\"] = 1\\nword_mapping[\\\"<UNK>\\\"] = 2\\nword_mapping[\\\"<UNUSED>\\\"] = 3\";\n",
       "                var nbb_cells = Jupyter.notebook.get_cells();\n",
       "                for (var i = 0; i < nbb_cells.length; ++i) {\n",
       "                    if (nbb_cells[i].input_prompt_number == nbb_cell_id) {\n",
       "                        if (nbb_cells[i].get_text() == nbb_unformatted_code) {\n",
       "                             nbb_cells[i].set_text(nbb_formatted_code);\n",
       "                        }\n",
       "                        break;\n",
       "                    }\n",
       "                }\n",
       "            }, 500);\n",
       "            "
      ],
      "text/plain": [
       "<IPython.core.display.Javascript object>"
      ]
     },
     "metadata": {},
     "output_type": "display_data"
    }
   ],
   "source": [
    "# Add Invalid keys\n",
    "word_mapping[\"<PAD>\"] = 0\n",
    "word_mapping[\"<START>\"] = 1\n",
    "word_mapping[\"<UNK>\"] = 2\n",
    "word_mapping[\"<UNUSED>\"] = 3"
   ]
  },
  {
   "cell_type": "code",
   "execution_count": 7,
   "metadata": {},
   "outputs": [
    {
     "name": "stdout",
     "output_type": "stream",
     "text": [
      "[1, 591, 202, 14, 31, 6, 717, 10, 10, 18142, 10698, 5, 4, 360, 7, 4, 177, 5760, 394, 354, 4, 123, 9, 1035, 1035, 1035, 10, 10, 13, 92, 124, 89, 488, 7944, 100, 28, 1668, 14, 31, 23, 27, 7479, 29, 220, 468, 8, 124, 14, 286, 170, 8, 157, 46, 5, 27, 239, 16, 179, 15387, 38, 32, 25, 7944, 451, 202, 14, 6, 717]\n"
     ]
    },
    {
     "data": {
      "text/plain": [
       "\"<START> please give this one a miss br br kristy swanson and the rest of the cast rendered terrible performances the show is flat flat flat br br i don't know how michael madison could have allowed this one on his plate he almost seemed to know this wasn't going to work out and his performance was quite lacklustre so all you madison fans give this a miss\""
      ]
     },
     "execution_count": 7,
     "metadata": {},
     "output_type": "execute_result"
    },
    {
     "data": {
      "application/javascript": [
       "\n",
       "            setTimeout(function() {\n",
       "                var nbb_cell_id = 7;\n",
       "                var nbb_unformatted_code = \"reverse_word_index = dict((value, key) for (key, value) in word_mapping.items())\\n\\n\\ndef decode_review(text):\\n    return \\\" \\\".join([reverse_word_index.get(i, \\\"?\\\") for i in text])\\n\\n\\nprint(test_data[0])\\ndecode_review(test_data[0])\";\n",
       "                var nbb_formatted_code = \"reverse_word_index = dict((value, key) for (key, value) in word_mapping.items())\\n\\n\\ndef decode_review(text):\\n    return \\\" \\\".join([reverse_word_index.get(i, \\\"?\\\") for i in text])\\n\\n\\nprint(test_data[0])\\ndecode_review(test_data[0])\";\n",
       "                var nbb_cells = Jupyter.notebook.get_cells();\n",
       "                for (var i = 0; i < nbb_cells.length; ++i) {\n",
       "                    if (nbb_cells[i].input_prompt_number == nbb_cell_id) {\n",
       "                        if (nbb_cells[i].get_text() == nbb_unformatted_code) {\n",
       "                             nbb_cells[i].set_text(nbb_formatted_code);\n",
       "                        }\n",
       "                        break;\n",
       "                    }\n",
       "                }\n",
       "            }, 500);\n",
       "            "
      ],
      "text/plain": [
       "<IPython.core.display.Javascript object>"
      ]
     },
     "metadata": {},
     "output_type": "display_data"
    }
   ],
   "source": [
    "reverse_word_index = dict((value, key) for (key, value) in word_mapping.items())\n",
    "\n",
    "\n",
    "def decode_review(text):\n",
    "    return \" \".join([reverse_word_index.get(i, \"?\") for i in text])\n",
    "\n",
    "\n",
    "print(test_data[0])\n",
    "decode_review(test_data[0])"
   ]
  },
  {
   "cell_type": "code",
   "execution_count": 8,
   "metadata": {},
   "outputs": [
    {
     "data": {
      "application/javascript": [
       "\n",
       "            setTimeout(function() {\n",
       "                var nbb_cell_id = 8;\n",
       "                var nbb_unformatted_code = \"train_data = pad_sequences(\\n    train_data, maxlen=max_length, truncating=trun_type, value=word_mapping[\\\"<PAD>\\\"]\\n)\\ntest_data = pad_sequences(\\n    test_data, maxlen=max_length, truncating=trun_type, value=word_mapping[\\\"<PAD>\\\"]\\n)\";\n",
       "                var nbb_formatted_code = \"train_data = pad_sequences(\\n    train_data, maxlen=max_length, truncating=trun_type, value=word_mapping[\\\"<PAD>\\\"]\\n)\\ntest_data = pad_sequences(\\n    test_data, maxlen=max_length, truncating=trun_type, value=word_mapping[\\\"<PAD>\\\"]\\n)\";\n",
       "                var nbb_cells = Jupyter.notebook.get_cells();\n",
       "                for (var i = 0; i < nbb_cells.length; ++i) {\n",
       "                    if (nbb_cells[i].input_prompt_number == nbb_cell_id) {\n",
       "                        if (nbb_cells[i].get_text() == nbb_unformatted_code) {\n",
       "                             nbb_cells[i].set_text(nbb_formatted_code);\n",
       "                        }\n",
       "                        break;\n",
       "                    }\n",
       "                }\n",
       "            }, 500);\n",
       "            "
      ],
      "text/plain": [
       "<IPython.core.display.Javascript object>"
      ]
     },
     "metadata": {},
     "output_type": "display_data"
    }
   ],
   "source": [
    "train_data = pad_sequences(\n",
    "    train_data, maxlen=max_length, truncating=trun_type, value=word_mapping[\"<PAD>\"]\n",
    ")\n",
    "test_data = pad_sequences(\n",
    "    test_data, maxlen=max_length, truncating=trun_type, value=word_mapping[\"<PAD>\"]\n",
    ")"
   ]
  },
  {
   "cell_type": "code",
   "execution_count": 9,
   "metadata": {},
   "outputs": [
    {
     "data": {
      "application/javascript": [
       "\n",
       "            setTimeout(function() {\n",
       "                var nbb_cell_id = 9;\n",
       "                var nbb_unformatted_code = \"x_train = train_data[validation_cut:]\\nx_val = train_data[:validation_cut]\\ny_train = train_labels[validation_cut:]\\ny_val = train_labels[:validation_cut]\";\n",
       "                var nbb_formatted_code = \"x_train = train_data[validation_cut:]\\nx_val = train_data[:validation_cut]\\ny_train = train_labels[validation_cut:]\\ny_val = train_labels[:validation_cut]\";\n",
       "                var nbb_cells = Jupyter.notebook.get_cells();\n",
       "                for (var i = 0; i < nbb_cells.length; ++i) {\n",
       "                    if (nbb_cells[i].input_prompt_number == nbb_cell_id) {\n",
       "                        if (nbb_cells[i].get_text() == nbb_unformatted_code) {\n",
       "                             nbb_cells[i].set_text(nbb_formatted_code);\n",
       "                        }\n",
       "                        break;\n",
       "                    }\n",
       "                }\n",
       "            }, 500);\n",
       "            "
      ],
      "text/plain": [
       "<IPython.core.display.Javascript object>"
      ]
     },
     "metadata": {},
     "output_type": "display_data"
    }
   ],
   "source": [
    "x_train = train_data[validation_cut:]\n",
    "x_val = train_data[:validation_cut]\n",
    "y_train = train_labels[validation_cut:]\n",
    "y_val = train_labels[:validation_cut]"
   ]
  },
  {
   "cell_type": "code",
   "execution_count": 84,
   "metadata": {},
   "outputs": [
    {
     "name": "stdout",
     "output_type": "stream",
     "text": [
      "Model: \"sequential_5\"\n",
      "_________________________________________________________________\n",
      "Layer (type)                 Output Shape              Param #   \n",
      "=================================================================\n",
      "embedding_5 (Embedding)      (None, None, 16)          1408000   \n",
      "_________________________________________________________________\n",
      "global_average_pooling1d_5 ( (None, 16)                0         \n",
      "_________________________________________________________________\n",
      "dropout_5 (Dropout)          (None, 16)                0         \n",
      "_________________________________________________________________\n",
      "dense_10 (Dense)             (None, 16)                272       \n",
      "_________________________________________________________________\n",
      "dense_11 (Dense)             (None, 1)                 17        \n",
      "=================================================================\n",
      "Total params: 1,408,289\n",
      "Trainable params: 1,408,289\n",
      "Non-trainable params: 0\n",
      "_________________________________________________________________\n"
     ]
    },
    {
     "data": {
      "application/javascript": [
       "\n",
       "            setTimeout(function() {\n",
       "                var nbb_cell_id = 84;\n",
       "                var nbb_unformatted_code = \"model = keras.Sequential()\\nmodel.add(keras.layers.Embedding(vocab_size, embedding_dim))\\nmodel.add(keras.layers.GlobalAveragePooling1D())\\nmodel.add(keras.layers.Dropout(rate=0.6))\\nmodel.add(keras.layers.Dense(embedding_dim, activation=\\\"relu\\\"))\\nmodel.add(keras.layers.Dense(1, activation=\\\"sigmoid\\\"))\\n\\nmodel.compile(\\n    loss=\\\"binary_crossentropy\\\", optimizer=keras.optimizers.Adam(), metrics=[\\\"accuracy\\\"],\\n)\\nmodel.summary()\";\n",
       "                var nbb_formatted_code = \"model = keras.Sequential()\\nmodel.add(keras.layers.Embedding(vocab_size, embedding_dim))\\nmodel.add(keras.layers.GlobalAveragePooling1D())\\nmodel.add(keras.layers.Dropout(rate=0.6))\\nmodel.add(keras.layers.Dense(embedding_dim, activation=\\\"relu\\\"))\\nmodel.add(keras.layers.Dense(1, activation=\\\"sigmoid\\\"))\\n\\nmodel.compile(\\n    loss=\\\"binary_crossentropy\\\", optimizer=keras.optimizers.Adam(), metrics=[\\\"accuracy\\\"],\\n)\\nmodel.summary()\";\n",
       "                var nbb_cells = Jupyter.notebook.get_cells();\n",
       "                for (var i = 0; i < nbb_cells.length; ++i) {\n",
       "                    if (nbb_cells[i].input_prompt_number == nbb_cell_id) {\n",
       "                        if (nbb_cells[i].get_text() == nbb_unformatted_code) {\n",
       "                             nbb_cells[i].set_text(nbb_formatted_code);\n",
       "                        }\n",
       "                        break;\n",
       "                    }\n",
       "                }\n",
       "            }, 500);\n",
       "            "
      ],
      "text/plain": [
       "<IPython.core.display.Javascript object>"
      ]
     },
     "metadata": {},
     "output_type": "display_data"
    }
   ],
   "source": [
    "model = keras.Sequential()\n",
    "model.add(keras.layers.Embedding(vocab_size, embedding_dim))\n",
    "model.add(keras.layers.GlobalAveragePooling1D())\n",
    "model.add(keras.layers.Dropout(rate=0.6))\n",
    "model.add(keras.layers.Dense(embedding_dim, activation=\"relu\"))\n",
    "model.add(keras.layers.Dense(1, activation=\"sigmoid\"))\n",
    "\n",
    "model.compile(\n",
    "    loss=\"binary_crossentropy\", optimizer=keras.optimizers.Adam(), metrics=[\"accuracy\"],\n",
    ")\n",
    "model.summary()"
   ]
  },
  {
   "cell_type": "code",
   "execution_count": 85,
   "metadata": {},
   "outputs": [
    {
     "name": "stdout",
     "output_type": "stream",
     "text": [
      "Epoch 1/50\n",
      "30/30 - 1s - loss: 0.6925 - accuracy: 0.5511 - val_loss: 0.6914 - val_accuracy: 0.5850\n",
      "Epoch 2/50\n",
      "30/30 - 1s - loss: 0.6889 - accuracy: 0.6433 - val_loss: 0.6853 - val_accuracy: 0.7363\n",
      "Epoch 3/50\n",
      "30/30 - 1s - loss: 0.6789 - accuracy: 0.7223 - val_loss: 0.6720 - val_accuracy: 0.7213\n",
      "Epoch 4/50\n",
      "30/30 - 1s - loss: 0.6594 - accuracy: 0.7522 - val_loss: 0.6490 - val_accuracy: 0.7599\n",
      "Epoch 5/50\n",
      "30/30 - 1s - loss: 0.6299 - accuracy: 0.7787 - val_loss: 0.6170 - val_accuracy: 0.7806\n",
      "Epoch 6/50\n",
      "30/30 - 1s - loss: 0.5911 - accuracy: 0.8050 - val_loss: 0.5784 - val_accuracy: 0.7996\n",
      "Epoch 7/50\n",
      "30/30 - 1s - loss: 0.5453 - accuracy: 0.8203 - val_loss: 0.5372 - val_accuracy: 0.8113\n",
      "Epoch 8/50\n",
      "30/30 - 1s - loss: 0.5007 - accuracy: 0.8427 - val_loss: 0.4977 - val_accuracy: 0.8245\n",
      "Epoch 9/50\n",
      "30/30 - 1s - loss: 0.4549 - accuracy: 0.8603 - val_loss: 0.4606 - val_accuracy: 0.8353\n",
      "Epoch 10/50\n",
      "30/30 - 1s - loss: 0.4152 - accuracy: 0.8766 - val_loss: 0.4290 - val_accuracy: 0.8440\n",
      "Epoch 11/50\n",
      "30/30 - 1s - loss: 0.3778 - accuracy: 0.8865 - val_loss: 0.4023 - val_accuracy: 0.8512\n",
      "Epoch 12/50\n",
      "30/30 - 1s - loss: 0.3467 - accuracy: 0.8959 - val_loss: 0.3803 - val_accuracy: 0.8578\n",
      "Epoch 13/50\n",
      "30/30 - 1s - loss: 0.3205 - accuracy: 0.9021 - val_loss: 0.3622 - val_accuracy: 0.8640\n",
      "Epoch 14/50\n",
      "30/30 - 1s - loss: 0.2947 - accuracy: 0.9123 - val_loss: 0.3467 - val_accuracy: 0.8660\n",
      "Epoch 15/50\n",
      "30/30 - 1s - loss: 0.2741 - accuracy: 0.9181 - val_loss: 0.3363 - val_accuracy: 0.8682\n",
      "Epoch 16/50\n",
      "30/30 - 1s - loss: 0.2568 - accuracy: 0.9239 - val_loss: 0.3263 - val_accuracy: 0.8719\n",
      "Epoch 17/50\n",
      "30/30 - 1s - loss: 0.2402 - accuracy: 0.9276 - val_loss: 0.3181 - val_accuracy: 0.8738\n",
      "Epoch 18/50\n",
      "30/30 - 1s - loss: 0.2233 - accuracy: 0.9341 - val_loss: 0.3105 - val_accuracy: 0.8765\n",
      "Epoch 19/50\n",
      "30/30 - 1s - loss: 0.2085 - accuracy: 0.9399 - val_loss: 0.3047 - val_accuracy: 0.8778\n",
      "Epoch 20/50\n",
      "30/30 - 1s - loss: 0.1964 - accuracy: 0.9435 - val_loss: 0.3013 - val_accuracy: 0.8776\n",
      "Epoch 21/50\n",
      "30/30 - 1s - loss: 0.1835 - accuracy: 0.9484 - val_loss: 0.2972 - val_accuracy: 0.8796\n",
      "Epoch 22/50\n",
      "30/30 - 1s - loss: 0.1721 - accuracy: 0.9526 - val_loss: 0.2944 - val_accuracy: 0.8810\n",
      "Epoch 23/50\n",
      "30/30 - 1s - loss: 0.1614 - accuracy: 0.9563 - val_loss: 0.2926 - val_accuracy: 0.8803\n",
      "Epoch 24/50\n",
      "30/30 - 1s - loss: 0.1527 - accuracy: 0.9597 - val_loss: 0.2922 - val_accuracy: 0.8804\n",
      "Epoch 25/50\n",
      "30/30 - 1s - loss: 0.1423 - accuracy: 0.9626 - val_loss: 0.2913 - val_accuracy: 0.8808\n",
      "Epoch 26/50\n",
      "30/30 - 1s - loss: 0.1373 - accuracy: 0.9665 - val_loss: 0.2907 - val_accuracy: 0.8810\n",
      "Epoch 27/50\n",
      "30/30 - 1s - loss: 0.1263 - accuracy: 0.9702 - val_loss: 0.2910 - val_accuracy: 0.8814\n",
      "Epoch 28/50\n",
      "30/30 - 1s - loss: 0.1191 - accuracy: 0.9725 - val_loss: 0.2935 - val_accuracy: 0.8799\n",
      "Epoch 29/50\n",
      "30/30 - 1s - loss: 0.1123 - accuracy: 0.9739 - val_loss: 0.2927 - val_accuracy: 0.8821\n",
      "Epoch 30/50\n",
      "30/30 - 1s - loss: 0.1074 - accuracy: 0.9753 - val_loss: 0.2940 - val_accuracy: 0.8828\n",
      "Epoch 31/50\n",
      "30/30 - 1s - loss: 0.1008 - accuracy: 0.9784 - val_loss: 0.2954 - val_accuracy: 0.8836\n",
      "Epoch 32/50\n",
      "30/30 - 1s - loss: 0.0955 - accuracy: 0.9799 - val_loss: 0.2984 - val_accuracy: 0.8818\n",
      "Epoch 33/50\n",
      "30/30 - 1s - loss: 0.0904 - accuracy: 0.9807 - val_loss: 0.2991 - val_accuracy: 0.8839\n",
      "Epoch 34/50\n",
      "30/30 - 1s - loss: 0.0851 - accuracy: 0.9829 - val_loss: 0.3019 - val_accuracy: 0.8828\n",
      "Epoch 35/50\n",
      "30/30 - 1s - loss: 0.0807 - accuracy: 0.9837 - val_loss: 0.3042 - val_accuracy: 0.8822\n",
      "Epoch 36/50\n",
      "30/30 - 1s - loss: 0.0773 - accuracy: 0.9853 - val_loss: 0.3079 - val_accuracy: 0.8821\n",
      "Epoch 37/50\n",
      "30/30 - 1s - loss: 0.0720 - accuracy: 0.9862 - val_loss: 0.3093 - val_accuracy: 0.8822\n",
      "Epoch 38/50\n",
      "30/30 - 1s - loss: 0.0694 - accuracy: 0.9879 - val_loss: 0.3136 - val_accuracy: 0.8821\n",
      "Epoch 39/50\n",
      "30/30 - 1s - loss: 0.0655 - accuracy: 0.9887 - val_loss: 0.3176 - val_accuracy: 0.8819\n",
      "Epoch 40/50\n",
      "30/30 - 1s - loss: 0.0620 - accuracy: 0.9889 - val_loss: 0.3194 - val_accuracy: 0.8823\n",
      "Epoch 41/50\n",
      "30/30 - 1s - loss: 0.0581 - accuracy: 0.9904 - val_loss: 0.3214 - val_accuracy: 0.8838\n",
      "Epoch 42/50\n",
      "30/30 - 1s - loss: 0.0557 - accuracy: 0.9903 - val_loss: 0.3261 - val_accuracy: 0.8816\n",
      "Epoch 43/50\n",
      "30/30 - 1s - loss: 0.0529 - accuracy: 0.9919 - val_loss: 0.3291 - val_accuracy: 0.8817\n",
      "Epoch 44/50\n",
      "30/30 - 1s - loss: 0.0502 - accuracy: 0.9923 - val_loss: 0.3319 - val_accuracy: 0.8819\n",
      "Epoch 45/50\n",
      "30/30 - 1s - loss: 0.0476 - accuracy: 0.9934 - val_loss: 0.3363 - val_accuracy: 0.8817\n",
      "Epoch 46/50\n",
      "30/30 - 1s - loss: 0.0460 - accuracy: 0.9941 - val_loss: 0.3402 - val_accuracy: 0.8811\n",
      "Epoch 47/50\n",
      "30/30 - 1s - loss: 0.0435 - accuracy: 0.9939 - val_loss: 0.3429 - val_accuracy: 0.8815\n",
      "Epoch 48/50\n",
      "30/30 - 1s - loss: 0.0404 - accuracy: 0.9941 - val_loss: 0.3462 - val_accuracy: 0.8818\n",
      "Epoch 49/50\n",
      "30/30 - 1s - loss: 0.0394 - accuracy: 0.9946 - val_loss: 0.3496 - val_accuracy: 0.8823\n",
      "Epoch 50/50\n",
      "30/30 - 1s - loss: 0.0376 - accuracy: 0.9951 - val_loss: 0.3548 - val_accuracy: 0.8806\n"
     ]
    },
    {
     "data": {
      "text/plain": [
       "<tensorflow.python.keras.callbacks.History at 0x258867b5e88>"
      ]
     },
     "execution_count": 85,
     "metadata": {},
     "output_type": "execute_result"
    },
    {
     "data": {
      "application/javascript": [
       "\n",
       "            setTimeout(function() {\n",
       "                var nbb_cell_id = 85;\n",
       "                var nbb_unformatted_code = \"model.fit(\\n    x_train,\\n    y_train,\\n    batch_size=batch,\\n    epochs=num_epochs,\\n    validation_data=(x_val, y_val),\\n    verbose=2,\\n)\";\n",
       "                var nbb_formatted_code = \"model.fit(\\n    x_train,\\n    y_train,\\n    batch_size=batch,\\n    epochs=num_epochs,\\n    validation_data=(x_val, y_val),\\n    verbose=2,\\n)\";\n",
       "                var nbb_cells = Jupyter.notebook.get_cells();\n",
       "                for (var i = 0; i < nbb_cells.length; ++i) {\n",
       "                    if (nbb_cells[i].input_prompt_number == nbb_cell_id) {\n",
       "                        if (nbb_cells[i].get_text() == nbb_unformatted_code) {\n",
       "                             nbb_cells[i].set_text(nbb_formatted_code);\n",
       "                        }\n",
       "                        break;\n",
       "                    }\n",
       "                }\n",
       "            }, 500);\n",
       "            "
      ],
      "text/plain": [
       "<IPython.core.display.Javascript object>"
      ]
     },
     "metadata": {},
     "output_type": "display_data"
    }
   ],
   "source": [
    "model.fit(\n",
    "    x_train,\n",
    "    y_train,\n",
    "    batch_size=batch,\n",
    "    epochs=num_epochs,\n",
    "    validation_data=(x_val, y_val),\n",
    "    verbose=2,\n",
    ")"
   ]
  },
  {
   "cell_type": "code",
   "execution_count": 86,
   "metadata": {},
   "outputs": [
    {
     "name": "stdout",
     "output_type": "stream",
     "text": [
      "782/782 [==============================] - ETA: 0s - loss: 0.3717 - accuracy: 0.87 - ETA: 1s - loss: 0.3617 - accuracy: 0.86 - ETA: 1s - loss: 0.3857 - accuracy: 0.86 - ETA: 1s - loss: 0.3898 - accuracy: 0.86 - ETA: 1s - loss: 0.3811 - accuracy: 0.86 - ETA: 1s - loss: 0.4019 - accuracy: 0.85 - ETA: 1s - loss: 0.4065 - accuracy: 0.86 - ETA: 1s - loss: 0.4056 - accuracy: 0.86 - ETA: 1s - loss: 0.4062 - accuracy: 0.86 - ETA: 1s - loss: 0.4009 - accuracy: 0.86 - ETA: 1s - loss: 0.4016 - accuracy: 0.86 - ETA: 0s - loss: 0.4077 - accuracy: 0.86 - ETA: 0s - loss: 0.4115 - accuracy: 0.85 - ETA: 0s - loss: 0.4147 - accuracy: 0.85 - ETA: 0s - loss: 0.4144 - accuracy: 0.86 - ETA: 0s - loss: 0.4146 - accuracy: 0.86 - ETA: 0s - loss: 0.4102 - accuracy: 0.86 - ETA: 0s - loss: 0.4096 - accuracy: 0.86 - ETA: 0s - loss: 0.4077 - accuracy: 0.86 - ETA: 0s - loss: 0.4089 - accuracy: 0.86 - ETA: 0s - loss: 0.4086 - accuracy: 0.86 - ETA: 0s - loss: 0.4090 - accuracy: 0.86 - ETA: 0s - loss: 0.4053 - accuracy: 0.86 - ETA: 0s - loss: 0.4047 - accuracy: 0.86 - ETA: 0s - loss: 0.4053 - accuracy: 0.86 - ETA: 0s - loss: 0.4058 - accuracy: 0.86 - ETA: 0s - loss: 0.4055 - accuracy: 0.86 - ETA: 0s - loss: 0.4078 - accuracy: 0.86 - ETA: 0s - loss: 0.4064 - accuracy: 0.86 - ETA: 0s - loss: 0.4067 - accuracy: 0.86 - ETA: 0s - loss: 0.4073 - accuracy: 0.86 - 2s 2ms/step - loss: 0.4063 - accuracy: 0.8616\n"
     ]
    },
    {
     "data": {
      "text/plain": [
       "[0.406347393989563, 0.8616399765014648]"
      ]
     },
     "execution_count": 86,
     "metadata": {},
     "output_type": "execute_result"
    },
    {
     "data": {
      "application/javascript": [
       "\n",
       "            setTimeout(function() {\n",
       "                var nbb_cell_id = 86;\n",
       "                var nbb_unformatted_code = \"model.evaluate(np.asarray(test_data), np.asarray(test_labels))\";\n",
       "                var nbb_formatted_code = \"model.evaluate(np.asarray(test_data), np.asarray(test_labels))\";\n",
       "                var nbb_cells = Jupyter.notebook.get_cells();\n",
       "                for (var i = 0; i < nbb_cells.length; ++i) {\n",
       "                    if (nbb_cells[i].input_prompt_number == nbb_cell_id) {\n",
       "                        if (nbb_cells[i].get_text() == nbb_unformatted_code) {\n",
       "                             nbb_cells[i].set_text(nbb_formatted_code);\n",
       "                        }\n",
       "                        break;\n",
       "                    }\n",
       "                }\n",
       "            }, 500);\n",
       "            "
      ],
      "text/plain": [
       "<IPython.core.display.Javascript object>"
      ]
     },
     "metadata": {},
     "output_type": "display_data"
    }
   ],
   "source": [
    "model.evaluate(np.asarray(test_data), np.asarray(test_labels))"
   ]
  },
  {
   "cell_type": "code",
   "execution_count": 91,
   "metadata": {},
   "outputs": [
    {
     "data": {
      "application/javascript": [
       "\n",
       "            setTimeout(function() {\n",
       "                var nbb_cell_id = 91;\n",
       "                var nbb_unformatted_code = \"class RegressionHyperModel(HyperModel):\\n    def __init__(self, input_shape):\\n        self.input_shape = input_shape\\n\\n    def build(self, hp):\\n        model = keras.Sequential()\\n        model.add(keras.layers.Embedding(vocab_size, embedding_dim))\\n        model.add(keras.layers.GlobalAveragePooling1D())\\n        model.add(\\n            keras.layers.Dropout(\\n                rate=hp.Float(\\n                    \\\"dropout\\\", min_value=0, max_value=1.0, default=0.1, step=0.1\\n                )\\n            )\\n        )\\n        model.add(\\n            keras.layers.Dense(\\n                embedding_dim,\\n                activation=hp.Choice(\\n                    \\\"dense_activation\\\",\\n                    values=[\\\"relu\\\", \\\"tanh\\\", \\\"sigmoid\\\"],\\n                    default=\\\"relu\\\",\\n                ),\\n            )\\n        )\\n        model.add(\\n            keras.layers.Dropout(\\n                rate=hp.Float(\\n                    \\\"dropout\\\", min_value=0, max_value=1.0, default=0.1, step=0.1\\n                )\\n            )\\n        )\\n        model.add(keras.layers.Dense(1, activation=\\\"sigmoid\\\"))\\n\\n        model.compile(\\n            loss=\\\"binary_crossentropy\\\",\\n            optimizer=keras.optimizers.Adam(\\n                hp.Float(\\n                    \\\"learning_rate\\\",\\n                    min_value=1e-4,\\n                    max_value=1e-1,\\n                    sampling=\\\"LOG\\\",\\n                    default=1e-3,\\n                )\\n            ),\\n            metrics=[\\\"accuracy\\\"],\\n        )\\n        return model\";\n",
       "                var nbb_formatted_code = \"class RegressionHyperModel(HyperModel):\\n    def __init__(self, input_shape):\\n        self.input_shape = input_shape\\n\\n    def build(self, hp):\\n        model = keras.Sequential()\\n        model.add(keras.layers.Embedding(vocab_size, embedding_dim))\\n        model.add(keras.layers.GlobalAveragePooling1D())\\n        model.add(\\n            keras.layers.Dropout(\\n                rate=hp.Float(\\n                    \\\"dropout\\\", min_value=0, max_value=1.0, default=0.1, step=0.1\\n                )\\n            )\\n        )\\n        model.add(\\n            keras.layers.Dense(\\n                embedding_dim,\\n                activation=hp.Choice(\\n                    \\\"dense_activation\\\",\\n                    values=[\\\"relu\\\", \\\"tanh\\\", \\\"sigmoid\\\"],\\n                    default=\\\"relu\\\",\\n                ),\\n            )\\n        )\\n        model.add(\\n            keras.layers.Dropout(\\n                rate=hp.Float(\\n                    \\\"dropout\\\", min_value=0, max_value=1.0, default=0.1, step=0.1\\n                )\\n            )\\n        )\\n        model.add(keras.layers.Dense(1, activation=\\\"sigmoid\\\"))\\n\\n        model.compile(\\n            loss=\\\"binary_crossentropy\\\",\\n            optimizer=keras.optimizers.Adam(\\n                hp.Float(\\n                    \\\"learning_rate\\\",\\n                    min_value=1e-4,\\n                    max_value=1e-1,\\n                    sampling=\\\"LOG\\\",\\n                    default=1e-3,\\n                )\\n            ),\\n            metrics=[\\\"accuracy\\\"],\\n        )\\n        return model\";\n",
       "                var nbb_cells = Jupyter.notebook.get_cells();\n",
       "                for (var i = 0; i < nbb_cells.length; ++i) {\n",
       "                    if (nbb_cells[i].input_prompt_number == nbb_cell_id) {\n",
       "                        if (nbb_cells[i].get_text() == nbb_unformatted_code) {\n",
       "                             nbb_cells[i].set_text(nbb_formatted_code);\n",
       "                        }\n",
       "                        break;\n",
       "                    }\n",
       "                }\n",
       "            }, 500);\n",
       "            "
      ],
      "text/plain": [
       "<IPython.core.display.Javascript object>"
      ]
     },
     "metadata": {},
     "output_type": "display_data"
    }
   ],
   "source": [
    "class RegressionHyperModel(HyperModel):\n",
    "    def __init__(self, input_shape):\n",
    "        self.input_shape = input_shape\n",
    "\n",
    "    def build(self, hp):\n",
    "        model = keras.Sequential()\n",
    "        model.add(keras.layers.Embedding(vocab_size, embedding_dim))\n",
    "        model.add(keras.layers.GlobalAveragePooling1D())\n",
    "        model.add(\n",
    "            keras.layers.Dropout(\n",
    "                rate=hp.Float(\n",
    "                    \"dropout\", min_value=0, max_value=1.0, default=0.1, step=0.1\n",
    "                )\n",
    "            )\n",
    "        )\n",
    "        model.add(\n",
    "            keras.layers.Dense(\n",
    "                embedding_dim,\n",
    "                activation=hp.Choice(\n",
    "                    \"dense_activation\",\n",
    "                    values=[\"relu\", \"tanh\", \"sigmoid\"],\n",
    "                    default=\"relu\",\n",
    "                ),\n",
    "            )\n",
    "        )\n",
    "        model.add(\n",
    "            keras.layers.Dropout(\n",
    "                rate=hp.Float(\n",
    "                    \"dropout\", min_value=0, max_value=1.0, default=0.1, step=0.1\n",
    "                )\n",
    "            )\n",
    "        )\n",
    "        model.add(keras.layers.Dense(1, activation=\"sigmoid\"))\n",
    "\n",
    "        model.compile(\n",
    "            loss=\"binary_crossentropy\",\n",
    "            optimizer=keras.optimizers.Adam(\n",
    "                hp.Float(\n",
    "                    \"learning_rate\",\n",
    "                    min_value=1e-4,\n",
    "                    max_value=1e-1,\n",
    "                    sampling=\"LOG\",\n",
    "                    default=1e-3,\n",
    "                )\n",
    "            ),\n",
    "            metrics=[\"accuracy\"],\n",
    "        )\n",
    "        return model"
   ]
  },
  {
   "cell_type": "code",
   "execution_count": 92,
   "metadata": {},
   "outputs": [
    {
     "name": "stdout",
     "output_type": "stream",
     "text": [
      "Epoch 1/10\n",
      "375/375 - 9s - loss: 0.6726 - accuracy: 0.5905 - val_loss: 0.5959 - val_accuracy: 0.7890\n",
      "Epoch 2/10\n",
      "375/375 - 9s - loss: 0.4801 - accuracy: 0.7970 - val_loss: 0.3785 - val_accuracy: 0.8593\n",
      "Epoch 3/10\n",
      "375/375 - 9s - loss: 0.3256 - accuracy: 0.8785 - val_loss: 0.3263 - val_accuracy: 0.8700\n",
      "Epoch 4/10\n",
      "375/375 - 9s - loss: 0.2475 - accuracy: 0.9128 - val_loss: 0.3166 - val_accuracy: 0.8740\n",
      "Epoch 5/10\n",
      "375/375 - 9s - loss: 0.2070 - accuracy: 0.9343 - val_loss: 0.3257 - val_accuracy: 0.8747\n",
      "Epoch 6/10\n",
      "375/375 - 9s - loss: 0.1616 - accuracy: 0.9526 - val_loss: 0.3570 - val_accuracy: 0.8687\n",
      "Epoch 7/10\n",
      "375/375 - 10s - loss: 0.1316 - accuracy: 0.9617 - val_loss: 0.3661 - val_accuracy: 0.8770\n",
      "Epoch 8/10\n",
      "375/375 - 9s - loss: 0.1089 - accuracy: 0.9698 - val_loss: 0.3902 - val_accuracy: 0.8753\n",
      "Epoch 9/10\n",
      "375/375 - 9s - loss: 0.0919 - accuracy: 0.9748 - val_loss: 0.4272 - val_accuracy: 0.8753\n",
      "Epoch 10/10\n",
      "375/375 - 9s - loss: 0.0741 - accuracy: 0.9804 - val_loss: 0.4514 - val_accuracy: 0.8763\n",
      "Epoch 1/10\n",
      "375/375 - 9s - loss: 0.6638 - accuracy: 0.6097 - val_loss: 0.5618 - val_accuracy: 0.7957\n",
      "Epoch 2/10\n",
      "375/375 - 9s - loss: 0.4499 - accuracy: 0.8179 - val_loss: 0.3605 - val_accuracy: 0.8640\n",
      "Epoch 3/10\n",
      "375/375 - 9s - loss: 0.3062 - accuracy: 0.8914 - val_loss: 0.3251 - val_accuracy: 0.8653\n",
      "Epoch 4/10\n",
      "375/375 - 7s - loss: 0.2367 - accuracy: 0.9236 - val_loss: 0.3160 - val_accuracy: 0.8707\n",
      "Epoch 5/10\n",
      "375/375 - 6s - loss: 0.1932 - accuracy: 0.9410 - val_loss: 0.3233 - val_accuracy: 0.8753\n",
      "Epoch 6/10\n",
      "375/375 - 6s - loss: 0.1567 - accuracy: 0.9546 - val_loss: 0.3346 - val_accuracy: 0.8790\n",
      "Epoch 7/10\n",
      "375/375 - 6s - loss: 0.1263 - accuracy: 0.9661 - val_loss: 0.3570 - val_accuracy: 0.8810\n",
      "Epoch 8/10\n",
      "375/375 - 6s - loss: 0.1010 - accuracy: 0.9730 - val_loss: 0.3961 - val_accuracy: 0.8740\n",
      "Epoch 9/10\n",
      "375/375 - 6s - loss: 0.0850 - accuracy: 0.9776 - val_loss: 0.4361 - val_accuracy: 0.8670\n",
      "Epoch 10/10\n",
      "375/375 - 6s - loss: 0.0740 - accuracy: 0.9799 - val_loss: 0.4984 - val_accuracy: 0.8723\n"
     ]
    },
    {
     "data": {
      "text/html": [
       "<span style=\"color:#4527A0\"><h1 style=\"font-size:18px\">Trial complete</h1></span>"
      ],
      "text/plain": [
       "<IPython.core.display.HTML object>"
      ]
     },
     "metadata": {},
     "output_type": "display_data"
    },
    {
     "data": {
      "text/html": [
       "<span style=\"color:#4527A0\"><h1 style=\"font-size:18px\">Trial summary</h1></span>"
      ],
      "text/plain": [
       "<IPython.core.display.HTML object>"
      ]
     },
     "metadata": {},
     "output_type": "display_data"
    },
    {
     "data": {
      "text/html": [
       "<span style=\"color:cyan\"> |-Trial ID: 3418f96c33ee99868a13e90eacc0d7f0</span>"
      ],
      "text/plain": [
       "<IPython.core.display.HTML object>"
      ]
     },
     "metadata": {},
     "output_type": "display_data"
    },
    {
     "data": {
      "text/html": [
       "<span style=\"color:cyan\"> |-Score: 0.8789999783039093</span>"
      ],
      "text/plain": [
       "<IPython.core.display.HTML object>"
      ]
     },
     "metadata": {},
     "output_type": "display_data"
    },
    {
     "data": {
      "text/html": [
       "<span style=\"color:cyan\"> |-Best step: 0</span>"
      ],
      "text/plain": [
       "<IPython.core.display.HTML object>"
      ]
     },
     "metadata": {},
     "output_type": "display_data"
    },
    {
     "data": {
      "text/html": [
       "<span style=\"color:#7E57C2\"><h2 style=\"font-size:16px\">Hyperparameters:</h2></span>"
      ],
      "text/plain": [
       "<IPython.core.display.HTML object>"
      ]
     },
     "metadata": {},
     "output_type": "display_data"
    },
    {
     "data": {
      "text/html": [
       "<span style=\"color:cyan\"> |-dense_activation: relu</span>"
      ],
      "text/plain": [
       "<IPython.core.display.HTML object>"
      ]
     },
     "metadata": {},
     "output_type": "display_data"
    },
    {
     "data": {
      "text/html": [
       "<span style=\"color:blue\"> |-dropout: 0.6000000000000001</span>"
      ],
      "text/plain": [
       "<IPython.core.display.HTML object>"
      ]
     },
     "metadata": {},
     "output_type": "display_data"
    },
    {
     "data": {
      "text/html": [
       "<span style=\"color:cyan\"> |-learning_rate: 0.001681154540009978</span>"
      ],
      "text/plain": [
       "<IPython.core.display.HTML object>"
      ]
     },
     "metadata": {},
     "output_type": "display_data"
    },
    {
     "name": "stdout",
     "output_type": "stream",
     "text": [
      "Epoch 1/10\n",
      "375/375 - 7s - loss: 0.6592 - accuracy: 0.6564 - val_loss: 0.5510 - val_accuracy: 0.8090\n",
      "Epoch 2/10\n",
      "375/375 - 8s - loss: 0.4020 - accuracy: 0.8472 - val_loss: 0.3557 - val_accuracy: 0.8593\n",
      "Epoch 3/10\n",
      "375/375 - 9s - loss: 0.2527 - accuracy: 0.9078 - val_loss: 0.3189 - val_accuracy: 0.8727\n",
      "Epoch 4/10\n",
      "375/375 - 9s - loss: 0.1786 - accuracy: 0.9391 - val_loss: 0.3172 - val_accuracy: 0.8743\n",
      "Epoch 5/10\n",
      "375/375 - 9s - loss: 0.1287 - accuracy: 0.9613 - val_loss: 0.3364 - val_accuracy: 0.8737\n",
      "Epoch 6/10\n",
      "375/375 - 9s - loss: 0.0929 - accuracy: 0.9741 - val_loss: 0.3455 - val_accuracy: 0.8773\n",
      "Epoch 7/10\n",
      "375/375 - 9s - loss: 0.0672 - accuracy: 0.9821 - val_loss: 0.3652 - val_accuracy: 0.8810\n",
      "Epoch 8/10\n",
      "375/375 - 9s - loss: 0.0470 - accuracy: 0.9897 - val_loss: 0.3948 - val_accuracy: 0.8783\n",
      "Epoch 9/10\n",
      "375/375 - 9s - loss: 0.0355 - accuracy: 0.9912 - val_loss: 0.4266 - val_accuracy: 0.8747\n",
      "Epoch 10/10\n",
      "375/375 - 9s - loss: 0.0260 - accuracy: 0.9947 - val_loss: 0.4541 - val_accuracy: 0.8767\n",
      "Epoch 1/10\n",
      "375/375 - 9s - loss: 0.6535 - accuracy: 0.6422 - val_loss: 0.5490 - val_accuracy: 0.7810\n",
      "Epoch 2/10\n",
      "375/375 - 9s - loss: 0.4261 - accuracy: 0.8426 - val_loss: 0.3732 - val_accuracy: 0.8603\n",
      "Epoch 3/10\n",
      "375/375 - 9s - loss: 0.2917 - accuracy: 0.8993 - val_loss: 0.3306 - val_accuracy: 0.8697\n",
      "Epoch 4/10\n",
      "375/375 - 9s - loss: 0.1989 - accuracy: 0.9378 - val_loss: 0.3220 - val_accuracy: 0.8763\n",
      "Epoch 5/10\n",
      "375/375 - 9s - loss: 0.1455 - accuracy: 0.9567 - val_loss: 0.3275 - val_accuracy: 0.8773\n",
      "Epoch 6/10\n",
      "375/375 - 8s - loss: 0.1079 - accuracy: 0.9713 - val_loss: 0.3414 - val_accuracy: 0.8763\n",
      "Epoch 7/10\n",
      "375/375 - 6s - loss: 0.0787 - accuracy: 0.9820 - val_loss: 0.3711 - val_accuracy: 0.8787\n",
      "Epoch 8/10\n",
      "375/375 - 6s - loss: 0.0595 - accuracy: 0.9862 - val_loss: 0.3898 - val_accuracy: 0.8757\n",
      "Epoch 9/10\n",
      "375/375 - 6s - loss: 0.0426 - accuracy: 0.9914 - val_loss: 0.4230 - val_accuracy: 0.8737\n",
      "Epoch 10/10\n",
      "375/375 - 6s - loss: 0.0329 - accuracy: 0.9942 - val_loss: 0.4481 - val_accuracy: 0.8750\n"
     ]
    },
    {
     "data": {
      "text/html": [
       "<span style=\"color:#4527A0\"><h1 style=\"font-size:18px\">Trial complete</h1></span>"
      ],
      "text/plain": [
       "<IPython.core.display.HTML object>"
      ]
     },
     "metadata": {},
     "output_type": "display_data"
    },
    {
     "data": {
      "text/html": [
       "<span style=\"color:#4527A0\"><h1 style=\"font-size:18px\">Trial summary</h1></span>"
      ],
      "text/plain": [
       "<IPython.core.display.HTML object>"
      ]
     },
     "metadata": {},
     "output_type": "display_data"
    },
    {
     "data": {
      "text/html": [
       "<span style=\"color:cyan\"> |-Trial ID: e9653979a7af2c5738d1779d365d96a0</span>"
      ],
      "text/plain": [
       "<IPython.core.display.HTML object>"
      ]
     },
     "metadata": {},
     "output_type": "display_data"
    },
    {
     "data": {
      "text/html": [
       "<span style=\"color:cyan\"> |-Score: 0.879833310842514</span>"
      ],
      "text/plain": [
       "<IPython.core.display.HTML object>"
      ]
     },
     "metadata": {},
     "output_type": "display_data"
    },
    {
     "data": {
      "text/html": [
       "<span style=\"color:cyan\"> |-Best step: 0</span>"
      ],
      "text/plain": [
       "<IPython.core.display.HTML object>"
      ]
     },
     "metadata": {},
     "output_type": "display_data"
    },
    {
     "data": {
      "text/html": [
       "<span style=\"color:#7E57C2\"><h2 style=\"font-size:16px\">Hyperparameters:</h2></span>"
      ],
      "text/plain": [
       "<IPython.core.display.HTML object>"
      ]
     },
     "metadata": {},
     "output_type": "display_data"
    },
    {
     "data": {
      "text/html": [
       "<span style=\"color:cyan\"> |-dense_activation: relu</span>"
      ],
      "text/plain": [
       "<IPython.core.display.HTML object>"
      ]
     },
     "metadata": {},
     "output_type": "display_data"
    },
    {
     "data": {
      "text/html": [
       "<span style=\"color:blue\"> |-dropout: 0.30000000000000004</span>"
      ],
      "text/plain": [
       "<IPython.core.display.HTML object>"
      ]
     },
     "metadata": {},
     "output_type": "display_data"
    },
    {
     "data": {
      "text/html": [
       "<span style=\"color:cyan\"> |-learning_rate: 0.001136419736136108</span>"
      ],
      "text/plain": [
       "<IPython.core.display.HTML object>"
      ]
     },
     "metadata": {},
     "output_type": "display_data"
    },
    {
     "name": "stdout",
     "output_type": "stream",
     "text": [
      "Epoch 1/10\n",
      "375/375 - 8s - loss: 0.5733 - accuracy: 0.6942 - val_loss: 0.3703 - val_accuracy: 0.8537\n",
      "Epoch 2/10\n",
      "375/375 - 9s - loss: 0.2954 - accuracy: 0.8887 - val_loss: 0.3174 - val_accuracy: 0.8717\n",
      "Epoch 3/10\n",
      "375/375 - 9s - loss: 0.1996 - accuracy: 0.9308 - val_loss: 0.3293 - val_accuracy: 0.8753\n",
      "Epoch 4/10\n",
      "375/375 - 10s - loss: 0.1362 - accuracy: 0.9561 - val_loss: 0.3548 - val_accuracy: 0.8777\n",
      "Epoch 5/10\n",
      "375/375 - 9s - loss: 0.1019 - accuracy: 0.9684 - val_loss: 0.3898 - val_accuracy: 0.8770\n",
      "Epoch 6/10\n",
      "375/375 - 9s - loss: 0.0667 - accuracy: 0.9808 - val_loss: 0.5301 - val_accuracy: 0.8567\n",
      "Epoch 7/10\n",
      "375/375 - 9s - loss: 0.0533 - accuracy: 0.9843 - val_loss: 0.5248 - val_accuracy: 0.8693\n",
      "Epoch 8/10\n",
      "375/375 - 9s - loss: 0.0436 - accuracy: 0.9867 - val_loss: 0.5529 - val_accuracy: 0.8643\n",
      "Epoch 9/10\n",
      "375/375 - 9s - loss: 0.0343 - accuracy: 0.9905 - val_loss: 0.6163 - val_accuracy: 0.8690\n",
      "Epoch 10/10\n",
      "375/375 - 9s - loss: 0.0301 - accuracy: 0.9908 - val_loss: 0.6768 - val_accuracy: 0.8677\n",
      "Epoch 1/10\n",
      "375/375 - 9s - loss: 0.5633 - accuracy: 0.7078 - val_loss: 0.3628 - val_accuracy: 0.8607\n",
      "Epoch 2/10\n",
      "375/375 - 6s - loss: 0.2982 - accuracy: 0.8869 - val_loss: 0.3361 - val_accuracy: 0.8647\n",
      "Epoch 3/10\n",
      "375/375 - 6s - loss: 0.1937 - accuracy: 0.9331 - val_loss: 0.3294 - val_accuracy: 0.8743\n",
      "Epoch 4/10\n",
      "375/375 - 6s - loss: 0.1301 - accuracy: 0.9588 - val_loss: 0.3679 - val_accuracy: 0.8773\n",
      "Epoch 5/10\n",
      "375/375 - 6s - loss: 0.0915 - accuracy: 0.9711 - val_loss: 0.4092 - val_accuracy: 0.8733\n",
      "Epoch 6/10\n",
      "375/375 - 7s - loss: 0.0664 - accuracy: 0.9795 - val_loss: 0.5040 - val_accuracy: 0.8620\n",
      "Epoch 7/10\n",
      "375/375 - 8s - loss: 0.0484 - accuracy: 0.9852 - val_loss: 0.5308 - val_accuracy: 0.8713\n",
      "Epoch 8/10\n",
      "375/375 - 9s - loss: 0.0414 - accuracy: 0.9882 - val_loss: 0.5998 - val_accuracy: 0.8613\n",
      "Epoch 9/10\n",
      "375/375 - 9s - loss: 0.0374 - accuracy: 0.9874 - val_loss: 0.6040 - val_accuracy: 0.8710\n",
      "Epoch 10/10\n",
      "375/375 - 9s - loss: 0.0294 - accuracy: 0.9918 - val_loss: 0.6682 - val_accuracy: 0.8653\n"
     ]
    },
    {
     "data": {
      "text/html": [
       "<span style=\"color:#4527A0\"><h1 style=\"font-size:18px\">Trial complete</h1></span>"
      ],
      "text/plain": [
       "<IPython.core.display.HTML object>"
      ]
     },
     "metadata": {},
     "output_type": "display_data"
    },
    {
     "data": {
      "text/html": [
       "<span style=\"color:#4527A0\"><h1 style=\"font-size:18px\">Trial summary</h1></span>"
      ],
      "text/plain": [
       "<IPython.core.display.HTML object>"
      ]
     },
     "metadata": {},
     "output_type": "display_data"
    },
    {
     "data": {
      "text/html": [
       "<span style=\"color:cyan\"> |-Trial ID: 12140ccae44bb51821bd54bb60e8199d</span>"
      ],
      "text/plain": [
       "<IPython.core.display.HTML object>"
      ]
     },
     "metadata": {},
     "output_type": "display_data"
    },
    {
     "data": {
      "text/html": [
       "<span style=\"color:cyan\"> |-Score: 0.8774999976158142</span>"
      ],
      "text/plain": [
       "<IPython.core.display.HTML object>"
      ]
     },
     "metadata": {},
     "output_type": "display_data"
    },
    {
     "data": {
      "text/html": [
       "<span style=\"color:cyan\"> |-Best step: 0</span>"
      ],
      "text/plain": [
       "<IPython.core.display.HTML object>"
      ]
     },
     "metadata": {},
     "output_type": "display_data"
    },
    {
     "data": {
      "text/html": [
       "<span style=\"color:#7E57C2\"><h2 style=\"font-size:16px\">Hyperparameters:</h2></span>"
      ],
      "text/plain": [
       "<IPython.core.display.HTML object>"
      ]
     },
     "metadata": {},
     "output_type": "display_data"
    },
    {
     "data": {
      "text/html": [
       "<span style=\"color:cyan\"> |-dense_activation: relu</span>"
      ],
      "text/plain": [
       "<IPython.core.display.HTML object>"
      ]
     },
     "metadata": {},
     "output_type": "display_data"
    },
    {
     "data": {
      "text/html": [
       "<span style=\"color:blue\"> |-dropout: 0.5</span>"
      ],
      "text/plain": [
       "<IPython.core.display.HTML object>"
      ]
     },
     "metadata": {},
     "output_type": "display_data"
    },
    {
     "data": {
      "text/html": [
       "<span style=\"color:cyan\"> |-learning_rate: 0.0031089211420179527</span>"
      ],
      "text/plain": [
       "<IPython.core.display.HTML object>"
      ]
     },
     "metadata": {},
     "output_type": "display_data"
    },
    {
     "name": "stdout",
     "output_type": "stream",
     "text": [
      "Epoch 1/10\n",
      "375/375 - 9s - loss: 0.4210 - accuracy: 0.7962 - val_loss: 0.3347 - val_accuracy: 0.8657\n",
      "Epoch 2/10\n",
      "375/375 - 9s - loss: 0.1622 - accuracy: 0.9390 - val_loss: 0.4234 - val_accuracy: 0.8373\n",
      "Epoch 3/10\n",
      "375/375 - 9s - loss: 0.0677 - accuracy: 0.9768 - val_loss: 0.4890 - val_accuracy: 0.8607\n",
      "Epoch 4/10\n",
      "375/375 - 9s - loss: 0.0326 - accuracy: 0.9894 - val_loss: 0.5934 - val_accuracy: 0.8690\n",
      "Epoch 5/10\n",
      "375/375 - 9s - loss: 0.0147 - accuracy: 0.9954 - val_loss: 0.7389 - val_accuracy: 0.8630\n",
      "Epoch 6/10\n",
      "375/375 - 10s - loss: 0.0148 - accuracy: 0.9948 - val_loss: 0.7973 - val_accuracy: 0.8610\n",
      "Epoch 7/10\n",
      "375/375 - 11s - loss: 0.0071 - accuracy: 0.9977 - val_loss: 0.8850 - val_accuracy: 0.8640\n",
      "Epoch 8/10\n",
      "375/375 - 9s - loss: 0.0015 - accuracy: 0.9998 - val_loss: 0.9911 - val_accuracy: 0.8610\n",
      "Epoch 9/10\n",
      "375/375 - 9s - loss: 6.3958e-04 - accuracy: 1.0000 - val_loss: 1.0455 - val_accuracy: 0.8603\n",
      "Epoch 10/10\n",
      "375/375 - 9s - loss: 0.0027 - accuracy: 0.9991 - val_loss: 1.3790 - val_accuracy: 0.8450\n",
      "Epoch 1/10\n",
      "375/375 - 9s - loss: 0.4212 - accuracy: 0.7976 - val_loss: 0.3177 - val_accuracy: 0.8717\n",
      "Epoch 2/10\n",
      "375/375 - 10s - loss: 0.1569 - accuracy: 0.9420 - val_loss: 0.3731 - val_accuracy: 0.8740\n",
      "Epoch 3/10\n",
      "375/375 - 9s - loss: 0.0646 - accuracy: 0.9778 - val_loss: 0.4974 - val_accuracy: 0.8627\n",
      "Epoch 4/10\n",
      "375/375 - 9s - loss: 0.0301 - accuracy: 0.9895 - val_loss: 0.6278 - val_accuracy: 0.8627\n",
      "Epoch 5/10\n",
      "375/375 - 9s - loss: 0.0176 - accuracy: 0.9934 - val_loss: 0.7424 - val_accuracy: 0.8663\n",
      "Epoch 6/10\n",
      "375/375 - 10s - loss: 0.0133 - accuracy: 0.9954 - val_loss: 0.8824 - val_accuracy: 0.8577\n",
      "Epoch 7/10\n",
      "375/375 - 8s - loss: 0.0119 - accuracy: 0.9959 - val_loss: 1.0159 - val_accuracy: 0.8500\n",
      "Epoch 8/10\n",
      "375/375 - 6s - loss: 0.0059 - accuracy: 0.9983 - val_loss: 1.1262 - val_accuracy: 0.8527\n",
      "Epoch 9/10\n",
      "375/375 - 6s - loss: 0.0161 - accuracy: 0.9941 - val_loss: 1.0583 - val_accuracy: 0.8503\n",
      "Epoch 10/10\n",
      "375/375 - 6s - loss: 0.0076 - accuracy: 0.9975 - val_loss: 1.1412 - val_accuracy: 0.8540\n"
     ]
    },
    {
     "data": {
      "text/html": [
       "<span style=\"color:#4527A0\"><h1 style=\"font-size:18px\">Trial complete</h1></span>"
      ],
      "text/plain": [
       "<IPython.core.display.HTML object>"
      ]
     },
     "metadata": {},
     "output_type": "display_data"
    },
    {
     "data": {
      "text/html": [
       "<span style=\"color:#4527A0\"><h1 style=\"font-size:18px\">Trial summary</h1></span>"
      ],
      "text/plain": [
       "<IPython.core.display.HTML object>"
      ]
     },
     "metadata": {},
     "output_type": "display_data"
    },
    {
     "data": {
      "text/html": [
       "<span style=\"color:cyan\"> |-Trial ID: e93237c5179acee616eba9c7340b5243</span>"
      ],
      "text/plain": [
       "<IPython.core.display.HTML object>"
      ]
     },
     "metadata": {},
     "output_type": "display_data"
    },
    {
     "data": {
      "text/html": [
       "<span style=\"color:cyan\"> |-Score: 0.8715000152587891</span>"
      ],
      "text/plain": [
       "<IPython.core.display.HTML object>"
      ]
     },
     "metadata": {},
     "output_type": "display_data"
    },
    {
     "data": {
      "text/html": [
       "<span style=\"color:cyan\"> |-Best step: 0</span>"
      ],
      "text/plain": [
       "<IPython.core.display.HTML object>"
      ]
     },
     "metadata": {},
     "output_type": "display_data"
    },
    {
     "data": {
      "text/html": [
       "<span style=\"color:#7E57C2\"><h2 style=\"font-size:16px\">Hyperparameters:</h2></span>"
      ],
      "text/plain": [
       "<IPython.core.display.HTML object>"
      ]
     },
     "metadata": {},
     "output_type": "display_data"
    },
    {
     "data": {
      "text/html": [
       "<span style=\"color:cyan\"> |-dense_activation: tanh</span>"
      ],
      "text/plain": [
       "<IPython.core.display.HTML object>"
      ]
     },
     "metadata": {},
     "output_type": "display_data"
    },
    {
     "data": {
      "text/html": [
       "<span style=\"color:blue\"> |-dropout: 0.2</span>"
      ],
      "text/plain": [
       "<IPython.core.display.HTML object>"
      ]
     },
     "metadata": {},
     "output_type": "display_data"
    },
    {
     "data": {
      "text/html": [
       "<span style=\"color:cyan\"> |-learning_rate: 0.0071027156749871884</span>"
      ],
      "text/plain": [
       "<IPython.core.display.HTML object>"
      ]
     },
     "metadata": {},
     "output_type": "display_data"
    },
    {
     "name": "stdout",
     "output_type": "stream",
     "text": [
      "Epoch 1/10\n",
      "375/375 - 6s - loss: 0.7322 - accuracy: 0.4926 - val_loss: 0.6937 - val_accuracy: 0.4947\n",
      "Epoch 2/10\n",
      "375/375 - 6s - loss: 0.7309 - accuracy: 0.4939 - val_loss: 0.6934 - val_accuracy: 0.4947\n",
      "Epoch 3/10\n",
      "375/375 - 6s - loss: 0.7351 - accuracy: 0.4997 - val_loss: 0.6948 - val_accuracy: 0.5053\n",
      "Epoch 4/10\n",
      "375/375 - 6s - loss: 0.7117 - accuracy: 0.4951 - val_loss: 0.6933 - val_accuracy: 0.4947\n",
      "Epoch 5/10\n",
      "375/375 - 7s - loss: 0.7041 - accuracy: 0.4951 - val_loss: 0.6931 - val_accuracy: 0.4947\n",
      "Epoch 6/10\n",
      "375/375 - 9s - loss: 0.6987 - accuracy: 0.5024 - val_loss: 0.6942 - val_accuracy: 0.5053\n",
      "Epoch 7/10\n",
      "375/375 - 9s - loss: 0.6948 - accuracy: 0.5048 - val_loss: 0.6932 - val_accuracy: 0.5053\n",
      "Epoch 8/10\n",
      "375/375 - 10s - loss: 0.6947 - accuracy: 0.5039 - val_loss: 0.6962 - val_accuracy: 0.5053\n",
      "Epoch 9/10\n",
      "375/375 - 9s - loss: 0.6955 - accuracy: 0.5027 - val_loss: 0.6933 - val_accuracy: 0.5053\n",
      "Epoch 10/10\n",
      "375/375 - 9s - loss: 0.6951 - accuracy: 0.4886 - val_loss: 0.6934 - val_accuracy: 0.5053\n",
      "Epoch 1/10\n",
      "375/375 - 9s - loss: 0.7373 - accuracy: 0.4943 - val_loss: 0.6956 - val_accuracy: 0.4947\n",
      "Epoch 2/10\n",
      "375/375 - 9s - loss: 0.7032 - accuracy: 0.5045 - val_loss: 0.6932 - val_accuracy: 0.4947\n",
      "Epoch 3/10\n",
      "375/375 - 9s - loss: 0.6957 - accuracy: 0.4947 - val_loss: 0.6934 - val_accuracy: 0.5053\n",
      "Epoch 4/10\n",
      "375/375 - 9s - loss: 0.6950 - accuracy: 0.4896 - val_loss: 0.7063 - val_accuracy: 0.4947\n",
      "Epoch 5/10\n",
      "375/375 - 9s - loss: 0.7678 - accuracy: 0.4992 - val_loss: 0.6945 - val_accuracy: 0.5053\n",
      "Epoch 6/10\n",
      "375/375 - 9s - loss: 0.7375 - accuracy: 0.5022 - val_loss: 0.6948 - val_accuracy: 0.4947\n",
      "Epoch 7/10\n",
      "375/375 - 9s - loss: 0.7042 - accuracy: 0.5063 - val_loss: 0.6932 - val_accuracy: 0.4947\n",
      "Epoch 8/10\n",
      "375/375 - 9s - loss: 0.7024 - accuracy: 0.5004 - val_loss: 0.6948 - val_accuracy: 0.4947\n",
      "Epoch 9/10\n",
      "375/375 - 9s - loss: 0.7076 - accuracy: 0.4989 - val_loss: 0.6932 - val_accuracy: 0.5053\n",
      "Epoch 10/10\n",
      "375/375 - 9s - loss: 0.6950 - accuracy: 0.5064 - val_loss: 0.6965 - val_accuracy: 0.4947\n"
     ]
    },
    {
     "data": {
      "text/html": [
       "<span style=\"color:#4527A0\"><h1 style=\"font-size:18px\">Trial complete</h1></span>"
      ],
      "text/plain": [
       "<IPython.core.display.HTML object>"
      ]
     },
     "metadata": {},
     "output_type": "display_data"
    },
    {
     "data": {
      "text/html": [
       "<span style=\"color:#4527A0\"><h1 style=\"font-size:18px\">Trial summary</h1></span>"
      ],
      "text/plain": [
       "<IPython.core.display.HTML object>"
      ]
     },
     "metadata": {},
     "output_type": "display_data"
    },
    {
     "data": {
      "text/html": [
       "<span style=\"color:cyan\"> |-Trial ID: cc216b0c6871eb3d59c49790023b6977</span>"
      ],
      "text/plain": [
       "<IPython.core.display.HTML object>"
      ]
     },
     "metadata": {},
     "output_type": "display_data"
    },
    {
     "data": {
      "text/html": [
       "<span style=\"color:cyan\"> |-Score: 0.5053333044052124</span>"
      ],
      "text/plain": [
       "<IPython.core.display.HTML object>"
      ]
     },
     "metadata": {},
     "output_type": "display_data"
    },
    {
     "data": {
      "text/html": [
       "<span style=\"color:cyan\"> |-Best step: 0</span>"
      ],
      "text/plain": [
       "<IPython.core.display.HTML object>"
      ]
     },
     "metadata": {},
     "output_type": "display_data"
    },
    {
     "data": {
      "text/html": [
       "<span style=\"color:#7E57C2\"><h2 style=\"font-size:16px\">Hyperparameters:</h2></span>"
      ],
      "text/plain": [
       "<IPython.core.display.HTML object>"
      ]
     },
     "metadata": {},
     "output_type": "display_data"
    },
    {
     "data": {
      "text/html": [
       "<span style=\"color:cyan\"> |-dense_activation: relu</span>"
      ],
      "text/plain": [
       "<IPython.core.display.HTML object>"
      ]
     },
     "metadata": {},
     "output_type": "display_data"
    },
    {
     "data": {
      "text/html": [
       "<span style=\"color:blue\"> |-dropout: 0.9</span>"
      ],
      "text/plain": [
       "<IPython.core.display.HTML object>"
      ]
     },
     "metadata": {},
     "output_type": "display_data"
    },
    {
     "data": {
      "text/html": [
       "<span style=\"color:cyan\"> |-learning_rate: 0.07902373711581126</span>"
      ],
      "text/plain": [
       "<IPython.core.display.HTML object>"
      ]
     },
     "metadata": {},
     "output_type": "display_data"
    },
    {
     "name": "stdout",
     "output_type": "stream",
     "text": [
      "Epoch 1/10\n",
      "375/375 - 9s - loss: 0.7040 - accuracy: 0.5069 - val_loss: 0.6884 - val_accuracy: 0.5683\n",
      "Epoch 2/10\n",
      "375/375 - 9s - loss: 0.6810 - accuracy: 0.6908 - val_loss: 0.6716 - val_accuracy: 0.7503\n",
      "Epoch 3/10\n",
      "375/375 - 9s - loss: 0.6508 - accuracy: 0.7814 - val_loss: 0.6330 - val_accuracy: 0.7730\n",
      "Epoch 4/10\n",
      "375/375 - 9s - loss: 0.5944 - accuracy: 0.8062 - val_loss: 0.5743 - val_accuracy: 0.7907\n",
      "Epoch 5/10\n",
      "375/375 - 9s - loss: 0.5212 - accuracy: 0.8272 - val_loss: 0.5116 - val_accuracy: 0.8140\n",
      "Epoch 6/10\n",
      "375/375 - 9s - loss: 0.4473 - accuracy: 0.8526 - val_loss: 0.4579 - val_accuracy: 0.8320\n",
      "Epoch 7/10\n",
      "375/375 - 9s - loss: 0.3837 - accuracy: 0.8723 - val_loss: 0.4151 - val_accuracy: 0.8440\n",
      "Epoch 8/10\n",
      "375/375 - 9s - loss: 0.3321 - accuracy: 0.8883 - val_loss: 0.3851 - val_accuracy: 0.8527\n",
      "Epoch 9/10\n",
      "375/375 - 9s - loss: 0.2912 - accuracy: 0.9017 - val_loss: 0.3635 - val_accuracy: 0.8550\n",
      "Epoch 10/10\n",
      "375/375 - 6s - loss: 0.2585 - accuracy: 0.9111 - val_loss: 0.3495 - val_accuracy: 0.8633\n",
      "Epoch 1/10\n",
      "375/375 - 6s - loss: 0.6948 - accuracy: 0.5295 - val_loss: 0.6877 - val_accuracy: 0.5730\n",
      "Epoch 2/10\n",
      "375/375 - 6s - loss: 0.6777 - accuracy: 0.7234 - val_loss: 0.6652 - val_accuracy: 0.7600\n",
      "Epoch 3/10\n",
      "375/375 - 6s - loss: 0.6392 - accuracy: 0.7770 - val_loss: 0.6192 - val_accuracy: 0.7783\n",
      "Epoch 4/10\n",
      "375/375 - 6s - loss: 0.5756 - accuracy: 0.8119 - val_loss: 0.5572 - val_accuracy: 0.7927\n",
      "Epoch 5/10\n",
      "375/375 - 6s - loss: 0.4991 - accuracy: 0.8353 - val_loss: 0.4935 - val_accuracy: 0.8163\n",
      "Epoch 6/10\n",
      "375/375 - 6s - loss: 0.4258 - accuracy: 0.8603 - val_loss: 0.4410 - val_accuracy: 0.8343\n",
      "Epoch 7/10\n",
      "375/375 - 7s - loss: 0.3637 - accuracy: 0.8776 - val_loss: 0.4018 - val_accuracy: 0.8490\n",
      "Epoch 8/10\n",
      "375/375 - 8s - loss: 0.3144 - accuracy: 0.8953 - val_loss: 0.3742 - val_accuracy: 0.8560\n",
      "Epoch 9/10\n",
      "375/375 - 9s - loss: 0.2754 - accuracy: 0.9068 - val_loss: 0.3585 - val_accuracy: 0.8620\n",
      "Epoch 10/10\n",
      "375/375 - 9s - loss: 0.2444 - accuracy: 0.9169 - val_loss: 0.3433 - val_accuracy: 0.8653\n"
     ]
    },
    {
     "data": {
      "text/html": [
       "<span style=\"color:#4527A0\"><h1 style=\"font-size:18px\">Trial complete</h1></span>"
      ],
      "text/plain": [
       "<IPython.core.display.HTML object>"
      ]
     },
     "metadata": {},
     "output_type": "display_data"
    },
    {
     "data": {
      "text/html": [
       "<span style=\"color:#4527A0\"><h1 style=\"font-size:18px\">Trial summary</h1></span>"
      ],
      "text/plain": [
       "<IPython.core.display.HTML object>"
      ]
     },
     "metadata": {},
     "output_type": "display_data"
    },
    {
     "data": {
      "text/html": [
       "<span style=\"color:cyan\"> |-Trial ID: 60d31092fa61fc1ba20aee6a31e798fd</span>"
      ],
      "text/plain": [
       "<IPython.core.display.HTML object>"
      ]
     },
     "metadata": {},
     "output_type": "display_data"
    },
    {
     "data": {
      "text/html": [
       "<span style=\"color:cyan\"> |-Score: 0.8643333315849304</span>"
      ],
      "text/plain": [
       "<IPython.core.display.HTML object>"
      ]
     },
     "metadata": {},
     "output_type": "display_data"
    },
    {
     "data": {
      "text/html": [
       "<span style=\"color:cyan\"> |-Best step: 0</span>"
      ],
      "text/plain": [
       "<IPython.core.display.HTML object>"
      ]
     },
     "metadata": {},
     "output_type": "display_data"
    },
    {
     "data": {
      "text/html": [
       "<span style=\"color:#7E57C2\"><h2 style=\"font-size:16px\">Hyperparameters:</h2></span>"
      ],
      "text/plain": [
       "<IPython.core.display.HTML object>"
      ]
     },
     "metadata": {},
     "output_type": "display_data"
    },
    {
     "data": {
      "text/html": [
       "<span style=\"color:cyan\"> |-dense_activation: sigmoid</span>"
      ],
      "text/plain": [
       "<IPython.core.display.HTML object>"
      ]
     },
     "metadata": {},
     "output_type": "display_data"
    },
    {
     "data": {
      "text/html": [
       "<span style=\"color:blue\"> |-dropout: 0.0</span>"
      ],
      "text/plain": [
       "<IPython.core.display.HTML object>"
      ]
     },
     "metadata": {},
     "output_type": "display_data"
    },
    {
     "data": {
      "text/html": [
       "<span style=\"color:cyan\"> |-learning_rate: 0.0004704965297508378</span>"
      ],
      "text/plain": [
       "<IPython.core.display.HTML object>"
      ]
     },
     "metadata": {},
     "output_type": "display_data"
    },
    {
     "name": "stdout",
     "output_type": "stream",
     "text": [
      "Epoch 1/10\n",
      "375/375 - 9s - loss: 0.4101 - accuracy: 0.8144 - val_loss: 0.3488 - val_accuracy: 0.8497\n",
      "Epoch 2/10\n",
      "375/375 - 9s - loss: 0.1768 - accuracy: 0.9388 - val_loss: 0.4366 - val_accuracy: 0.8550\n",
      "Epoch 3/10\n",
      "375/375 - 9s - loss: 0.0903 - accuracy: 0.9706 - val_loss: 0.5643 - val_accuracy: 0.8617\n",
      "Epoch 4/10\n",
      "375/375 - 9s - loss: 0.0630 - accuracy: 0.9798 - val_loss: 0.7988 - val_accuracy: 0.8287\n",
      "Epoch 5/10\n",
      "375/375 - 9s - loss: 0.0487 - accuracy: 0.9844 - val_loss: 0.6479 - val_accuracy: 0.8603\n",
      "Epoch 6/10\n",
      "375/375 - 9s - loss: 0.0447 - accuracy: 0.9860 - val_loss: 0.6689 - val_accuracy: 0.8507\n",
      "Epoch 7/10\n",
      "375/375 - 9s - loss: 0.0376 - accuracy: 0.9877 - val_loss: 0.6724 - val_accuracy: 0.8557\n",
      "Epoch 8/10\n",
      "375/375 - 9s - loss: 0.0466 - accuracy: 0.9863 - val_loss: 0.7801 - val_accuracy: 0.8523\n",
      "Epoch 9/10\n",
      "375/375 - 9s - loss: 0.0348 - accuracy: 0.9890 - val_loss: 0.6018 - val_accuracy: 0.8570\n",
      "Epoch 10/10\n",
      "375/375 - 9s - loss: 0.0335 - accuracy: 0.9898 - val_loss: 0.7718 - val_accuracy: 0.8463\n",
      "Epoch 1/10\n",
      "375/375 - 9s - loss: 0.4125 - accuracy: 0.8089 - val_loss: 0.3341 - val_accuracy: 0.8567\n",
      "Epoch 2/10\n",
      "375/375 - 9s - loss: 0.1772 - accuracy: 0.9346 - val_loss: 0.4803 - val_accuracy: 0.8350\n",
      "Epoch 3/10\n",
      "375/375 - 9s - loss: 0.0986 - accuracy: 0.9660 - val_loss: 0.4641 - val_accuracy: 0.8667\n",
      "Epoch 4/10\n",
      "375/375 - 9s - loss: 0.0586 - accuracy: 0.9802 - val_loss: 0.7995 - val_accuracy: 0.8353\n",
      "Epoch 5/10\n",
      "375/375 - 9s - loss: 0.0460 - accuracy: 0.9854 - val_loss: 0.5128 - val_accuracy: 0.8630\n",
      "Epoch 6/10\n",
      "375/375 - 9s - loss: 0.0391 - accuracy: 0.9868 - val_loss: 0.7945 - val_accuracy: 0.8573\n",
      "Epoch 7/10\n",
      "375/375 - 9s - loss: 0.0477 - accuracy: 0.9848 - val_loss: 0.7004 - val_accuracy: 0.8633\n",
      "Epoch 8/10\n",
      "375/375 - 9s - loss: 0.0396 - accuracy: 0.9867 - val_loss: 0.6693 - val_accuracy: 0.8543\n",
      "Epoch 9/10\n",
      "375/375 - 9s - loss: 0.0375 - accuracy: 0.9883 - val_loss: 0.7347 - val_accuracy: 0.8530\n",
      "Epoch 10/10\n",
      "375/375 - 9s - loss: 0.0347 - accuracy: 0.9888 - val_loss: 0.6655 - val_accuracy: 0.8463\n"
     ]
    },
    {
     "data": {
      "text/html": [
       "<span style=\"color:#4527A0\"><h1 style=\"font-size:18px\">Trial complete</h1></span>"
      ],
      "text/plain": [
       "<IPython.core.display.HTML object>"
      ]
     },
     "metadata": {},
     "output_type": "display_data"
    },
    {
     "data": {
      "text/html": [
       "<span style=\"color:#4527A0\"><h1 style=\"font-size:18px\">Trial summary</h1></span>"
      ],
      "text/plain": [
       "<IPython.core.display.HTML object>"
      ]
     },
     "metadata": {},
     "output_type": "display_data"
    },
    {
     "data": {
      "text/html": [
       "<span style=\"color:cyan\"> |-Trial ID: a24418535055aec51f41aef8a4a7fd07</span>"
      ],
      "text/plain": [
       "<IPython.core.display.HTML object>"
      ]
     },
     "metadata": {},
     "output_type": "display_data"
    },
    {
     "data": {
      "text/html": [
       "<span style=\"color:cyan\"> |-Score: 0.8641666769981384</span>"
      ],
      "text/plain": [
       "<IPython.core.display.HTML object>"
      ]
     },
     "metadata": {},
     "output_type": "display_data"
    },
    {
     "data": {
      "text/html": [
       "<span style=\"color:cyan\"> |-Best step: 0</span>"
      ],
      "text/plain": [
       "<IPython.core.display.HTML object>"
      ]
     },
     "metadata": {},
     "output_type": "display_data"
    },
    {
     "data": {
      "text/html": [
       "<span style=\"color:#7E57C2\"><h2 style=\"font-size:16px\">Hyperparameters:</h2></span>"
      ],
      "text/plain": [
       "<IPython.core.display.HTML object>"
      ]
     },
     "metadata": {},
     "output_type": "display_data"
    },
    {
     "data": {
      "text/html": [
       "<span style=\"color:cyan\"> |-dense_activation: tanh</span>"
      ],
      "text/plain": [
       "<IPython.core.display.HTML object>"
      ]
     },
     "metadata": {},
     "output_type": "display_data"
    },
    {
     "data": {
      "text/html": [
       "<span style=\"color:blue\"> |-dropout: 0.30000000000000004</span>"
      ],
      "text/plain": [
       "<IPython.core.display.HTML object>"
      ]
     },
     "metadata": {},
     "output_type": "display_data"
    },
    {
     "data": {
      "text/html": [
       "<span style=\"color:cyan\"> |-learning_rate: 0.060809957184687714</span>"
      ],
      "text/plain": [
       "<IPython.core.display.HTML object>"
      ]
     },
     "metadata": {},
     "output_type": "display_data"
    },
    {
     "name": "stdout",
     "output_type": "stream",
     "text": [
      "Epoch 1/10\n",
      "375/375 - 9s - loss: 0.6003 - accuracy: 0.6913 - val_loss: 0.4079 - val_accuracy: 0.8443\n",
      "Epoch 2/10\n",
      "375/375 - 7s - loss: 0.2983 - accuracy: 0.8863 - val_loss: 0.3333 - val_accuracy: 0.8637\n",
      "Epoch 3/10\n",
      "375/375 - 6s - loss: 0.1817 - accuracy: 0.9381 - val_loss: 0.3374 - val_accuracy: 0.8737\n",
      "Epoch 4/10\n",
      "375/375 - 6s - loss: 0.1140 - accuracy: 0.9642 - val_loss: 0.3771 - val_accuracy: 0.8743\n",
      "Epoch 5/10\n",
      "375/375 - 6s - loss: 0.0719 - accuracy: 0.9800 - val_loss: 0.4375 - val_accuracy: 0.8690\n",
      "Epoch 6/10\n",
      "375/375 - 7s - loss: 0.0453 - accuracy: 0.9883 - val_loss: 0.4465 - val_accuracy: 0.8743\n",
      "Epoch 7/10\n",
      "375/375 - 8s - loss: 0.0273 - accuracy: 0.9941 - val_loss: 0.5112 - val_accuracy: 0.8747\n",
      "Epoch 8/10\n",
      "375/375 - 9s - loss: 0.0199 - accuracy: 0.9958 - val_loss: 0.6158 - val_accuracy: 0.8587\n",
      "Epoch 9/10\n",
      "375/375 - 9s - loss: 0.0131 - accuracy: 0.9973 - val_loss: 0.6409 - val_accuracy: 0.8717\n",
      "Epoch 10/10\n",
      "375/375 - 9s - loss: 0.0095 - accuracy: 0.9982 - val_loss: 0.6796 - val_accuracy: 0.8697\n",
      "Epoch 1/10\n",
      "375/375 - 9s - loss: 0.5937 - accuracy: 0.7012 - val_loss: 0.4123 - val_accuracy: 0.8400\n",
      "Epoch 2/10\n",
      "375/375 - 9s - loss: 0.2997 - accuracy: 0.8871 - val_loss: 0.3263 - val_accuracy: 0.8697\n",
      "Epoch 3/10\n",
      "375/375 - 9s - loss: 0.1839 - accuracy: 0.9366 - val_loss: 0.3262 - val_accuracy: 0.8760\n",
      "Epoch 4/10\n",
      "375/375 - 9s - loss: 0.1164 - accuracy: 0.9628 - val_loss: 0.3590 - val_accuracy: 0.8743\n",
      "Epoch 5/10\n",
      "375/375 - 9s - loss: 0.0727 - accuracy: 0.9802 - val_loss: 0.3961 - val_accuracy: 0.8800\n",
      "Epoch 6/10\n",
      "375/375 - 9s - loss: 0.0431 - accuracy: 0.9896 - val_loss: 0.4550 - val_accuracy: 0.8763\n",
      "Epoch 7/10\n",
      "375/375 - 9s - loss: 0.0286 - accuracy: 0.9932 - val_loss: 0.5124 - val_accuracy: 0.8703\n",
      "Epoch 8/10\n",
      "375/375 - 9s - loss: 0.0206 - accuracy: 0.9945 - val_loss: 0.5546 - val_accuracy: 0.8743\n",
      "Epoch 9/10\n",
      "375/375 - 9s - loss: 0.0165 - accuracy: 0.9964 - val_loss: 0.5953 - val_accuracy: 0.8710\n",
      "Epoch 10/10\n",
      "375/375 - 9s - loss: 0.0088 - accuracy: 0.9982 - val_loss: 0.6477 - val_accuracy: 0.8740\n"
     ]
    },
    {
     "data": {
      "text/html": [
       "<span style=\"color:#4527A0\"><h1 style=\"font-size:18px\">Trial complete</h1></span>"
      ],
      "text/plain": [
       "<IPython.core.display.HTML object>"
      ]
     },
     "metadata": {},
     "output_type": "display_data"
    },
    {
     "data": {
      "text/html": [
       "<span style=\"color:#4527A0\"><h1 style=\"font-size:18px\">Trial summary</h1></span>"
      ],
      "text/plain": [
       "<IPython.core.display.HTML object>"
      ]
     },
     "metadata": {},
     "output_type": "display_data"
    },
    {
     "data": {
      "text/html": [
       "<span style=\"color:cyan\"> |-Trial ID: cda4b8d8c4c6e78c8cad90b98b1e8b11</span>"
      ],
      "text/plain": [
       "<IPython.core.display.HTML object>"
      ]
     },
     "metadata": {},
     "output_type": "display_data"
    },
    {
     "data": {
      "text/html": [
       "<span style=\"color:cyan\"> |-Score: 0.8773333430290222</span>"
      ],
      "text/plain": [
       "<IPython.core.display.HTML object>"
      ]
     },
     "metadata": {},
     "output_type": "display_data"
    },
    {
     "data": {
      "text/html": [
       "<span style=\"color:cyan\"> |-Best step: 0</span>"
      ],
      "text/plain": [
       "<IPython.core.display.HTML object>"
      ]
     },
     "metadata": {},
     "output_type": "display_data"
    },
    {
     "data": {
      "text/html": [
       "<span style=\"color:#7E57C2\"><h2 style=\"font-size:16px\">Hyperparameters:</h2></span>"
      ],
      "text/plain": [
       "<IPython.core.display.HTML object>"
      ]
     },
     "metadata": {},
     "output_type": "display_data"
    },
    {
     "data": {
      "text/html": [
       "<span style=\"color:cyan\"> |-dense_activation: tanh</span>"
      ],
      "text/plain": [
       "<IPython.core.display.HTML object>"
      ]
     },
     "metadata": {},
     "output_type": "display_data"
    },
    {
     "data": {
      "text/html": [
       "<span style=\"color:blue\"> |-dropout: 0.4</span>"
      ],
      "text/plain": [
       "<IPython.core.display.HTML object>"
      ]
     },
     "metadata": {},
     "output_type": "display_data"
    },
    {
     "data": {
      "text/html": [
       "<span style=\"color:cyan\"> |-learning_rate: 0.0017548176662689568</span>"
      ],
      "text/plain": [
       "<IPython.core.display.HTML object>"
      ]
     },
     "metadata": {},
     "output_type": "display_data"
    },
    {
     "name": "stdout",
     "output_type": "stream",
     "text": [
      "Epoch 1/10\n",
      "375/375 - 9s - loss: 0.4004 - accuracy: 0.8122 - val_loss: 0.3462 - val_accuracy: 0.8523\n",
      "Epoch 2/10\n",
      "375/375 - 9s - loss: 0.1436 - accuracy: 0.9473 - val_loss: 0.4289 - val_accuracy: 0.8430\n",
      "Epoch 3/10\n",
      "375/375 - 6s - loss: 0.0578 - accuracy: 0.9795 - val_loss: 0.5335 - val_accuracy: 0.8593\n",
      "Epoch 4/10\n",
      "375/375 - 6s - loss: 0.0293 - accuracy: 0.9902 - val_loss: 0.9021 - val_accuracy: 0.8227\n",
      "Epoch 5/10\n",
      "375/375 - 6s - loss: 0.0305 - accuracy: 0.9879 - val_loss: 0.7159 - val_accuracy: 0.8623\n",
      "Epoch 6/10\n",
      "375/375 - 6s - loss: 0.0214 - accuracy: 0.9921 - val_loss: 0.8210 - val_accuracy: 0.8650\n",
      "Epoch 7/10\n",
      "375/375 - 6s - loss: 0.0203 - accuracy: 0.9920 - val_loss: 0.8768 - val_accuracy: 0.8603\n",
      "Epoch 8/10\n",
      "375/375 - 7s - loss: 0.0103 - accuracy: 0.9963 - val_loss: 0.9784 - val_accuracy: 0.8597\n",
      "Epoch 9/10\n",
      "375/375 - 7s - loss: 0.0146 - accuracy: 0.9956 - val_loss: 0.9717 - val_accuracy: 0.8557\n",
      "Epoch 10/10\n",
      "375/375 - 7s - loss: 0.0106 - accuracy: 0.9962 - val_loss: 0.8554 - val_accuracy: 0.8457\n",
      "Epoch 1/10\n",
      "375/375 - 9s - loss: 0.4235 - accuracy: 0.7958 - val_loss: 0.3162 - val_accuracy: 0.8697\n",
      "Epoch 2/10\n",
      "375/375 - 9s - loss: 0.1516 - accuracy: 0.9444 - val_loss: 0.3797 - val_accuracy: 0.8540\n",
      "Epoch 3/10\n",
      "375/375 - 9s - loss: 0.0599 - accuracy: 0.9793 - val_loss: 0.5512 - val_accuracy: 0.8560\n",
      "Epoch 4/10\n",
      "375/375 - 9s - loss: 0.0297 - accuracy: 0.9902 - val_loss: 0.7345 - val_accuracy: 0.8567\n",
      "Epoch 5/10\n",
      "375/375 - 9s - loss: 0.0198 - accuracy: 0.9935 - val_loss: 0.8473 - val_accuracy: 0.8503\n",
      "Epoch 6/10\n",
      "375/375 - 9s - loss: 0.0200 - accuracy: 0.9919 - val_loss: 0.8704 - val_accuracy: 0.8530\n",
      "Epoch 7/10\n",
      "375/375 - 9s - loss: 0.0188 - accuracy: 0.9934 - val_loss: 0.9081 - val_accuracy: 0.8560\n",
      "Epoch 8/10\n",
      "375/375 - 9s - loss: 0.0159 - accuracy: 0.9950 - val_loss: 0.9296 - val_accuracy: 0.8613\n",
      "Epoch 9/10\n",
      "375/375 - 9s - loss: 0.0080 - accuracy: 0.9969 - val_loss: 1.0606 - val_accuracy: 0.8597\n",
      "Epoch 10/10\n",
      "375/375 - 9s - loss: 0.0154 - accuracy: 0.9951 - val_loss: 1.0571 - val_accuracy: 0.8563\n"
     ]
    },
    {
     "data": {
      "text/html": [
       "<span style=\"color:#4527A0\"><h1 style=\"font-size:18px\">Trial complete</h1></span>"
      ],
      "text/plain": [
       "<IPython.core.display.HTML object>"
      ]
     },
     "metadata": {},
     "output_type": "display_data"
    },
    {
     "data": {
      "text/html": [
       "<span style=\"color:#4527A0\"><h1 style=\"font-size:18px\">Trial summary</h1></span>"
      ],
      "text/plain": [
       "<IPython.core.display.HTML object>"
      ]
     },
     "metadata": {},
     "output_type": "display_data"
    },
    {
     "data": {
      "text/html": [
       "<span style=\"color:cyan\"> |-Trial ID: 776b81628cc45de0d4203cb7191fb2ef</span>"
      ],
      "text/plain": [
       "<IPython.core.display.HTML object>"
      ]
     },
     "metadata": {},
     "output_type": "display_data"
    },
    {
     "data": {
      "text/html": [
       "<span style=\"color:cyan\"> |-Score: 0.8673333525657654</span>"
      ],
      "text/plain": [
       "<IPython.core.display.HTML object>"
      ]
     },
     "metadata": {},
     "output_type": "display_data"
    },
    {
     "data": {
      "text/html": [
       "<span style=\"color:cyan\"> |-Best step: 0</span>"
      ],
      "text/plain": [
       "<IPython.core.display.HTML object>"
      ]
     },
     "metadata": {},
     "output_type": "display_data"
    },
    {
     "data": {
      "text/html": [
       "<span style=\"color:#7E57C2\"><h2 style=\"font-size:16px\">Hyperparameters:</h2></span>"
      ],
      "text/plain": [
       "<IPython.core.display.HTML object>"
      ]
     },
     "metadata": {},
     "output_type": "display_data"
    },
    {
     "data": {
      "text/html": [
       "<span style=\"color:cyan\"> |-dense_activation: relu</span>"
      ],
      "text/plain": [
       "<IPython.core.display.HTML object>"
      ]
     },
     "metadata": {},
     "output_type": "display_data"
    },
    {
     "data": {
      "text/html": [
       "<span style=\"color:blue\"> |-dropout: 0.1</span>"
      ],
      "text/plain": [
       "<IPython.core.display.HTML object>"
      ]
     },
     "metadata": {},
     "output_type": "display_data"
    },
    {
     "data": {
      "text/html": [
       "<span style=\"color:cyan\"> |-learning_rate: 0.01678830330789694</span>"
      ],
      "text/plain": [
       "<IPython.core.display.HTML object>"
      ]
     },
     "metadata": {},
     "output_type": "display_data"
    },
    {
     "name": "stdout",
     "output_type": "stream",
     "text": [
      "Epoch 1/10\n",
      "375/375 - 9s - loss: 0.6924 - accuracy: 0.5114 - val_loss: 0.6888 - val_accuracy: 0.5143\n",
      "Epoch 2/10\n",
      "375/375 - 9s - loss: 0.6740 - accuracy: 0.5980 - val_loss: 0.6370 - val_accuracy: 0.7897\n",
      "Epoch 3/10\n",
      "375/375 - 9s - loss: 0.5731 - accuracy: 0.7342 - val_loss: 0.4839 - val_accuracy: 0.8417\n",
      "Epoch 4/10\n",
      "375/375 - 9s - loss: 0.4543 - accuracy: 0.8111 - val_loss: 0.3936 - val_accuracy: 0.8560\n",
      "Epoch 5/10\n",
      "375/375 - 9s - loss: 0.3785 - accuracy: 0.8513 - val_loss: 0.3517 - val_accuracy: 0.8610\n",
      "Epoch 6/10\n",
      "375/375 - 9s - loss: 0.3305 - accuracy: 0.8729 - val_loss: 0.3329 - val_accuracy: 0.8667\n",
      "Epoch 7/10\n",
      "375/375 - 10s - loss: 0.2914 - accuracy: 0.8910 - val_loss: 0.3222 - val_accuracy: 0.8717\n",
      "Epoch 8/10\n",
      "375/375 - 9s - loss: 0.2697 - accuracy: 0.8982 - val_loss: 0.3190 - val_accuracy: 0.8727\n",
      "Epoch 9/10\n",
      "375/375 - 9s - loss: 0.2436 - accuracy: 0.9097 - val_loss: 0.3194 - val_accuracy: 0.8733\n",
      "Epoch 10/10\n",
      "375/375 - 9s - loss: 0.2201 - accuracy: 0.9192 - val_loss: 0.3233 - val_accuracy: 0.8737\n",
      "Epoch 1/10\n",
      "375/375 - 9s - loss: 0.6883 - accuracy: 0.5399 - val_loss: 0.6730 - val_accuracy: 0.7347\n",
      "Epoch 2/10\n",
      "375/375 - 9s - loss: 0.6297 - accuracy: 0.6847 - val_loss: 0.5468 - val_accuracy: 0.8130\n",
      "Epoch 3/10\n",
      "375/375 - 9s - loss: 0.4957 - accuracy: 0.7866 - val_loss: 0.4197 - val_accuracy: 0.8417\n",
      "Epoch 4/10\n",
      "375/375 - 9s - loss: 0.3985 - accuracy: 0.8397 - val_loss: 0.3618 - val_accuracy: 0.8570\n",
      "Epoch 5/10\n",
      "375/375 - 9s - loss: 0.3411 - accuracy: 0.8699 - val_loss: 0.3318 - val_accuracy: 0.8707\n",
      "Epoch 6/10\n",
      "375/375 - 9s - loss: 0.2938 - accuracy: 0.8946 - val_loss: 0.3194 - val_accuracy: 0.8730\n",
      "Epoch 7/10\n",
      "375/375 - 9s - loss: 0.2663 - accuracy: 0.9031 - val_loss: 0.3164 - val_accuracy: 0.8727\n",
      "Epoch 8/10\n",
      "375/375 - 9s - loss: 0.2383 - accuracy: 0.9140 - val_loss: 0.3116 - val_accuracy: 0.8757\n",
      "Epoch 9/10\n",
      "375/375 - 9s - loss: 0.2137 - accuracy: 0.9259 - val_loss: 0.3150 - val_accuracy: 0.8773\n",
      "Epoch 10/10\n",
      "375/375 - 9s - loss: 0.1905 - accuracy: 0.9333 - val_loss: 0.3226 - val_accuracy: 0.8747\n"
     ]
    },
    {
     "data": {
      "text/html": [
       "<span style=\"color:#4527A0\"><h1 style=\"font-size:18px\">Trial complete</h1></span>"
      ],
      "text/plain": [
       "<IPython.core.display.HTML object>"
      ]
     },
     "metadata": {},
     "output_type": "display_data"
    },
    {
     "data": {
      "text/html": [
       "<span style=\"color:#4527A0\"><h1 style=\"font-size:18px\">Trial summary</h1></span>"
      ],
      "text/plain": [
       "<IPython.core.display.HTML object>"
      ]
     },
     "metadata": {},
     "output_type": "display_data"
    },
    {
     "data": {
      "text/html": [
       "<span style=\"color:cyan\"> |-Trial ID: 3b89b1f1571d140446f071c2aca07ac1</span>"
      ],
      "text/plain": [
       "<IPython.core.display.HTML object>"
      ]
     },
     "metadata": {},
     "output_type": "display_data"
    },
    {
     "data": {
      "text/html": [
       "<span style=\"color:cyan\"> |-Score: 0.8754999935626984</span>"
      ],
      "text/plain": [
       "<IPython.core.display.HTML object>"
      ]
     },
     "metadata": {},
     "output_type": "display_data"
    },
    {
     "data": {
      "text/html": [
       "<span style=\"color:cyan\"> |-Best step: 0</span>"
      ],
      "text/plain": [
       "<IPython.core.display.HTML object>"
      ]
     },
     "metadata": {},
     "output_type": "display_data"
    },
    {
     "data": {
      "text/html": [
       "<span style=\"color:#7E57C2\"><h2 style=\"font-size:16px\">Hyperparameters:</h2></span>"
      ],
      "text/plain": [
       "<IPython.core.display.HTML object>"
      ]
     },
     "metadata": {},
     "output_type": "display_data"
    },
    {
     "data": {
      "text/html": [
       "<span style=\"color:cyan\"> |-dense_activation: relu</span>"
      ],
      "text/plain": [
       "<IPython.core.display.HTML object>"
      ]
     },
     "metadata": {},
     "output_type": "display_data"
    },
    {
     "data": {
      "text/html": [
       "<span style=\"color:blue\"> |-dropout: 0.7000000000000001</span>"
      ],
      "text/plain": [
       "<IPython.core.display.HTML object>"
      ]
     },
     "metadata": {},
     "output_type": "display_data"
    },
    {
     "data": {
      "text/html": [
       "<span style=\"color:cyan\"> |-learning_rate: 0.0009359659238480391</span>"
      ],
      "text/plain": [
       "<IPython.core.display.HTML object>"
      ]
     },
     "metadata": {},
     "output_type": "display_data"
    },
    {
     "name": "stdout",
     "output_type": "stream",
     "text": [
      "INFO:tensorflow:Oracle triggered exit\n"
     ]
    },
    {
     "name": "stderr",
     "output_type": "stream",
     "text": [
      "INFO:tensorflow:Oracle triggered exit\n"
     ]
    },
    {
     "data": {
      "application/javascript": [
       "\n",
       "            setTimeout(function() {\n",
       "                var nbb_cell_id = 92;\n",
       "                var nbb_unformatted_code = \"input_shape = (x_train.shape[1],)\\nhypermodel = RegressionHyperModel(input_shape)\\ntuner_rs = RandomSearch(\\n    hypermodel,\\n    objective=\\\"val_accuracy\\\",\\n    seed=42,\\n    max_trials=10,\\n    executions_per_trial=2,\\n    project_name=\\\"hyperparameters\\\",\\n)\\ntuner_rs.search(x_train, y_train, epochs=10, validation_split=0.2, verbose=2)\";\n",
       "                var nbb_formatted_code = \"input_shape = (x_train.shape[1],)\\nhypermodel = RegressionHyperModel(input_shape)\\ntuner_rs = RandomSearch(\\n    hypermodel,\\n    objective=\\\"val_accuracy\\\",\\n    seed=42,\\n    max_trials=10,\\n    executions_per_trial=2,\\n    project_name=\\\"hyperparameters\\\",\\n)\\ntuner_rs.search(x_train, y_train, epochs=10, validation_split=0.2, verbose=2)\";\n",
       "                var nbb_cells = Jupyter.notebook.get_cells();\n",
       "                for (var i = 0; i < nbb_cells.length; ++i) {\n",
       "                    if (nbb_cells[i].input_prompt_number == nbb_cell_id) {\n",
       "                        if (nbb_cells[i].get_text() == nbb_unformatted_code) {\n",
       "                             nbb_cells[i].set_text(nbb_formatted_code);\n",
       "                        }\n",
       "                        break;\n",
       "                    }\n",
       "                }\n",
       "            }, 500);\n",
       "            "
      ],
      "text/plain": [
       "<IPython.core.display.Javascript object>"
      ]
     },
     "metadata": {},
     "output_type": "display_data"
    }
   ],
   "source": [
    "input_shape = (x_train.shape[1],)\n",
    "hypermodel = RegressionHyperModel(input_shape)\n",
    "tuner_rs = RandomSearch(\n",
    "    hypermodel,\n",
    "    objective=\"val_accuracy\",\n",
    "    seed=42,\n",
    "    max_trials=10,\n",
    "    executions_per_trial=2,\n",
    "    project_name=\"hyperparameters\",\n",
    ")\n",
    "tuner_rs.search(x_train, y_train, epochs=10, validation_split=0.2, verbose=2)"
   ]
  },
  {
   "cell_type": "code",
   "execution_count": 93,
   "metadata": {},
   "outputs": [
    {
     "data": {
      "text/html": [
       "<span style=\"color:#4527A0\"><h1 style=\"font-size:18px\">Results summary</h1></span>"
      ],
      "text/plain": [
       "<IPython.core.display.HTML object>"
      ]
     },
     "metadata": {},
     "output_type": "display_data"
    },
    {
     "data": {
      "text/html": [
       "<span style=\"color:cyan\"> |-Results in .\\hyperparameters</span>"
      ],
      "text/plain": [
       "<IPython.core.display.HTML object>"
      ]
     },
     "metadata": {},
     "output_type": "display_data"
    },
    {
     "data": {
      "text/html": [
       "<span style=\"color:cyan\"> |-Showing 10 best trials</span>"
      ],
      "text/plain": [
       "<IPython.core.display.HTML object>"
      ]
     },
     "metadata": {},
     "output_type": "display_data"
    },
    {
     "data": {
      "text/html": [
       "<span style=\"color:cyan\"> |-Objective(name='val_accuracy', direction='max')</span>"
      ],
      "text/plain": [
       "<IPython.core.display.HTML object>"
      ]
     },
     "metadata": {},
     "output_type": "display_data"
    },
    {
     "data": {
      "text/html": [
       "<span style=\"color:#4527A0\"><h1 style=\"font-size:18px\">Trial summary</h1></span>"
      ],
      "text/plain": [
       "<IPython.core.display.HTML object>"
      ]
     },
     "metadata": {},
     "output_type": "display_data"
    },
    {
     "data": {
      "text/html": [
       "<span style=\"color:cyan\"> |-Trial ID: e9653979a7af2c5738d1779d365d96a0</span>"
      ],
      "text/plain": [
       "<IPython.core.display.HTML object>"
      ]
     },
     "metadata": {},
     "output_type": "display_data"
    },
    {
     "data": {
      "text/html": [
       "<span style=\"color:cyan\"> |-Score: 0.879833310842514</span>"
      ],
      "text/plain": [
       "<IPython.core.display.HTML object>"
      ]
     },
     "metadata": {},
     "output_type": "display_data"
    },
    {
     "data": {
      "text/html": [
       "<span style=\"color:cyan\"> |-Best step: 0</span>"
      ],
      "text/plain": [
       "<IPython.core.display.HTML object>"
      ]
     },
     "metadata": {},
     "output_type": "display_data"
    },
    {
     "data": {
      "text/html": [
       "<span style=\"color:#7E57C2\"><h2 style=\"font-size:16px\">Hyperparameters:</h2></span>"
      ],
      "text/plain": [
       "<IPython.core.display.HTML object>"
      ]
     },
     "metadata": {},
     "output_type": "display_data"
    },
    {
     "data": {
      "text/html": [
       "<span style=\"color:cyan\"> |-dense_activation: relu</span>"
      ],
      "text/plain": [
       "<IPython.core.display.HTML object>"
      ]
     },
     "metadata": {},
     "output_type": "display_data"
    },
    {
     "data": {
      "text/html": [
       "<span style=\"color:blue\"> |-dropout: 0.30000000000000004</span>"
      ],
      "text/plain": [
       "<IPython.core.display.HTML object>"
      ]
     },
     "metadata": {},
     "output_type": "display_data"
    },
    {
     "data": {
      "text/html": [
       "<span style=\"color:cyan\"> |-learning_rate: 0.001136419736136108</span>"
      ],
      "text/plain": [
       "<IPython.core.display.HTML object>"
      ]
     },
     "metadata": {},
     "output_type": "display_data"
    },
    {
     "data": {
      "text/html": [
       "<span style=\"color:#4527A0\"><h1 style=\"font-size:18px\">Trial summary</h1></span>"
      ],
      "text/plain": [
       "<IPython.core.display.HTML object>"
      ]
     },
     "metadata": {},
     "output_type": "display_data"
    },
    {
     "data": {
      "text/html": [
       "<span style=\"color:cyan\"> |-Trial ID: 3418f96c33ee99868a13e90eacc0d7f0</span>"
      ],
      "text/plain": [
       "<IPython.core.display.HTML object>"
      ]
     },
     "metadata": {},
     "output_type": "display_data"
    },
    {
     "data": {
      "text/html": [
       "<span style=\"color:cyan\"> |-Score: 0.8789999783039093</span>"
      ],
      "text/plain": [
       "<IPython.core.display.HTML object>"
      ]
     },
     "metadata": {},
     "output_type": "display_data"
    },
    {
     "data": {
      "text/html": [
       "<span style=\"color:cyan\"> |-Best step: 0</span>"
      ],
      "text/plain": [
       "<IPython.core.display.HTML object>"
      ]
     },
     "metadata": {},
     "output_type": "display_data"
    },
    {
     "data": {
      "text/html": [
       "<span style=\"color:#7E57C2\"><h2 style=\"font-size:16px\">Hyperparameters:</h2></span>"
      ],
      "text/plain": [
       "<IPython.core.display.HTML object>"
      ]
     },
     "metadata": {},
     "output_type": "display_data"
    },
    {
     "data": {
      "text/html": [
       "<span style=\"color:cyan\"> |-dense_activation: relu</span>"
      ],
      "text/plain": [
       "<IPython.core.display.HTML object>"
      ]
     },
     "metadata": {},
     "output_type": "display_data"
    },
    {
     "data": {
      "text/html": [
       "<span style=\"color:blue\"> |-dropout: 0.6000000000000001</span>"
      ],
      "text/plain": [
       "<IPython.core.display.HTML object>"
      ]
     },
     "metadata": {},
     "output_type": "display_data"
    },
    {
     "data": {
      "text/html": [
       "<span style=\"color:cyan\"> |-learning_rate: 0.001681154540009978</span>"
      ],
      "text/plain": [
       "<IPython.core.display.HTML object>"
      ]
     },
     "metadata": {},
     "output_type": "display_data"
    },
    {
     "data": {
      "text/html": [
       "<span style=\"color:#4527A0\"><h1 style=\"font-size:18px\">Trial summary</h1></span>"
      ],
      "text/plain": [
       "<IPython.core.display.HTML object>"
      ]
     },
     "metadata": {},
     "output_type": "display_data"
    },
    {
     "data": {
      "text/html": [
       "<span style=\"color:cyan\"> |-Trial ID: 12140ccae44bb51821bd54bb60e8199d</span>"
      ],
      "text/plain": [
       "<IPython.core.display.HTML object>"
      ]
     },
     "metadata": {},
     "output_type": "display_data"
    },
    {
     "data": {
      "text/html": [
       "<span style=\"color:cyan\"> |-Score: 0.8774999976158142</span>"
      ],
      "text/plain": [
       "<IPython.core.display.HTML object>"
      ]
     },
     "metadata": {},
     "output_type": "display_data"
    },
    {
     "data": {
      "text/html": [
       "<span style=\"color:cyan\"> |-Best step: 0</span>"
      ],
      "text/plain": [
       "<IPython.core.display.HTML object>"
      ]
     },
     "metadata": {},
     "output_type": "display_data"
    },
    {
     "data": {
      "text/html": [
       "<span style=\"color:#7E57C2\"><h2 style=\"font-size:16px\">Hyperparameters:</h2></span>"
      ],
      "text/plain": [
       "<IPython.core.display.HTML object>"
      ]
     },
     "metadata": {},
     "output_type": "display_data"
    },
    {
     "data": {
      "text/html": [
       "<span style=\"color:cyan\"> |-dense_activation: relu</span>"
      ],
      "text/plain": [
       "<IPython.core.display.HTML object>"
      ]
     },
     "metadata": {},
     "output_type": "display_data"
    },
    {
     "data": {
      "text/html": [
       "<span style=\"color:blue\"> |-dropout: 0.5</span>"
      ],
      "text/plain": [
       "<IPython.core.display.HTML object>"
      ]
     },
     "metadata": {},
     "output_type": "display_data"
    },
    {
     "data": {
      "text/html": [
       "<span style=\"color:cyan\"> |-learning_rate: 0.0031089211420179527</span>"
      ],
      "text/plain": [
       "<IPython.core.display.HTML object>"
      ]
     },
     "metadata": {},
     "output_type": "display_data"
    },
    {
     "data": {
      "text/html": [
       "<span style=\"color:#4527A0\"><h1 style=\"font-size:18px\">Trial summary</h1></span>"
      ],
      "text/plain": [
       "<IPython.core.display.HTML object>"
      ]
     },
     "metadata": {},
     "output_type": "display_data"
    },
    {
     "data": {
      "text/html": [
       "<span style=\"color:cyan\"> |-Trial ID: cda4b8d8c4c6e78c8cad90b98b1e8b11</span>"
      ],
      "text/plain": [
       "<IPython.core.display.HTML object>"
      ]
     },
     "metadata": {},
     "output_type": "display_data"
    },
    {
     "data": {
      "text/html": [
       "<span style=\"color:cyan\"> |-Score: 0.8773333430290222</span>"
      ],
      "text/plain": [
       "<IPython.core.display.HTML object>"
      ]
     },
     "metadata": {},
     "output_type": "display_data"
    },
    {
     "data": {
      "text/html": [
       "<span style=\"color:cyan\"> |-Best step: 0</span>"
      ],
      "text/plain": [
       "<IPython.core.display.HTML object>"
      ]
     },
     "metadata": {},
     "output_type": "display_data"
    },
    {
     "data": {
      "text/html": [
       "<span style=\"color:#7E57C2\"><h2 style=\"font-size:16px\">Hyperparameters:</h2></span>"
      ],
      "text/plain": [
       "<IPython.core.display.HTML object>"
      ]
     },
     "metadata": {},
     "output_type": "display_data"
    },
    {
     "data": {
      "text/html": [
       "<span style=\"color:cyan\"> |-dense_activation: tanh</span>"
      ],
      "text/plain": [
       "<IPython.core.display.HTML object>"
      ]
     },
     "metadata": {},
     "output_type": "display_data"
    },
    {
     "data": {
      "text/html": [
       "<span style=\"color:blue\"> |-dropout: 0.4</span>"
      ],
      "text/plain": [
       "<IPython.core.display.HTML object>"
      ]
     },
     "metadata": {},
     "output_type": "display_data"
    },
    {
     "data": {
      "text/html": [
       "<span style=\"color:cyan\"> |-learning_rate: 0.0017548176662689568</span>"
      ],
      "text/plain": [
       "<IPython.core.display.HTML object>"
      ]
     },
     "metadata": {},
     "output_type": "display_data"
    },
    {
     "data": {
      "text/html": [
       "<span style=\"color:#4527A0\"><h1 style=\"font-size:18px\">Trial summary</h1></span>"
      ],
      "text/plain": [
       "<IPython.core.display.HTML object>"
      ]
     },
     "metadata": {},
     "output_type": "display_data"
    },
    {
     "data": {
      "text/html": [
       "<span style=\"color:cyan\"> |-Trial ID: 3b89b1f1571d140446f071c2aca07ac1</span>"
      ],
      "text/plain": [
       "<IPython.core.display.HTML object>"
      ]
     },
     "metadata": {},
     "output_type": "display_data"
    },
    {
     "data": {
      "text/html": [
       "<span style=\"color:cyan\"> |-Score: 0.8754999935626984</span>"
      ],
      "text/plain": [
       "<IPython.core.display.HTML object>"
      ]
     },
     "metadata": {},
     "output_type": "display_data"
    },
    {
     "data": {
      "text/html": [
       "<span style=\"color:cyan\"> |-Best step: 0</span>"
      ],
      "text/plain": [
       "<IPython.core.display.HTML object>"
      ]
     },
     "metadata": {},
     "output_type": "display_data"
    },
    {
     "data": {
      "text/html": [
       "<span style=\"color:#7E57C2\"><h2 style=\"font-size:16px\">Hyperparameters:</h2></span>"
      ],
      "text/plain": [
       "<IPython.core.display.HTML object>"
      ]
     },
     "metadata": {},
     "output_type": "display_data"
    },
    {
     "data": {
      "text/html": [
       "<span style=\"color:cyan\"> |-dense_activation: relu</span>"
      ],
      "text/plain": [
       "<IPython.core.display.HTML object>"
      ]
     },
     "metadata": {},
     "output_type": "display_data"
    },
    {
     "data": {
      "text/html": [
       "<span style=\"color:blue\"> |-dropout: 0.7000000000000001</span>"
      ],
      "text/plain": [
       "<IPython.core.display.HTML object>"
      ]
     },
     "metadata": {},
     "output_type": "display_data"
    },
    {
     "data": {
      "text/html": [
       "<span style=\"color:cyan\"> |-learning_rate: 0.0009359659238480391</span>"
      ],
      "text/plain": [
       "<IPython.core.display.HTML object>"
      ]
     },
     "metadata": {},
     "output_type": "display_data"
    },
    {
     "data": {
      "text/html": [
       "<span style=\"color:#4527A0\"><h1 style=\"font-size:18px\">Trial summary</h1></span>"
      ],
      "text/plain": [
       "<IPython.core.display.HTML object>"
      ]
     },
     "metadata": {},
     "output_type": "display_data"
    },
    {
     "data": {
      "text/html": [
       "<span style=\"color:cyan\"> |-Trial ID: e93237c5179acee616eba9c7340b5243</span>"
      ],
      "text/plain": [
       "<IPython.core.display.HTML object>"
      ]
     },
     "metadata": {},
     "output_type": "display_data"
    },
    {
     "data": {
      "text/html": [
       "<span style=\"color:cyan\"> |-Score: 0.8715000152587891</span>"
      ],
      "text/plain": [
       "<IPython.core.display.HTML object>"
      ]
     },
     "metadata": {},
     "output_type": "display_data"
    },
    {
     "data": {
      "text/html": [
       "<span style=\"color:cyan\"> |-Best step: 0</span>"
      ],
      "text/plain": [
       "<IPython.core.display.HTML object>"
      ]
     },
     "metadata": {},
     "output_type": "display_data"
    },
    {
     "data": {
      "text/html": [
       "<span style=\"color:#7E57C2\"><h2 style=\"font-size:16px\">Hyperparameters:</h2></span>"
      ],
      "text/plain": [
       "<IPython.core.display.HTML object>"
      ]
     },
     "metadata": {},
     "output_type": "display_data"
    },
    {
     "data": {
      "text/html": [
       "<span style=\"color:cyan\"> |-dense_activation: tanh</span>"
      ],
      "text/plain": [
       "<IPython.core.display.HTML object>"
      ]
     },
     "metadata": {},
     "output_type": "display_data"
    },
    {
     "data": {
      "text/html": [
       "<span style=\"color:blue\"> |-dropout: 0.2</span>"
      ],
      "text/plain": [
       "<IPython.core.display.HTML object>"
      ]
     },
     "metadata": {},
     "output_type": "display_data"
    },
    {
     "data": {
      "text/html": [
       "<span style=\"color:cyan\"> |-learning_rate: 0.0071027156749871884</span>"
      ],
      "text/plain": [
       "<IPython.core.display.HTML object>"
      ]
     },
     "metadata": {},
     "output_type": "display_data"
    },
    {
     "data": {
      "text/html": [
       "<span style=\"color:#4527A0\"><h1 style=\"font-size:18px\">Trial summary</h1></span>"
      ],
      "text/plain": [
       "<IPython.core.display.HTML object>"
      ]
     },
     "metadata": {},
     "output_type": "display_data"
    },
    {
     "data": {
      "text/html": [
       "<span style=\"color:cyan\"> |-Trial ID: 776b81628cc45de0d4203cb7191fb2ef</span>"
      ],
      "text/plain": [
       "<IPython.core.display.HTML object>"
      ]
     },
     "metadata": {},
     "output_type": "display_data"
    },
    {
     "data": {
      "text/html": [
       "<span style=\"color:cyan\"> |-Score: 0.8673333525657654</span>"
      ],
      "text/plain": [
       "<IPython.core.display.HTML object>"
      ]
     },
     "metadata": {},
     "output_type": "display_data"
    },
    {
     "data": {
      "text/html": [
       "<span style=\"color:cyan\"> |-Best step: 0</span>"
      ],
      "text/plain": [
       "<IPython.core.display.HTML object>"
      ]
     },
     "metadata": {},
     "output_type": "display_data"
    },
    {
     "data": {
      "text/html": [
       "<span style=\"color:#7E57C2\"><h2 style=\"font-size:16px\">Hyperparameters:</h2></span>"
      ],
      "text/plain": [
       "<IPython.core.display.HTML object>"
      ]
     },
     "metadata": {},
     "output_type": "display_data"
    },
    {
     "data": {
      "text/html": [
       "<span style=\"color:cyan\"> |-dense_activation: relu</span>"
      ],
      "text/plain": [
       "<IPython.core.display.HTML object>"
      ]
     },
     "metadata": {},
     "output_type": "display_data"
    },
    {
     "data": {
      "text/html": [
       "<span style=\"color:blue\"> |-dropout: 0.1</span>"
      ],
      "text/plain": [
       "<IPython.core.display.HTML object>"
      ]
     },
     "metadata": {},
     "output_type": "display_data"
    },
    {
     "data": {
      "text/html": [
       "<span style=\"color:cyan\"> |-learning_rate: 0.01678830330789694</span>"
      ],
      "text/plain": [
       "<IPython.core.display.HTML object>"
      ]
     },
     "metadata": {},
     "output_type": "display_data"
    },
    {
     "data": {
      "text/html": [
       "<span style=\"color:#4527A0\"><h1 style=\"font-size:18px\">Trial summary</h1></span>"
      ],
      "text/plain": [
       "<IPython.core.display.HTML object>"
      ]
     },
     "metadata": {},
     "output_type": "display_data"
    },
    {
     "data": {
      "text/html": [
       "<span style=\"color:cyan\"> |-Trial ID: 60d31092fa61fc1ba20aee6a31e798fd</span>"
      ],
      "text/plain": [
       "<IPython.core.display.HTML object>"
      ]
     },
     "metadata": {},
     "output_type": "display_data"
    },
    {
     "data": {
      "text/html": [
       "<span style=\"color:cyan\"> |-Score: 0.8643333315849304</span>"
      ],
      "text/plain": [
       "<IPython.core.display.HTML object>"
      ]
     },
     "metadata": {},
     "output_type": "display_data"
    },
    {
     "data": {
      "text/html": [
       "<span style=\"color:cyan\"> |-Best step: 0</span>"
      ],
      "text/plain": [
       "<IPython.core.display.HTML object>"
      ]
     },
     "metadata": {},
     "output_type": "display_data"
    },
    {
     "data": {
      "text/html": [
       "<span style=\"color:#7E57C2\"><h2 style=\"font-size:16px\">Hyperparameters:</h2></span>"
      ],
      "text/plain": [
       "<IPython.core.display.HTML object>"
      ]
     },
     "metadata": {},
     "output_type": "display_data"
    },
    {
     "data": {
      "text/html": [
       "<span style=\"color:cyan\"> |-dense_activation: sigmoid</span>"
      ],
      "text/plain": [
       "<IPython.core.display.HTML object>"
      ]
     },
     "metadata": {},
     "output_type": "display_data"
    },
    {
     "data": {
      "text/html": [
       "<span style=\"color:blue\"> |-dropout: 0.0</span>"
      ],
      "text/plain": [
       "<IPython.core.display.HTML object>"
      ]
     },
     "metadata": {},
     "output_type": "display_data"
    },
    {
     "data": {
      "text/html": [
       "<span style=\"color:cyan\"> |-learning_rate: 0.0004704965297508378</span>"
      ],
      "text/plain": [
       "<IPython.core.display.HTML object>"
      ]
     },
     "metadata": {},
     "output_type": "display_data"
    },
    {
     "data": {
      "text/html": [
       "<span style=\"color:#4527A0\"><h1 style=\"font-size:18px\">Trial summary</h1></span>"
      ],
      "text/plain": [
       "<IPython.core.display.HTML object>"
      ]
     },
     "metadata": {},
     "output_type": "display_data"
    },
    {
     "data": {
      "text/html": [
       "<span style=\"color:cyan\"> |-Trial ID: a24418535055aec51f41aef8a4a7fd07</span>"
      ],
      "text/plain": [
       "<IPython.core.display.HTML object>"
      ]
     },
     "metadata": {},
     "output_type": "display_data"
    },
    {
     "data": {
      "text/html": [
       "<span style=\"color:cyan\"> |-Score: 0.8641666769981384</span>"
      ],
      "text/plain": [
       "<IPython.core.display.HTML object>"
      ]
     },
     "metadata": {},
     "output_type": "display_data"
    },
    {
     "data": {
      "text/html": [
       "<span style=\"color:cyan\"> |-Best step: 0</span>"
      ],
      "text/plain": [
       "<IPython.core.display.HTML object>"
      ]
     },
     "metadata": {},
     "output_type": "display_data"
    },
    {
     "data": {
      "text/html": [
       "<span style=\"color:#7E57C2\"><h2 style=\"font-size:16px\">Hyperparameters:</h2></span>"
      ],
      "text/plain": [
       "<IPython.core.display.HTML object>"
      ]
     },
     "metadata": {},
     "output_type": "display_data"
    },
    {
     "data": {
      "text/html": [
       "<span style=\"color:cyan\"> |-dense_activation: tanh</span>"
      ],
      "text/plain": [
       "<IPython.core.display.HTML object>"
      ]
     },
     "metadata": {},
     "output_type": "display_data"
    },
    {
     "data": {
      "text/html": [
       "<span style=\"color:blue\"> |-dropout: 0.30000000000000004</span>"
      ],
      "text/plain": [
       "<IPython.core.display.HTML object>"
      ]
     },
     "metadata": {},
     "output_type": "display_data"
    },
    {
     "data": {
      "text/html": [
       "<span style=\"color:cyan\"> |-learning_rate: 0.060809957184687714</span>"
      ],
      "text/plain": [
       "<IPython.core.display.HTML object>"
      ]
     },
     "metadata": {},
     "output_type": "display_data"
    },
    {
     "data": {
      "text/html": [
       "<span style=\"color:#4527A0\"><h1 style=\"font-size:18px\">Trial summary</h1></span>"
      ],
      "text/plain": [
       "<IPython.core.display.HTML object>"
      ]
     },
     "metadata": {},
     "output_type": "display_data"
    },
    {
     "data": {
      "text/html": [
       "<span style=\"color:cyan\"> |-Trial ID: cc216b0c6871eb3d59c49790023b6977</span>"
      ],
      "text/plain": [
       "<IPython.core.display.HTML object>"
      ]
     },
     "metadata": {},
     "output_type": "display_data"
    },
    {
     "data": {
      "text/html": [
       "<span style=\"color:cyan\"> |-Score: 0.5053333044052124</span>"
      ],
      "text/plain": [
       "<IPython.core.display.HTML object>"
      ]
     },
     "metadata": {},
     "output_type": "display_data"
    },
    {
     "data": {
      "text/html": [
       "<span style=\"color:cyan\"> |-Best step: 0</span>"
      ],
      "text/plain": [
       "<IPython.core.display.HTML object>"
      ]
     },
     "metadata": {},
     "output_type": "display_data"
    },
    {
     "data": {
      "text/html": [
       "<span style=\"color:#7E57C2\"><h2 style=\"font-size:16px\">Hyperparameters:</h2></span>"
      ],
      "text/plain": [
       "<IPython.core.display.HTML object>"
      ]
     },
     "metadata": {},
     "output_type": "display_data"
    },
    {
     "data": {
      "text/html": [
       "<span style=\"color:cyan\"> |-dense_activation: relu</span>"
      ],
      "text/plain": [
       "<IPython.core.display.HTML object>"
      ]
     },
     "metadata": {},
     "output_type": "display_data"
    },
    {
     "data": {
      "text/html": [
       "<span style=\"color:blue\"> |-dropout: 0.9</span>"
      ],
      "text/plain": [
       "<IPython.core.display.HTML object>"
      ]
     },
     "metadata": {},
     "output_type": "display_data"
    },
    {
     "data": {
      "text/html": [
       "<span style=\"color:cyan\"> |-learning_rate: 0.07902373711581126</span>"
      ],
      "text/plain": [
       "<IPython.core.display.HTML object>"
      ]
     },
     "metadata": {},
     "output_type": "display_data"
    },
    {
     "name": "stdout",
     "output_type": "stream",
     "text": [
      "[<kerastuner.engine.hyperparameters.HyperParameters object at 0x0000025881DA16C8>]\n",
      "Model: \"sequential\"\n",
      "_________________________________________________________________\n",
      "Layer (type)                 Output Shape              Param #   \n",
      "=================================================================\n",
      "embedding (Embedding)        (None, None, 16)          1408000   \n",
      "_________________________________________________________________\n",
      "global_average_pooling1d (Gl (None, 16)                0         \n",
      "_________________________________________________________________\n",
      "dropout (Dropout)            (None, 16)                0         \n",
      "_________________________________________________________________\n",
      "dense (Dense)                (None, 16)                272       \n",
      "_________________________________________________________________\n",
      "dropout_1 (Dropout)          (None, 16)                0         \n",
      "_________________________________________________________________\n",
      "dense_1 (Dense)              (None, 1)                 17        \n",
      "=================================================================\n",
      "Total params: 1,408,289\n",
      "Trainable params: 1,408,289\n",
      "Non-trainable params: 0\n",
      "_________________________________________________________________\n"
     ]
    },
    {
     "data": {
      "application/javascript": [
       "\n",
       "            setTimeout(function() {\n",
       "                var nbb_cell_id = 93;\n",
       "                var nbb_unformatted_code = \"# Show a summary of the search\\ntuner_rs.results_summary()\\nprint(tuner_rs.get_best_hyperparameters())\\n\\n# Retrieve the best model.\\nbest_model = tuner_rs.get_best_models(num_models=1)[0]\\n\\n# Save the best model.\\nbest_model.save(\\\"./Models/tuned_imdb.h5\\\")\\nbest_model.summary()\";\n",
       "                var nbb_formatted_code = \"# Show a summary of the search\\ntuner_rs.results_summary()\\nprint(tuner_rs.get_best_hyperparameters())\\n\\n# Retrieve the best model.\\nbest_model = tuner_rs.get_best_models(num_models=1)[0]\\n\\n# Save the best model.\\nbest_model.save(\\\"./Models/tuned_imdb.h5\\\")\\nbest_model.summary()\";\n",
       "                var nbb_cells = Jupyter.notebook.get_cells();\n",
       "                for (var i = 0; i < nbb_cells.length; ++i) {\n",
       "                    if (nbb_cells[i].input_prompt_number == nbb_cell_id) {\n",
       "                        if (nbb_cells[i].get_text() == nbb_unformatted_code) {\n",
       "                             nbb_cells[i].set_text(nbb_formatted_code);\n",
       "                        }\n",
       "                        break;\n",
       "                    }\n",
       "                }\n",
       "            }, 500);\n",
       "            "
      ],
      "text/plain": [
       "<IPython.core.display.Javascript object>"
      ]
     },
     "metadata": {},
     "output_type": "display_data"
    }
   ],
   "source": [
    "# Show a summary of the search\n",
    "tuner_rs.results_summary()\n",
    "print(tuner_rs.get_best_hyperparameters())\n",
    "\n",
    "# Retrieve the best model.\n",
    "best_model = tuner_rs.get_best_models(num_models=1)[0]\n",
    "\n",
    "# Save the best model.\n",
    "best_model.save(\"./Models/tuned_imdb.h5\")\n",
    "best_model.summary()"
   ]
  },
  {
   "cell_type": "code",
   "execution_count": 94,
   "metadata": {},
   "outputs": [
    {
     "name": "stdout",
     "output_type": "stream",
     "text": [
      "782/782 [==============================] - ETA: 0s - loss: 0.3443 - accuracy: 0.90 - ETA: 1s - loss: 0.3517 - accuracy: 0.86 - ETA: 1s - loss: 0.3546 - accuracy: 0.85 - ETA: 1s - loss: 0.3682 - accuracy: 0.86 - ETA: 1s - loss: 0.3676 - accuracy: 0.86 - ETA: 1s - loss: 0.3606 - accuracy: 0.86 - ETA: 1s - loss: 0.3734 - accuracy: 0.86 - ETA: 1s - loss: 0.3745 - accuracy: 0.86 - ETA: 1s - loss: 0.3798 - accuracy: 0.86 - ETA: 1s - loss: 0.3814 - accuracy: 0.86 - ETA: 1s - loss: 0.3849 - accuracy: 0.86 - ETA: 1s - loss: 0.3881 - accuracy: 0.86 - ETA: 1s - loss: 0.3817 - accuracy: 0.86 - ETA: 1s - loss: 0.3832 - accuracy: 0.86 - ETA: 1s - loss: 0.3852 - accuracy: 0.86 - ETA: 1s - loss: 0.3892 - accuracy: 0.86 - ETA: 1s - loss: 0.3957 - accuracy: 0.86 - ETA: 1s - loss: 0.3955 - accuracy: 0.86 - ETA: 1s - loss: 0.3960 - accuracy: 0.86 - ETA: 0s - loss: 0.3955 - accuracy: 0.86 - ETA: 0s - loss: 0.3964 - accuracy: 0.86 - ETA: 0s - loss: 0.3947 - accuracy: 0.86 - ETA: 0s - loss: 0.3947 - accuracy: 0.86 - ETA: 0s - loss: 0.3909 - accuracy: 0.86 - ETA: 0s - loss: 0.3922 - accuracy: 0.86 - ETA: 0s - loss: 0.3930 - accuracy: 0.86 - ETA: 0s - loss: 0.3924 - accuracy: 0.86 - ETA: 0s - loss: 0.3929 - accuracy: 0.86 - ETA: 0s - loss: 0.3918 - accuracy: 0.86 - ETA: 0s - loss: 0.3898 - accuracy: 0.86 - ETA: 0s - loss: 0.3907 - accuracy: 0.86 - ETA: 0s - loss: 0.3903 - accuracy: 0.86 - ETA: 0s - loss: 0.3929 - accuracy: 0.86 - ETA: 0s - loss: 0.3933 - accuracy: 0.86 - ETA: 0s - loss: 0.3939 - accuracy: 0.86 - ETA: 0s - loss: 0.3943 - accuracy: 0.86 - ETA: 0s - loss: 0.3943 - accuracy: 0.86 - ETA: 0s - loss: 0.3949 - accuracy: 0.86 - ETA: 0s - loss: 0.3940 - accuracy: 0.86 - 2s 3ms/step - loss: 0.3931 - accuracy: 0.8616\n"
     ]
    },
    {
     "data": {
      "application/javascript": [
       "\n",
       "            setTimeout(function() {\n",
       "                var nbb_cell_id = 94;\n",
       "                var nbb_unformatted_code = \"loss, accuracy = best_model.evaluate(np.asarray(test_data), np.asarray(test_labels))\";\n",
       "                var nbb_formatted_code = \"loss, accuracy = best_model.evaluate(np.asarray(test_data), np.asarray(test_labels))\";\n",
       "                var nbb_cells = Jupyter.notebook.get_cells();\n",
       "                for (var i = 0; i < nbb_cells.length; ++i) {\n",
       "                    if (nbb_cells[i].input_prompt_number == nbb_cell_id) {\n",
       "                        if (nbb_cells[i].get_text() == nbb_unformatted_code) {\n",
       "                             nbb_cells[i].set_text(nbb_formatted_code);\n",
       "                        }\n",
       "                        break;\n",
       "                    }\n",
       "                }\n",
       "            }, 500);\n",
       "            "
      ],
      "text/plain": [
       "<IPython.core.display.Javascript object>"
      ]
     },
     "metadata": {},
     "output_type": "display_data"
    }
   ],
   "source": [
    "loss, accuracy = best_model.evaluate(np.asarray(test_data), np.asarray(test_labels))"
   ]
  },
  {
   "cell_type": "code",
   "execution_count": 95,
   "metadata": {},
   "outputs": [
    {
     "name": "stdout",
     "output_type": "stream",
     "text": [
      "Model Accuracy: 86.15599870681763 %\n"
     ]
    },
    {
     "data": {
      "application/javascript": [
       "\n",
       "            setTimeout(function() {\n",
       "                var nbb_cell_id = 95;\n",
       "                var nbb_unformatted_code = \"print(\\\"Model Accuracy:\\\", accuracy * 100, \\\"%\\\")\";\n",
       "                var nbb_formatted_code = \"print(\\\"Model Accuracy:\\\", accuracy * 100, \\\"%\\\")\";\n",
       "                var nbb_cells = Jupyter.notebook.get_cells();\n",
       "                for (var i = 0; i < nbb_cells.length; ++i) {\n",
       "                    if (nbb_cells[i].input_prompt_number == nbb_cell_id) {\n",
       "                        if (nbb_cells[i].get_text() == nbb_unformatted_code) {\n",
       "                             nbb_cells[i].set_text(nbb_formatted_code);\n",
       "                        }\n",
       "                        break;\n",
       "                    }\n",
       "                }\n",
       "            }, 500);\n",
       "            "
      ],
      "text/plain": [
       "<IPython.core.display.Javascript object>"
      ]
     },
     "metadata": {},
     "output_type": "display_data"
    }
   ],
   "source": [
    "print(\"Model Accuracy:\", accuracy * 100, \"%\")"
   ]
  },
  {
   "cell_type": "code",
   "execution_count": 96,
   "metadata": {},
   "outputs": [
    {
     "data": {
      "application/javascript": [
       "\n",
       "            setTimeout(function() {\n",
       "                var nbb_cell_id = 96;\n",
       "                var nbb_unformatted_code = \"def encode(s):\\n    encoded = [1]\\n    sentence = s.split()\\n    for word in sentence:\\n        if word.lower() in word_mapping:\\n            encoded.append(word_mapping[word.lower()])\\n        else:\\n            encoded.append(2)\\n    return encoded\";\n",
       "                var nbb_formatted_code = \"def encode(s):\\n    encoded = [1]\\n    sentence = s.split()\\n    for word in sentence:\\n        if word.lower() in word_mapping:\\n            encoded.append(word_mapping[word.lower()])\\n        else:\\n            encoded.append(2)\\n    return encoded\";\n",
       "                var nbb_cells = Jupyter.notebook.get_cells();\n",
       "                for (var i = 0; i < nbb_cells.length; ++i) {\n",
       "                    if (nbb_cells[i].input_prompt_number == nbb_cell_id) {\n",
       "                        if (nbb_cells[i].get_text() == nbb_unformatted_code) {\n",
       "                             nbb_cells[i].set_text(nbb_formatted_code);\n",
       "                        }\n",
       "                        break;\n",
       "                    }\n",
       "                }\n",
       "            }, 500);\n",
       "            "
      ],
      "text/plain": [
       "<IPython.core.display.Javascript object>"
      ]
     },
     "metadata": {},
     "output_type": "display_data"
    }
   ],
   "source": [
    "def encode(s):\n",
    "    encoded = [1]\n",
    "    sentence = s.split()\n",
    "    for word in sentence:\n",
    "        if word.lower() in word_mapping:\n",
    "            encoded.append(word_mapping[word.lower()])\n",
    "        else:\n",
    "            encoded.append(2)\n",
    "    return encoded"
   ]
  },
  {
   "cell_type": "code",
   "execution_count": 101,
   "metadata": {},
   "outputs": [
    {
     "name": "stdout",
     "output_type": "stream",
     "text": [
      "Review:  This was bad\n",
      "Prediction:  0.45199072\n"
     ]
    },
    {
     "data": {
      "application/javascript": [
       "\n",
       "            setTimeout(function() {\n",
       "                var nbb_cell_id = 101;\n",
       "                var nbb_unformatted_code = \"sentence_test = \\\"This was bad\\\"\\nreal_encode = encode(sentence_test)\\nreal_padded = pad_sequences(\\n    [real_encode], maxlen=max_length, truncating=trun_type, value=word_mapping[\\\"<PAD>\\\"]\\n)\\nprint(\\\"Review: \\\", sentence_test)\\npredict = best_model.predict([real_padded])\\nprint(\\\"Prediction: \\\", str(predict[0][0]))\";\n",
       "                var nbb_formatted_code = \"sentence_test = \\\"This was bad\\\"\\nreal_encode = encode(sentence_test)\\nreal_padded = pad_sequences(\\n    [real_encode], maxlen=max_length, truncating=trun_type, value=word_mapping[\\\"<PAD>\\\"]\\n)\\nprint(\\\"Review: \\\", sentence_test)\\npredict = best_model.predict([real_padded])\\nprint(\\\"Prediction: \\\", str(predict[0][0]))\";\n",
       "                var nbb_cells = Jupyter.notebook.get_cells();\n",
       "                for (var i = 0; i < nbb_cells.length; ++i) {\n",
       "                    if (nbb_cells[i].input_prompt_number == nbb_cell_id) {\n",
       "                        if (nbb_cells[i].get_text() == nbb_unformatted_code) {\n",
       "                             nbb_cells[i].set_text(nbb_formatted_code);\n",
       "                        }\n",
       "                        break;\n",
       "                    }\n",
       "                }\n",
       "            }, 500);\n",
       "            "
      ],
      "text/plain": [
       "<IPython.core.display.Javascript object>"
      ]
     },
     "metadata": {},
     "output_type": "display_data"
    }
   ],
   "source": [
    "sentence_test = \"This was bad\"\n",
    "real_encode = encode(sentence_test)\n",
    "real_padded = pad_sequences(\n",
    "    [real_encode], maxlen=max_length, truncating=trun_type, value=word_mapping[\"<PAD>\"]\n",
    ")\n",
    "print(\"Review: \", sentence_test)\n",
    "predict = best_model.predict([real_padded])\n",
    "print(\"Prediction: \", str(predict[0][0]))"
   ]
  }
 ],
 "metadata": {
  "kernelspec": {
   "display_name": "tensorflowgpu",
   "language": "python",
   "name": "tensorflowgpu"
  },
  "language_info": {
   "codemirror_mode": {
    "name": "ipython",
    "version": 3
   },
   "file_extension": ".py",
   "mimetype": "text/x-python",
   "name": "python",
   "nbconvert_exporter": "python",
   "pygments_lexer": "ipython3",
   "version": "3.7.7"
  }
 },
 "nbformat": 4,
 "nbformat_minor": 2
}
